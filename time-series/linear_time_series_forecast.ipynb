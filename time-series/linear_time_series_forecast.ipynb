{
 "cells": [
  {
   "cell_type": "markdown",
   "metadata": {
    "nbpresent": {
     "id": "42b5e80b-ad1d-4335-a1f7-10a91127e3dc"
    }
   },
   "source": [
    "# Time Series Forecasting with Linear Learner\n",
    "_**Using Linear Regression to Forecast Monthly Demand**_\n",
    "\n",
    "---\n",
    "\n",
    "---\n",
    "\n",
    "## Contents\n",
    "\n",
    "1. [Background](#Background)\n",
    "1. [Setup](#Setup)\n",
    "1. [Data](#Data)\n",
    "1. [Train](#Train)\n",
    "1. [Host](#Host)\n",
    "  1. [Forecast](#Forecast)\n",
    "1. [Extensions](#Extensions)\n",
    "\n",
    "---\n",
    "\n",
    "## Background\n",
    "\n",
    "Forecasting is potentially the most broadly relevant machine learning topic there is.  Whether predicting future sales in retail, housing prices in real estate, traffic in cities, or patient visits in healthcare, almost every industry could benefit from improvements in their forecasts.  There are numerous statistical methodologies that have been developed to forecast time-series data, but still, the process for developing forecasts tends to be a mix of objective statistics and subjective interpretations.\n",
    "\n",
    "Properly modeling time-series data takes a great deal of care.  What's the right level of aggregation to model at?  Too granular and the signal gets lost in the noise, too aggregate and important variation is missed.  Also, what is the right cyclicality?  Daily, weekly, monthly?  Are there holiday peaks?  How should we weight recent versus overall trends?\n",
    "\n",
    "Linear regression with appropriate controls for trend, seasonality, and recent behavior, remains a common method for forecasting stable time-series with reasonable volatility.  This notebook will build a linear model to forecast weekly output for US gasoline products starting in 1991 to 2005.  It will focus almost exclusively on the application.  For a more in-depth treatment on forecasting in general, see [Forecasting: Principles & Practice](https://robjhyndman.com/uwafiles/fpp-notes.pdf).  In addition, because our dataset is a single time-series, we'll stick with SageMaker's Linear Learner algorithm.  If we had multiple, related time-series, we would use SageMaker's DeepAR algorithm, which is specifically designed for forecasting.  See the [DeepAR Notebook](https://github.com/awslabs/amazon-sagemaker-examples/blob/master/introduction_to_amazon_algorithms/deepar_synthetic/deepar_synthetic.ipynb) for more detail.\n",
    "\n",
    "---\n",
    "\n",
    "## Setup\n",
    "\n",
    "_This notebook was created and tested on an ml.m4.xlarge notebook instance._\n",
    "\n",
    "Let's start by specifying:\n",
    "\n",
    "- The S3 bucket and prefix that you want to use for training and model data.  This should be within the same region as the Notebook Instance, training, and hosting.\n",
    "- The IAM role arn used to give training and hosting access to your data. See the documentation for how to create these.  Note, if more than one role is required for notebook instances, training, and/or hosting, please replace the boto regexp with a the appropriate full IAM role arn string(s)."
   ]
  },
  {
   "cell_type": "code",
   "execution_count": 1,
   "metadata": {
    "isConfigCell": true,
    "tags": [
     "parameters"
    ]
   },
   "outputs": [],
   "source": [
    "bucket = 'beyoung-sagemaker'\n",
    "prefix = 'sagemaker/linear-time-series-forecast'\n",
    " \n",
    "# Define IAM role\n",
    "import boto3\n",
    "import re\n",
    "from sagemaker import get_execution_role\n",
    "\n",
    "role = get_execution_role()"
   ]
  },
  {
   "cell_type": "markdown",
   "metadata": {
    "nbpresent": {
     "id": "b2548d66-6f8f-426f-9cda-7a3cd1459abd"
    }
   },
   "source": [
    "Now we'll import the Python libraries we'll need."
   ]
  },
  {
   "cell_type": "code",
   "execution_count": 2,
   "metadata": {
    "nbpresent": {
     "id": "bb88eea9-27f3-4e47-9133-663911ea09a9"
    }
   },
   "outputs": [],
   "source": [
    "import pandas as pd\n",
    "import numpy as np\n",
    "import matplotlib.pyplot as plt\n",
    "import io\n",
    "import os\n",
    "import time\n",
    "import json\n",
    "import sagemaker.amazon.common as smac\n",
    "import sagemaker\n",
    "from sagemaker.predictor import csv_serializer, json_deserializer"
   ]
  },
  {
   "cell_type": "markdown",
   "metadata": {
    "nbpresent": {
     "id": "142777ae-c072-448e-b941-72bc75735d01"
    }
   },
   "source": [
    "---\n",
    "## Data\n",
    "\n",
    "Let's download the data.  More information about this dataset can be found [here](https://rdrr.io/github/robjhyndman/fpp/man/gasoline.html)."
   ]
  },
  {
   "cell_type": "code",
   "execution_count": 3,
   "metadata": {
    "nbpresent": {
     "id": "78105bc7-ce5d-4003-84f6-4dc5700c5945"
    }
   },
   "outputs": [
    {
     "name": "stdout",
     "output_type": "stream",
     "text": [
      "--2020-03-19 14:15:00--  http://robjhyndman.com/data/gasoline.csv\n",
      "Resolving robjhyndman.com (robjhyndman.com)... 35.208.79.31\n",
      "Connecting to robjhyndman.com (robjhyndman.com)|35.208.79.31|:80... connected.\n",
      "HTTP request sent, awaiting response... 301 Moved Permanently\n",
      "Location: https://robjhyndman.com/data/gasoline.csv [following]\n",
      "--2020-03-19 14:15:01--  https://robjhyndman.com/data/gasoline.csv\n",
      "Connecting to robjhyndman.com (robjhyndman.com)|35.208.79.31|:443... connected.\n",
      "HTTP request sent, awaiting response... 200 OK\n",
      "Length: 4530 (4.4K) [text/csv]\n",
      "Saving to: ‘gasoline.csv’\n",
      "\n",
      "gasoline.csv        100%[===================>]   4.42K  --.-KB/s    in 0s      \n",
      "\n",
      "2020-03-19 14:15:01 (568 MB/s) - ‘gasoline.csv’ saved [4530/4530]\n",
      "\n"
     ]
    }
   ],
   "source": [
    "!wget http://robjhyndman.com/data/gasoline.csv"
   ]
  },
  {
   "cell_type": "markdown",
   "metadata": {
    "nbpresent": {
     "id": "b472326f-3584-4b61-aecc-04b35486a1ab"
    }
   },
   "source": [
    "And take a look at it."
   ]
  },
  {
   "cell_type": "code",
   "execution_count": 4,
   "metadata": {
    "nbpresent": {
     "id": "f8976dad-6897-4c7e-8c95-ae2f53070ef5"
    }
   },
   "outputs": [
    {
     "data": {
      "text/html": [
       "<div>\n",
       "<style scoped>\n",
       "    .dataframe tbody tr th:only-of-type {\n",
       "        vertical-align: middle;\n",
       "    }\n",
       "\n",
       "    .dataframe tbody tr th {\n",
       "        vertical-align: top;\n",
       "    }\n",
       "\n",
       "    .dataframe thead th {\n",
       "        text-align: right;\n",
       "    }\n",
       "</style>\n",
       "<table border=\"1\" class=\"dataframe\">\n",
       "  <thead>\n",
       "    <tr style=\"text-align: right;\">\n",
       "      <th></th>\n",
       "      <th>thousands_barrels</th>\n",
       "    </tr>\n",
       "  </thead>\n",
       "  <tbody>\n",
       "    <tr>\n",
       "      <th>0</th>\n",
       "      <td>6621.0</td>\n",
       "    </tr>\n",
       "    <tr>\n",
       "      <th>1</th>\n",
       "      <td>6433.0</td>\n",
       "    </tr>\n",
       "    <tr>\n",
       "      <th>2</th>\n",
       "      <td>6582.0</td>\n",
       "    </tr>\n",
       "    <tr>\n",
       "      <th>3</th>\n",
       "      <td>7224.0</td>\n",
       "    </tr>\n",
       "    <tr>\n",
       "      <th>4</th>\n",
       "      <td>6875.0</td>\n",
       "    </tr>\n",
       "  </tbody>\n",
       "</table>\n",
       "</div>"
      ],
      "text/plain": [
       "   thousands_barrels\n",
       "0             6621.0\n",
       "1             6433.0\n",
       "2             6582.0\n",
       "3             7224.0\n",
       "4             6875.0"
      ]
     },
     "metadata": {},
     "output_type": "display_data"
    },
    {
     "data": {
      "image/png": "[encoded data removed]",
      "text/plain": [
       "<Figure size 432x288 with 1 Axes>"
      ]
     },
     "metadata": {},
     "output_type": "display_data"
    }
   ],
   "source": [
    "gas = pd.read_csv('gasoline.csv', header=None, names=['thousands_barrels'])\n",
    "display(gas.head())\n",
    "plt.plot(gas)\n",
    "plt.show()"
   ]
  },
  {
   "cell_type": "code",
   "execution_count": 5,
   "metadata": {},
   "outputs": [
    {
     "data": {
      "text/plain": [
       "(745, 1)"
      ]
     },
     "execution_count": 5,
     "metadata": {},
     "output_type": "execute_result"
    }
   ],
   "source": [
    "gas.shape"
   ]
  },
  {
   "cell_type": "markdown",
   "metadata": {
    "nbpresent": {
     "id": "1c44e72e-1b0d-4dcb-91b9-9b9f28a697b0"
    }
   },
   "source": [
    "As we can see, there's a definitive upward trend, some yearly seasonality, but sufficient volatility to make the problem non-trivial.  There are several unexpected dips and years with more or less pronounced seasonality.  These same characteristics are common in many topline time-series.\n",
    "\n",
    "Next we'll transform the dataset to make it look a bit more like a standard prediction model.  Our target variable is `thousands_barrels`.  Let's create explanatory features, like:\n",
    "- `thousands_barrels` for each of the 4 preceeding weeks.\n",
    "- Trend.  The chart above suggests the trend is simply linear, but we'll create log and quadratic trends in case.\n",
    "- Indicator variables {0 or 1} that will help capture seasonality and key holiday weeks."
   ]
  },
  {
   "cell_type": "code",
   "execution_count": 6,
   "metadata": {
    "nbpresent": {
     "id": "6af8d66e-2ef6-4e8d-bb23-d2bd3dbb0b20"
    }
   },
   "outputs": [],
   "source": [
    "gas['thousands_barrels_lag1'] = gas['thousands_barrels'].shift(1)\n",
    "gas['thousands_barrels_lag2'] = gas['thousands_barrels'].shift(2)\n",
    "gas['thousands_barrels_lag3'] = gas['thousands_barrels'].shift(3)\n",
    "gas['thousands_barrels_lag4'] = gas['thousands_barrels'].shift(4)\n",
    "gas['trend'] = np.arange(len(gas))\n",
    "gas['log_trend'] = np.log1p(np.arange(len(gas)))\n",
    "gas['sq_trend'] = np.arange(len(gas)) ** 2\n",
    "weeks = pd.get_dummies(np.array(list(range(52)) * 15)[:len(gas)], prefix='week')\n",
    "gas = pd.concat([gas, weeks], axis=1)"
   ]
  },
  {
   "cell_type": "code",
   "execution_count": 7,
   "metadata": {},
   "outputs": [
    {
     "data": {
      "text/plain": [
       "<bound method NDFrame.head of      thousands_barrels  thousands_barrels_lag1  thousands_barrels_lag2  \\\n",
       "0               6621.0                     NaN                     NaN   \n",
       "1               6433.0                  6621.0                     NaN   \n",
       "2               6582.0                  6433.0                  6621.0   \n",
       "3               7224.0                  6582.0                  6433.0   \n",
       "4               6875.0                  7224.0                  6582.0   \n",
       "5               6947.0                  6875.0                  7224.0   \n",
       "6               7328.0                  6947.0                  6875.0   \n",
       "7               6777.0                  7328.0                  6947.0   \n",
       "8               7503.0                  6777.0                  7328.0   \n",
       "9               6916.0                  7503.0                  6777.0   \n",
       "10              7045.0                  6916.0                  7503.0   \n",
       "11              6956.0                  7045.0                  6916.0   \n",
       "12              6976.0                  6956.0                  7045.0   \n",
       "13              7185.0                  6976.0                  6956.0   \n",
       "14              6899.0                  7185.0                  6976.0   \n",
       "15              7396.0                  6899.0                  7185.0   \n",
       "16              7287.0                  7396.0                  6899.0   \n",
       "17              7220.0                  7287.0                  7396.0   \n",
       "18              7651.0                  7220.0                  7287.0   \n",
       "19              7720.0                  7651.0                  7220.0   \n",
       "20              7543.0                  7720.0                  7651.0   \n",
       "21              7961.0                  7543.0                  7720.0   \n",
       "22              7327.0                  7961.0                  7543.0   \n",
       "23              7380.0                  7327.0                  7961.0   \n",
       "24              7501.0                  7380.0                  7327.0   \n",
       "25              7605.0                  7501.0                  7380.0   \n",
       "26              7584.0                  7605.0                  7501.0   \n",
       "27              7401.0                  7584.0                  7605.0   \n",
       "28              7505.0                  7401.0                  7584.0   \n",
       "29              7427.0                  7505.0                  7401.0   \n",
       "..                 ...                     ...                     ...   \n",
       "715             8883.0                  9177.0                  8917.0   \n",
       "716             8977.0                  8883.0                  9177.0   \n",
       "717             9217.0                  8977.0                  8883.0   \n",
       "718             9237.0                  9217.0                  8977.0   \n",
       "719             8988.0                  9237.0                  9217.0   \n",
       "720             9204.0                  8988.0                  9237.0   \n",
       "721             9107.0                  9204.0                  8988.0   \n",
       "722             9268.0                  9107.0                  9204.0   \n",
       "723             9068.0                  9268.0                  9107.0   \n",
       "724             9329.0                  9068.0                  9268.0   \n",
       "725             9287.0                  9329.0                  9068.0   \n",
       "726             8710.0                  9287.0                  9329.0   \n",
       "727             8695.0                  8710.0                  9287.0   \n",
       "728             8881.0                  8695.0                  8710.0   \n",
       "729             8848.0                  8881.0                  8695.0   \n",
       "730             8837.0                  8848.0                  8881.0   \n",
       "731             8825.0                  8837.0                  8848.0   \n",
       "732             8898.0                  8825.0                  8837.0   \n",
       "733             8884.0                  8898.0                  8825.0   \n",
       "734             9014.0                  8884.0                  8898.0   \n",
       "735             9131.0                  9014.0                  8884.0   \n",
       "736             9069.0                  9131.0                  9014.0   \n",
       "737             9075.0                  9069.0                  9131.0   \n",
       "738             9095.0                  9075.0                  9069.0   \n",
       "739             9089.0                  9095.0                  9075.0   \n",
       "740             9170.0                  9089.0                  9095.0   \n",
       "741             9306.0                  9170.0                  9089.0   \n",
       "742             9024.0                  9306.0                  9170.0   \n",
       "743             9175.0                  9024.0                  9306.0   \n",
       "744             9269.0                  9175.0                  9024.0   \n",
       "\n",
       "     thousands_barrels_lag3  thousands_barrels_lag4  trend  log_trend  \\\n",
       "0                       NaN                     NaN      0   0.000000   \n",
       "1                       NaN                     NaN      1   0.693147   \n",
       "2                       NaN                     NaN      2   1.098612   \n",
       "3                    6621.0                     NaN      3   1.386294   \n",
       "4                    6433.0                  6621.0      4   1.609438   \n",
       "5                    6582.0                  6433.0      5   1.791759   \n",
       "6                    7224.0                  6582.0      6   1.945910   \n",
       "7                    6875.0                  7224.0      7   2.079442   \n",
       "8                    6947.0                  6875.0      8   2.197225   \n",
       "9                    7328.0                  6947.0      9   2.302585   \n",
       "10                   6777.0                  7328.0     10   2.397895   \n",
       "11                   7503.0                  6777.0     11   2.484907   \n",
       "12                   6916.0                  7503.0     12   2.564949   \n",
       "13                   7045.0                  6916.0     13   2.639057   \n",
       "14                   6956.0                  7045.0     14   2.708050   \n",
       "15                   6976.0                  6956.0     15   2.772589   \n",
       "16                   7185.0                  6976.0     16   2.833213   \n",
       "17                   6899.0                  7185.0     17   2.890372   \n",
       "18                   7396.0                  6899.0     18   2.944439   \n",
       "19                   7287.0                  7396.0     19   2.995732   \n",
       "20                   7220.0                  7287.0     20   3.044522   \n",
       "21                   7651.0                  7220.0     21   3.091042   \n",
       "22                   7720.0                  7651.0     22   3.135494   \n",
       "23                   7543.0                  7720.0     23   3.178054   \n",
       "24                   7961.0                  7543.0     24   3.218876   \n",
       "25                   7327.0                  7961.0     25   3.258097   \n",
       "26                   7380.0                  7327.0     26   3.295837   \n",
       "27                   7501.0                  7380.0     27   3.332205   \n",
       "28                   7605.0                  7501.0     28   3.367296   \n",
       "29                   7584.0                  7605.0     29   3.401197   \n",
       "..                      ...                     ...    ...        ...   \n",
       "715                  8915.0                  8922.0    715   6.573680   \n",
       "716                  8917.0                  8915.0    716   6.575076   \n",
       "717                  9177.0                  8917.0    717   6.576470   \n",
       "718                  8883.0                  9177.0    718   6.577861   \n",
       "719                  8977.0                  8883.0    719   6.579251   \n",
       "720                  9217.0                  8977.0    720   6.580639   \n",
       "721                  9237.0                  9217.0    721   6.582025   \n",
       "722                  8988.0                  9237.0    722   6.583409   \n",
       "723                  9204.0                  8988.0    723   6.584791   \n",
       "724                  9107.0                  9204.0    724   6.586172   \n",
       "725                  9268.0                  9107.0    725   6.587550   \n",
       "726                  9068.0                  9268.0    726   6.588926   \n",
       "727                  9329.0                  9068.0    727   6.590301   \n",
       "728                  9287.0                  9329.0    728   6.591674   \n",
       "729                  8710.0                  9287.0    729   6.593045   \n",
       "730                  8695.0                  8710.0    730   6.594413   \n",
       "731                  8881.0                  8695.0    731   6.595781   \n",
       "732                  8848.0                  8881.0    732   6.597146   \n",
       "733                  8837.0                  8848.0    733   6.598509   \n",
       "734                  8825.0                  8837.0    734   6.599870   \n",
       "735                  8898.0                  8825.0    735   6.601230   \n",
       "736                  8884.0                  8898.0    736   6.602588   \n",
       "737                  9014.0                  8884.0    737   6.603944   \n",
       "738                  9131.0                  9014.0    738   6.605298   \n",
       "739                  9069.0                  9131.0    739   6.606650   \n",
       "740                  9075.0                  9069.0    740   6.608001   \n",
       "741                  9095.0                  9075.0    741   6.609349   \n",
       "742                  9089.0                  9095.0    742   6.610696   \n",
       "743                  9170.0                  9089.0    743   6.612041   \n",
       "744                  9306.0                  9170.0    744   6.613384   \n",
       "\n",
       "     sq_trend  week_0  week_1  ...  week_42  week_43  week_44  week_45  \\\n",
       "0           0       1       0  ...        0        0        0        0   \n",
       "1           1       0       1  ...        0        0        0        0   \n",
       "2           4       0       0  ...        0        0        0        0   \n",
       "3           9       0       0  ...        0        0        0        0   \n",
       "4          16       0       0  ...        0        0        0        0   \n",
       "5          25       0       0  ...        0        0        0        0   \n",
       "6          36       0       0  ...        0        0        0        0   \n",
       "7          49       0       0  ...        0        0        0        0   \n",
       "8          64       0       0  ...        0        0        0        0   \n",
       "9          81       0       0  ...        0        0        0        0   \n",
       "10        100       0       0  ...        0        0        0        0   \n",
       "11        121       0       0  ...        0        0        0        0   \n",
       "12        144       0       0  ...        0        0        0        0   \n",
       "13        169       0       0  ...        0        0        0        0   \n",
       "14        196       0       0  ...        0        0        0        0   \n",
       "15        225       0       0  ...        0        0        0        0   \n",
       "16        256       0       0  ...        0        0        0        0   \n",
       "17        289       0       0  ...        0        0        0        0   \n",
       "18        324       0       0  ...        0        0        0        0   \n",
       "19        361       0       0  ...        0        0        0        0   \n",
       "20        400       0       0  ...        0        0        0        0   \n",
       "21        441       0       0  ...        0        0        0        0   \n",
       "22        484       0       0  ...        0        0        0        0   \n",
       "23        529       0       0  ...        0        0        0        0   \n",
       "24        576       0       0  ...        0        0        0        0   \n",
       "25        625       0       0  ...        0        0        0        0   \n",
       "26        676       0       0  ...        0        0        0        0   \n",
       "27        729       0       0  ...        0        0        0        0   \n",
       "28        784       0       0  ...        0        0        0        0   \n",
       "29        841       0       0  ...        0        0        0        0   \n",
       "..        ...     ...     ...  ...      ...      ...      ...      ...   \n",
       "715    511225       0       0  ...        0        0        0        0   \n",
       "716    512656       0       0  ...        0        0        0        0   \n",
       "717    514089       0       0  ...        0        0        0        0   \n",
       "718    515524       0       0  ...        1        0        0        0   \n",
       "719    516961       0       0  ...        0        1        0        0   \n",
       "720    518400       0       0  ...        0        0        1        0   \n",
       "721    519841       0       0  ...        0        0        0        1   \n",
       "722    521284       0       0  ...        0        0        0        0   \n",
       "723    522729       0       0  ...        0        0        0        0   \n",
       "724    524176       0       0  ...        0        0        0        0   \n",
       "725    525625       0       0  ...        0        0        0        0   \n",
       "726    527076       0       0  ...        0        0        0        0   \n",
       "727    528529       0       0  ...        0        0        0        0   \n",
       "728    529984       1       0  ...        0        0        0        0   \n",
       "729    531441       0       1  ...        0        0        0        0   \n",
       "730    532900       0       0  ...        0        0        0        0   \n",
       "731    534361       0       0  ...        0        0        0        0   \n",
       "732    535824       0       0  ...        0        0        0        0   \n",
       "733    537289       0       0  ...        0        0        0        0   \n",
       "734    538756       0       0  ...        0        0        0        0   \n",
       "735    540225       0       0  ...        0        0        0        0   \n",
       "736    541696       0       0  ...        0        0        0        0   \n",
       "737    543169       0       0  ...        0        0        0        0   \n",
       "738    544644       0       0  ...        0        0        0        0   \n",
       "739    546121       0       0  ...        0        0        0        0   \n",
       "740    547600       0       0  ...        0        0        0        0   \n",
       "741    549081       0       0  ...        0        0        0        0   \n",
       "742    550564       0       0  ...        0        0        0        0   \n",
       "743    552049       0       0  ...        0        0        0        0   \n",
       "744    553536       0       0  ...        0        0        0        0   \n",
       "\n",
       "     week_46  week_47  week_48  week_49  week_50  week_51  \n",
       "0          0        0        0        0        0        0  \n",
       "1          0        0        0        0        0        0  \n",
       "2          0        0        0        0        0        0  \n",
       "3          0        0        0        0        0        0  \n",
       "4          0        0        0        0        0        0  \n",
       "5          0        0        0        0        0        0  \n",
       "6          0        0        0        0        0        0  \n",
       "7          0        0        0        0        0        0  \n",
       "8          0        0        0        0        0        0  \n",
       "9          0        0        0        0        0        0  \n",
       "10         0        0        0        0        0        0  \n",
       "11         0        0        0        0        0        0  \n",
       "12         0        0        0        0        0        0  \n",
       "13         0        0        0        0        0        0  \n",
       "14         0        0        0        0        0        0  \n",
       "15         0        0        0        0        0        0  \n",
       "16         0        0        0        0        0        0  \n",
       "17         0        0        0        0        0        0  \n",
       "18         0        0        0        0        0        0  \n",
       "19         0        0        0        0        0        0  \n",
       "20         0        0        0        0        0        0  \n",
       "21         0        0        0        0        0        0  \n",
       "22         0        0        0        0        0        0  \n",
       "23         0        0        0        0        0        0  \n",
       "24         0        0        0        0        0        0  \n",
       "25         0        0        0        0        0        0  \n",
       "26         0        0        0        0        0        0  \n",
       "27         0        0        0        0        0        0  \n",
       "28         0        0        0        0        0        0  \n",
       "29         0        0        0        0        0        0  \n",
       "..       ...      ...      ...      ...      ...      ...  \n",
       "715        0        0        0        0        0        0  \n",
       "716        0        0        0        0        0        0  \n",
       "717        0        0        0        0        0        0  \n",
       "718        0        0        0        0        0        0  \n",
       "719        0        0        0        0        0        0  \n",
       "720        0        0        0        0        0        0  \n",
       "721        0        0        0        0        0        0  \n",
       "722        1        0        0        0        0        0  \n",
       "723        0        1        0        0        0        0  \n",
       "724        0        0        1        0        0        0  \n",
       "725        0        0        0        1        0        0  \n",
       "726        0        0        0        0        1        0  \n",
       "727        0        0        0        0        0        1  \n",
       "728        0        0        0        0        0        0  \n",
       "729        0        0        0        0        0        0  \n",
       "730        0        0        0        0        0        0  \n",
       "731        0        0        0        0        0        0  \n",
       "732        0        0        0        0        0        0  \n",
       "733        0        0        0        0        0        0  \n",
       "734        0        0        0        0        0        0  \n",
       "735        0        0        0        0        0        0  \n",
       "736        0        0        0        0        0        0  \n",
       "737        0        0        0        0        0        0  \n",
       "738        0        0        0        0        0        0  \n",
       "739        0        0        0        0        0        0  \n",
       "740        0        0        0        0        0        0  \n",
       "741        0        0        0        0        0        0  \n",
       "742        0        0        0        0        0        0  \n",
       "743        0        0        0        0        0        0  \n",
       "744        0        0        0        0        0        0  \n",
       "\n",
       "[745 rows x 60 columns]>"
      ]
     },
     "execution_count": 7,
     "metadata": {},
     "output_type": "execute_result"
    }
   ],
   "source": [
    "gas.head"
   ]
  },
  {
   "cell_type": "markdown",
   "metadata": {
    "nbpresent": {
     "id": "1c77ea86-256b-4601-a5d5-2f875c0649c9"
    }
   },
   "source": [
    "Now, we'll:\n",
    "- Clear out the first four rows where we don't have lagged information.\n",
    "- Split the target off from the explanatory features.\n",
    "- Split the data into training, validation, and test groups so that we can tune our model and then evaluate its accuracy on data it hasn't seen yet.  Since this is time-series data, we'll use the first 60% for training, the second 20% for validation, and the final 20% for final test evaluation."
   ]
  },
  {
   "cell_type": "code",
   "execution_count": 8,
   "metadata": {
    "nbpresent": {
     "id": "80c0adca-5db2-4152-a9f4-42cbc1dbde84"
    }
   },
   "outputs": [],
   "source": [
    "gas = gas.iloc[4:, ]\n",
    "split_train = int(len(gas) * 0.6)\n",
    "split_test = int(len(gas) * 0.8)"
   ]
  },
  {
   "cell_type": "code",
   "execution_count": 9,
   "metadata": {},
   "outputs": [
    {
     "data": {
      "text/html": [
       "<div>\n",
       "<style scoped>\n",
       "    .dataframe tbody tr th:only-of-type {\n",
       "        vertical-align: middle;\n",
       "    }\n",
       "\n",
       "    .dataframe tbody tr th {\n",
       "        vertical-align: top;\n",
       "    }\n",
       "\n",
       "    .dataframe thead th {\n",
       "        text-align: right;\n",
       "    }\n",
       "</style>\n",
       "<table border=\"1\" class=\"dataframe\">\n",
       "  <thead>\n",
       "    <tr style=\"text-align: right;\">\n",
       "      <th></th>\n",
       "      <th>thousands_barrels</th>\n",
       "      <th>thousands_barrels_lag1</th>\n",
       "      <th>thousands_barrels_lag2</th>\n",
       "      <th>thousands_barrels_lag3</th>\n",
       "      <th>thousands_barrels_lag4</th>\n",
       "      <th>trend</th>\n",
       "      <th>log_trend</th>\n",
       "      <th>sq_trend</th>\n",
       "      <th>week_0</th>\n",
       "      <th>week_1</th>\n",
       "      <th>...</th>\n",
       "      <th>week_42</th>\n",
       "      <th>week_43</th>\n",
       "      <th>week_44</th>\n",
       "      <th>week_45</th>\n",
       "      <th>week_46</th>\n",
       "      <th>week_47</th>\n",
       "      <th>week_48</th>\n",
       "      <th>week_49</th>\n",
       "      <th>week_50</th>\n",
       "      <th>week_51</th>\n",
       "    </tr>\n",
       "  </thead>\n",
       "  <tbody>\n",
       "    <tr>\n",
       "      <th>4</th>\n",
       "      <td>6875.0</td>\n",
       "      <td>7224.0</td>\n",
       "      <td>6582.0</td>\n",
       "      <td>6433.0</td>\n",
       "      <td>6621.0</td>\n",
       "      <td>4</td>\n",
       "      <td>1.609438</td>\n",
       "      <td>16</td>\n",
       "      <td>0</td>\n",
       "      <td>0</td>\n",
       "      <td>...</td>\n",
       "      <td>0</td>\n",
       "      <td>0</td>\n",
       "      <td>0</td>\n",
       "      <td>0</td>\n",
       "      <td>0</td>\n",
       "      <td>0</td>\n",
       "      <td>0</td>\n",
       "      <td>0</td>\n",
       "      <td>0</td>\n",
       "      <td>0</td>\n",
       "    </tr>\n",
       "    <tr>\n",
       "      <th>5</th>\n",
       "      <td>6947.0</td>\n",
       "      <td>6875.0</td>\n",
       "      <td>7224.0</td>\n",
       "      <td>6582.0</td>\n",
       "      <td>6433.0</td>\n",
       "      <td>5</td>\n",
       "      <td>1.791759</td>\n",
       "      <td>25</td>\n",
       "      <td>0</td>\n",
       "      <td>0</td>\n",
       "      <td>...</td>\n",
       "      <td>0</td>\n",
       "      <td>0</td>\n",
       "      <td>0</td>\n",
       "      <td>0</td>\n",
       "      <td>0</td>\n",
       "      <td>0</td>\n",
       "      <td>0</td>\n",
       "      <td>0</td>\n",
       "      <td>0</td>\n",
       "      <td>0</td>\n",
       "    </tr>\n",
       "    <tr>\n",
       "      <th>6</th>\n",
       "      <td>7328.0</td>\n",
       "      <td>6947.0</td>\n",
       "      <td>6875.0</td>\n",
       "      <td>7224.0</td>\n",
       "      <td>6582.0</td>\n",
       "      <td>6</td>\n",
       "      <td>1.945910</td>\n",
       "      <td>36</td>\n",
       "      <td>0</td>\n",
       "      <td>0</td>\n",
       "      <td>...</td>\n",
       "      <td>0</td>\n",
       "      <td>0</td>\n",
       "      <td>0</td>\n",
       "      <td>0</td>\n",
       "      <td>0</td>\n",
       "      <td>0</td>\n",
       "      <td>0</td>\n",
       "      <td>0</td>\n",
       "      <td>0</td>\n",
       "      <td>0</td>\n",
       "    </tr>\n",
       "    <tr>\n",
       "      <th>7</th>\n",
       "      <td>6777.0</td>\n",
       "      <td>7328.0</td>\n",
       "      <td>6947.0</td>\n",
       "      <td>6875.0</td>\n",
       "      <td>7224.0</td>\n",
       "      <td>7</td>\n",
       "      <td>2.079442</td>\n",
       "      <td>49</td>\n",
       "      <td>0</td>\n",
       "      <td>0</td>\n",
       "      <td>...</td>\n",
       "      <td>0</td>\n",
       "      <td>0</td>\n",
       "      <td>0</td>\n",
       "      <td>0</td>\n",
       "      <td>0</td>\n",
       "      <td>0</td>\n",
       "      <td>0</td>\n",
       "      <td>0</td>\n",
       "      <td>0</td>\n",
       "      <td>0</td>\n",
       "    </tr>\n",
       "    <tr>\n",
       "      <th>8</th>\n",
       "      <td>7503.0</td>\n",
       "      <td>6777.0</td>\n",
       "      <td>7328.0</td>\n",
       "      <td>6947.0</td>\n",
       "      <td>6875.0</td>\n",
       "      <td>8</td>\n",
       "      <td>2.197225</td>\n",
       "      <td>64</td>\n",
       "      <td>0</td>\n",
       "      <td>0</td>\n",
       "      <td>...</td>\n",
       "      <td>0</td>\n",
       "      <td>0</td>\n",
       "      <td>0</td>\n",
       "      <td>0</td>\n",
       "      <td>0</td>\n",
       "      <td>0</td>\n",
       "      <td>0</td>\n",
       "      <td>0</td>\n",
       "      <td>0</td>\n",
       "      <td>0</td>\n",
       "    </tr>\n",
       "  </tbody>\n",
       "</table>\n",
       "<p>5 rows × 60 columns</p>\n",
       "</div>"
      ],
      "text/plain": [
       "   thousands_barrels  thousands_barrels_lag1  thousands_barrels_lag2  \\\n",
       "4             6875.0                  7224.0                  6582.0   \n",
       "5             6947.0                  6875.0                  7224.0   \n",
       "6             7328.0                  6947.0                  6875.0   \n",
       "7             6777.0                  7328.0                  6947.0   \n",
       "8             7503.0                  6777.0                  7328.0   \n",
       "\n",
       "   thousands_barrels_lag3  thousands_barrels_lag4  trend  log_trend  sq_trend  \\\n",
       "4                  6433.0                  6621.0      4   1.609438        16   \n",
       "5                  6582.0                  6433.0      5   1.791759        25   \n",
       "6                  7224.0                  6582.0      6   1.945910        36   \n",
       "7                  6875.0                  7224.0      7   2.079442        49   \n",
       "8                  6947.0                  6875.0      8   2.197225        64   \n",
       "\n",
       "   week_0  week_1  ...  week_42  week_43  week_44  week_45  week_46  week_47  \\\n",
       "4       0       0  ...        0        0        0        0        0        0   \n",
       "5       0       0  ...        0        0        0        0        0        0   \n",
       "6       0       0  ...        0        0        0        0        0        0   \n",
       "7       0       0  ...        0        0        0        0        0        0   \n",
       "8       0       0  ...        0        0        0        0        0        0   \n",
       "\n",
       "   week_48  week_49  week_50  week_51  \n",
       "4        0        0        0        0  \n",
       "5        0        0        0        0  \n",
       "6        0        0        0        0  \n",
       "7        0        0        0        0  \n",
       "8        0        0        0        0  \n",
       "\n",
       "[5 rows x 60 columns]"
      ]
     },
     "execution_count": 9,
     "metadata": {},
     "output_type": "execute_result"
    }
   ],
   "source": [
    "gas.head()"
   ]
  },
  {
   "cell_type": "code",
   "execution_count": 10,
   "metadata": {
    "nbpresent": {
     "id": "80c0adca-5db2-4152-a9f4-42cbc1dbde84"
    }
   },
   "outputs": [
    {
     "name": "stderr",
     "output_type": "stream",
     "text": [
      "/home/ec2-user/anaconda3/envs/python3/lib/python3.6/site-packages/ipykernel/__main__.py:2: FutureWarning: Method .as_matrix will be removed in a future version. Use .values instead.\n",
      "  from ipykernel import kernelapp as app\n",
      "/home/ec2-user/anaconda3/envs/python3/lib/python3.6/site-packages/ipykernel/__main__.py:4: FutureWarning: Method .as_matrix will be removed in a future version. Use .values instead.\n",
      "/home/ec2-user/anaconda3/envs/python3/lib/python3.6/site-packages/ipykernel/__main__.py:6: FutureWarning: Method .as_matrix will be removed in a future version. Use .values instead.\n"
     ]
    }
   ],
   "source": [
    "train_y = gas['thousands_barrels'][:split_train]\n",
    "train_X = gas.drop('thousands_barrels', axis=1).iloc[:split_train, ].as_matrix()\n",
    "validation_y = gas['thousands_barrels'][split_train:split_test]\n",
    "validation_X = gas.drop('thousands_barrels', axis=1).iloc[split_train:split_test, ].as_matrix()\n",
    "test_y = gas['thousands_barrels'][split_test:]\n",
    "test_X = gas.drop('thousands_barrels', axis=1).iloc[split_test:, ].as_matrix()"
   ]
  },
  {
   "cell_type": "markdown",
   "metadata": {
    "nbpresent": {
     "id": "ff9d10f9-b611-423b-80da-6dcdafd1c8b9"
    }
   },
   "source": [
    "Now, we'll convert the datasets to the recordIO-wrapped protobuf format used by the Amazon SageMaker algorithms and upload this data to S3.  We'll start with training data."
   ]
  },
  {
   "cell_type": "code",
   "execution_count": 16,
   "metadata": {},
   "outputs": [
    {
     "data": {
      "text/plain": [
       "((444, 59), (148, 59), (149, 59))"
      ]
     },
     "execution_count": 16,
     "metadata": {},
     "output_type": "execute_result"
    }
   ],
   "source": [
    "train_X.shape, validation_X.shape, test_X.shape"
   ]
  },
  {
   "cell_type": "code",
   "execution_count": 17,
   "metadata": {},
   "outputs": [
    {
     "data": {
      "text/plain": [
       "0"
      ]
     },
     "execution_count": 17,
     "metadata": {},
     "output_type": "execute_result"
    }
   ],
   "source": [
    "buf = io.BytesIO()\n",
    "smac.write_numpy_to_dense_tensor(buf, np.array(train_X).astype('float32'), np.array(train_y).astype('float32'))\n",
    "buf.seek(0)"
   ]
  },
  {
   "cell_type": "code",
   "execution_count": 18,
   "metadata": {},
   "outputs": [
    {
     "name": "stdout",
     "output_type": "stream",
     "text": [
      "uploaded training data location: s3://beyoung-sagemaker/sagemaker/linear-time-series-forecast/train/linear_train.data\n"
     ]
    }
   ],
   "source": [
    "key = 'linear_train.data'\n",
    "boto3.resource('s3').Bucket(bucket).Object(os.path.join(prefix, 'train', key)).upload_fileobj(buf)\n",
    "s3_train_data = 's3://{}/{}/train/{}'.format(bucket, prefix, key)\n",
    "print('uploaded training data location: {}'.format(s3_train_data))"
   ]
  },
  {
   "cell_type": "markdown",
   "metadata": {},
   "source": [
    "Next we'll convert and upload the validation dataset."
   ]
  },
  {
   "cell_type": "code",
   "execution_count": 19,
   "metadata": {},
   "outputs": [
    {
     "data": {
      "text/plain": [
       "0"
      ]
     },
     "execution_count": 19,
     "metadata": {},
     "output_type": "execute_result"
    }
   ],
   "source": [
    "buf = io.BytesIO()\n",
    "smac.write_numpy_to_dense_tensor(buf, np.array(validation_X).astype('float32'), np.array(validation_y).astype('float32'))\n",
    "buf.seek(0)"
   ]
  },
  {
   "cell_type": "code",
   "execution_count": 20,
   "metadata": {},
   "outputs": [
    {
     "name": "stdout",
     "output_type": "stream",
     "text": [
      "uploaded validation data location: s3://beyoung-sagemaker/sagemaker/linear-time-series-forecast/validation/linear_validation.data\n"
     ]
    }
   ],
   "source": [
    "key = 'linear_validation.data'\n",
    "boto3.resource('s3').Bucket(bucket).Object(os.path.join(prefix, 'validation', key)).upload_fileobj(buf)\n",
    "s3_validation_data = 's3://{}/{}/validation/{}'.format(bucket, prefix, key)\n",
    "print('uploaded validation data location: {}'.format(s3_validation_data))"
   ]
  },
  {
   "cell_type": "markdown",
   "metadata": {
    "nbpresent": {
     "id": "f3b125ad-a2d5-464c-8cfa-bd203034eee4"
    }
   },
   "source": [
    "---\n",
    "## Train\n",
    "\n",
    "Now we can begin to specify our linear model.  First, let's specify the containers for the Linear Learner algorithm.  Since we want this notebook to run in all of Amazon SageMaker's regions, we'll use a convenience function to look up the container image name for our current region.  More details on algorithm containers can be found in [AWS documentation](https://docs.aws.amazon.com/sagemaker/latest/dg/sagemaker-algo-docker-registry-paths.html)."
   ]
  },
  {
   "cell_type": "code",
   "execution_count": 21,
   "metadata": {},
   "outputs": [],
   "source": [
    "from sagemaker.amazon.amazon_estimator import get_image_uri\n",
    "container = get_image_uri(boto3.Session().region_name, 'linear-learner')"
   ]
  },
  {
   "cell_type": "markdown",
   "metadata": {},
   "source": [
    "Amazon SageMaker's Linear Learner actually fits many models in parallel, each with slightly different hyperparameters, and then returns the one with the best fit.  This functionality is automatically enabled.  We can influence this using parameters like:\n",
    "\n",
    "- `num_models` to increase to total number of models run.  The specified parameters will always be one of those models, but the algorithm also chooses models with nearby parameter values in order to find a solution nearby that may be more optimal.  In this case, we're going to use the max of 32.\n",
    "- `loss` which controls how we penalize mistakes in our model estimates.  For this case, let's use absolute loss as we haven't spent much time cleaning the data, and absolute loss will adjust less to accomodate outliers.\n",
    "- `wd` or `l1` which control regularization.  Regularization can prevent model overfitting by preventing our estimates from becoming too finely tuned to the training data, which can actually hurt generalizability.  In this case, we'll leave these parameters as their default \"auto\" though.\n",
    "\n",
    "Let'd kick off our training job in SageMaker's distributed, managed training.  Because training is managed (AWS handles spinning up and spinning down hardware), we don't have to wait for our job to finish to continue, but for this case, we'll use the Python SDK to track to wait and track our progress."
   ]
  },
  {
   "cell_type": "code",
   "execution_count": 22,
   "metadata": {},
   "outputs": [],
   "source": [
    "sess = sagemaker.Session()\n",
    "\n",
    "linear = sagemaker.estimator.Estimator(container,\n",
    "                                       role, \n",
    "                                       train_instance_count=1, \n",
    "                                       train_instance_type='ml.c4.xlarge',\n",
    "                                       output_path='s3://{}/{}/output'.format(bucket, prefix),\n",
    "                                       sagemaker_session=sess)\n",
    "linear.set_hyperparameters(feature_dim=59,\n",
    "                           mini_batch_size=100,\n",
    "                           predictor_type='regressor',\n",
    "                           epochs=10,\n",
    "                           num_models=32,\n",
    "                           loss='absolute_loss')"
   ]
  },
  {
   "cell_type": "code",
   "execution_count": 23,
   "metadata": {},
   "outputs": [],
   "source": [
    "linear.fit({'train': s3_train_data, 'validation': s3_validation_data}, wait=False)"
   ]
  },
  {
   "cell_type": "code",
   "execution_count": 24,
   "metadata": {},
   "outputs": [
    {
     "data": {
      "text/plain": [
       "'linear-learner-2020-03-19-14-27-24-885'"
      ]
     },
     "execution_count": 24,
     "metadata": {},
     "output_type": "execute_result"
    }
   ],
   "source": [
    "job_name = linear.latest_training_job.job_name\n",
    "job_name"
   ]
  },
  {
   "cell_type": "markdown",
   "metadata": {
    "nbpresent": {
     "id": "2adcc348-9ab5-4a8a-8139-d0ecd740208a"
    }
   },
   "source": [
    "---\n",
    "## Host\n",
    "\n",
    "Now that we've trained the linear algorithm on our data, let's create a model and deploy that to a hosted endpoint."
   ]
  },
  {
   "cell_type": "code",
   "execution_count": 25,
   "metadata": {},
   "outputs": [],
   "source": [
    "linear_predictor = linear.deploy(initial_instance_count=1,\n",
    "                                 instance_type='ml.m4.xlarge', wait=False)"
   ]
  },
  {
   "cell_type": "markdown",
   "metadata": {},
   "source": [
    "### Forecast\n",
    "\n",
    "Now that we have our hosted endpoint, we can generate statistical forecasts from it.  Let's forecast on our test dataset to understand how accurate our model may be.\n",
    "\n",
    "There are many metrics to measure forecast error.  Common examples include include:\n",
    "- Root Mean Square Error (RMSE)\n",
    "- Mean Absolute Percent Error (MAPE)\n",
    "- Geometric Mean of the Relative Absolute Error (GMRAE)\n",
    "- Quantile forecast errors\n",
    "- Errors that account for asymmetric loss in over or under-prediction\n",
    "\n",
    "For our example we'll keep things simple and use Median Absolute Percent Error (MdAPE), but we'll also compare it to a naive benchmark forecast (that week last year's demand * that week last year / that week two year's ago).\n",
    "\n",
    "There are also multiple ways to generate forecasts.\n",
    "- One-step-ahead forecasts:  When predicting for multiple data points, one-step-ahead forecasts update the history with the correct known value.  These are common, easy to produce, and can give us some intuition of whether out model is performing as expected.  However, they can also present an unnecessarily optimistic evaluation of the forecast.  In most real-life cases, we want to predict out well into the future, because the actions we may take based on that forecast are not immediate.  In these cases, we want know what the time-periods in between will bring, so generating a forecast based on the knowledge that we do, can be misleading.\n",
    "- Multi-step-ahead (or horizon) forecasts: In this case, when forecasting out of sample, each forecast builds off of the forecasted periods that precede it.  So, errors early on in the test data can compound to create large deviations for observations late in the test data.  Although this is more realistic, it can be difficult to create the forecasts, particularly as model complexity increases.\n",
    "\n",
    "For our example, we'll calculate both, but focus on the multi-step forecast accuracy.\n",
    "\n",
    "Let's start by generating the naive forecast."
   ]
  },
  {
   "cell_type": "code",
   "execution_count": 26,
   "metadata": {},
   "outputs": [
    {
     "name": "stderr",
     "output_type": "stream",
     "text": [
      "/home/ec2-user/anaconda3/envs/python3/lib/python3.6/site-packages/ipykernel/__main__.py:1: SettingWithCopyWarning: \n",
      "A value is trying to be set on a copy of a slice from a DataFrame.\n",
      "Try using .loc[row_indexer,col_indexer] = value instead\n",
      "\n",
      "See the caveats in the documentation: http://pandas.pydata.org/pandas-docs/stable/indexing.html#indexing-view-versus-copy\n",
      "  if __name__ == '__main__':\n",
      "/home/ec2-user/anaconda3/envs/python3/lib/python3.6/site-packages/ipykernel/__main__.py:2: SettingWithCopyWarning: \n",
      "A value is trying to be set on a copy of a slice from a DataFrame.\n",
      "Try using .loc[row_indexer,col_indexer] = value instead\n",
      "\n",
      "See the caveats in the documentation: http://pandas.pydata.org/pandas-docs/stable/indexing.html#indexing-view-versus-copy\n",
      "  from ipykernel import kernelapp as app\n",
      "/home/ec2-user/anaconda3/envs/python3/lib/python3.6/site-packages/ipykernel/__main__.py:3: SettingWithCopyWarning: \n",
      "A value is trying to be set on a copy of a slice from a DataFrame.\n",
      "Try using .loc[row_indexer,col_indexer] = value instead\n",
      "\n",
      "See the caveats in the documentation: http://pandas.pydata.org/pandas-docs/stable/indexing.html#indexing-view-versus-copy\n",
      "  app.launch_new_instance()\n",
      "/home/ec2-user/anaconda3/envs/python3/lib/python3.6/site-packages/ipykernel/__main__.py:4: FutureWarning: Method .as_matrix will be removed in a future version. Use .values instead.\n"
     ]
    }
   ],
   "source": [
    "gas['thousands_barrels_lag52'] = gas['thousands_barrels'].shift(52)\n",
    "gas['thousands_barrels_lag104'] = gas['thousands_barrels'].shift(104)\n",
    "gas['thousands_barrels_naive_forecast'] = gas['thousands_barrels_lag52'] ** 2 / gas['thousands_barrels_lag104']\n",
    "naive = gas[split_test:]['thousands_barrels_naive_forecast'].as_matrix()"
   ]
  },
  {
   "cell_type": "markdown",
   "metadata": {},
   "source": [
    "And investigating it's accuracy."
   ]
  },
  {
   "cell_type": "code",
   "execution_count": 27,
   "metadata": {},
   "outputs": [
    {
     "name": "stdout",
     "output_type": "stream",
     "text": [
      "Naive MdAPE = 0.03687277085962615\n"
     ]
    },
    {
     "data": {
      "image/png": "[encoded data removed]",
      "text/plain": [
       "<Figure size 432x288 with 1 Axes>"
      ]
     },
     "metadata": {},
     "output_type": "display_data"
    }
   ],
   "source": [
    "print('Naive MdAPE =', np.median(np.abs(test_y - naive) / test_y))\n",
    "plt.plot(np.array(test_y), label='actual')\n",
    "plt.plot(naive, label='naive')\n",
    "plt.legend()\n",
    "plt.show()"
   ]
  },
  {
   "cell_type": "markdown",
   "metadata": {},
   "source": [
    "Now we'll generate the one-step-ahead forecast.  First we need a function to convert our numpy arrays into a format that can be handled by the HTTP POST request we pass to the inference container.  In this case that's a simple CSV string.  The results will be published back as JSON.  For these common formats we can use the Amazon SageMaker Python SDK's built in `csv_serializer` and `json_deserializer` functions. "
   ]
  },
  {
   "cell_type": "code",
   "execution_count": 28,
   "metadata": {},
   "outputs": [],
   "source": [
    "linear_predictor.content_type = 'text/csv'\n",
    "linear_predictor.serializer = csv_serializer\n",
    "linear_predictor.deserializer = json_deserializer"
   ]
  },
  {
   "cell_type": "markdown",
   "metadata": {},
   "source": [
    "Next, we'll invoke the endpoint to get predictions."
   ]
  },
  {
   "cell_type": "code",
   "execution_count": 29,
   "metadata": {},
   "outputs": [],
   "source": [
    "result = linear_predictor.predict(test_X)\n",
    "one_step = np.array([r['score'] for r in result['predictions']])"
   ]
  },
  {
   "cell_type": "markdown",
   "metadata": {},
   "source": [
    "Let's compare forecast errors."
   ]
  },
  {
   "cell_type": "code",
   "execution_count": 30,
   "metadata": {},
   "outputs": [
    {
     "name": "stdout",
     "output_type": "stream",
     "text": [
      "One-step-ahead MdAPE =  0.020360223119258346\n"
     ]
    },
    {
     "data": {
      "image/png": "[encoded data removed]",
      "text/plain": [
       "<Figure size 432x288 with 1 Axes>"
      ]
     },
     "metadata": {},
     "output_type": "display_data"
    }
   ],
   "source": [
    "print('One-step-ahead MdAPE = ', np.median(np.abs(test_y - one_step) / test_y))\n",
    "plt.plot(np.array(test_y), label='actual')\n",
    "plt.plot(one_step, label='forecast')\n",
    "plt.legend()\n",
    "plt.show()"
   ]
  },
  {
   "cell_type": "markdown",
   "metadata": {},
   "source": [
    "As we can see our MdAPE is substantially better than the naive, and we actually swing from a forecasts that's too volatile to one that under-represents the noise in our data.  However, the overall shape of the statistical forecast does appear to better represent the actual data.\n",
    "\n",
    "Next, let's generate multi-step-ahead forecast.  To do this, we'll need to loop over invoking the endpoint one row at a time and make sure the lags in our model are updated appropriately."
   ]
  },
  {
   "cell_type": "code",
   "execution_count": 32,
   "metadata": {},
   "outputs": [],
   "source": [
    "multi_step = []\n",
    "lags = test_X[0, 0:4]\n",
    "for row in test_X:\n",
    "    row[0:4] = lags\n",
    "    result = linear_predictor.predict(row)\n",
    "    prediction = result['predictions'][0]['score']\n",
    "    multi_step.append(prediction)\n",
    "    lags[1:4] = lags[0:3]\n",
    "    lags[0] = prediction\n",
    "\n",
    "multi_step = np.array(multi_step)"
   ]
  },
  {
   "cell_type": "markdown",
   "metadata": {},
   "source": [
    "And now calculate the accuracy of these predictions."
   ]
  },
  {
   "cell_type": "code",
   "execution_count": 33,
   "metadata": {},
   "outputs": [
    {
     "name": "stdout",
     "output_type": "stream",
     "text": [
      "Multi-step-ahead MdAPE = 0.021905108345272206\n"
     ]
    },
    {
     "data": {
      "image/png": "[encoded data removed]",
      "text/plain": [
       "<Figure size 432x288 with 1 Axes>"
      ]
     },
     "metadata": {},
     "output_type": "display_data"
    }
   ],
   "source": [
    "print('Multi-step-ahead MdAPE =', np.median(np.abs(test_y - multi_step) / test_y))\n",
    "plt.plot(np.array(test_y), label='actual')\n",
    "plt.plot(multi_step, label='forecast')\n",
    "plt.legend()\n",
    "plt.show()"
   ]
  },
  {
   "cell_type": "markdown",
   "metadata": {},
   "source": [
    "As we can see our multi-step ahead error performs worse than our one-step ahead forecast, but nevertheless remains substantially stronger than the naive benchmark forecast.  This 1.5 percentage point difference may not seem particularly meaningful, but at the large scale of many topline forecasts can mean millions of dollars in excess supply or lost sales."
   ]
  },
  {
   "cell_type": "markdown",
   "metadata": {},
   "source": [
    "---\n",
    "## Extensions\n",
    "\n",
    "Our linear model does a good job of predicting gasoline demand, but of course, improvements could be made.  The fact that statistical forecast actually underrepresents some of the volatility in the data could suggest that we have actually over-regularized the data.  Or, perhaps our choice of absolute loss was incorrect.  Rerunning the model with further tweaks to these hyperparameters may provide more accurate out of sample forecasts.  We also did not do a large amount of feature engineering.  Occasionally, the lagging time-periods have complex interrelationships with one another that should be explored.  Finally, alternative forecasting algorithms could be explored.  Less interpretable methods like ARIMA, and black-box methods like LSTM Recurrent Neural Networks have been shown to predict time-series very well.  Balancing the simplicity of a linear model with predictive accuracy is an important subjective question where the right answer depends on the problem being solved, and its implications to the business."
   ]
  },
  {
   "cell_type": "markdown",
   "metadata": {},
   "source": [
    "### (Optional) Clean-up\n",
    "\n",
    "If you're ready to be done with this notebook, please run the cell below.  This will remove the hosted endpoint you created and avoid any charges from a stray instance being left on."
   ]
  },
  {
   "cell_type": "code",
   "execution_count": 34,
   "metadata": {},
   "outputs": [],
   "source": [
    "sagemaker.Session().delete_endpoint(linear_predictor.endpoint)"
   ]
  },
  {
   "cell_type": "code",
   "execution_count": null,
   "metadata": {},
   "outputs": [],
   "source": []
  }
 ],
 "metadata": {
  "kernelspec": {
   "display_name": "conda_python3",
   "language": "python",
   "name": "conda_python3"
  },
  "language_info": {
   "codemirror_mode": {
    "name": "ipython",
    "version": 3
   },
   "file_extension": ".py",
   "mimetype": "text/x-python",
   "name": "python",
   "nbconvert_exporter": "python",
   "pygments_lexer": "ipython3",
   "version": "3.6.5"
  },
  "notice": "Copyright 2017 Amazon.com, Inc. or its affiliates. All Rights Reserved.  Licensed under the Apache License, Version 2.0 (the \"License\"). You may not use this file except in compliance with the License. A copy of the License is located at http://aws.amazon.com/apache2.0/ or in the \"license\" file accompanying this file. This file is distributed on an \"AS IS\" BASIS, WITHOUT WARRANTIES OR CONDITIONS OF ANY KIND, either express or implied. See the License for the specific language governing permissions and limitations under the License."
 },
 "nbformat": 4,
 "nbformat_minor": 2
}
