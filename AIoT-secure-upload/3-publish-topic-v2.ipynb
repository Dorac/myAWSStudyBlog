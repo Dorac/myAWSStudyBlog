{
 "cells": [
  {
   "cell_type": "code",
   "execution_count": null,
   "metadata": {},
   "outputs": [],
   "source": [
    "# v2 github: https://github.com/aws/aws-iot-device-sdk-python-v2\n",
    "# install IoT SDK\n",
    "!pip install awsiotsdk"
   ]
  },
  {
   "cell_type": "code",
   "execution_count": 1,
   "metadata": {},
   "outputs": [],
   "source": [
    "from awscrt import io, mqtt, auth, http\n",
    "from awsiot import mqtt_connection_builder\n",
    "import sys\n",
    "import threading\n",
    "import time"
   ]
  },
  {
   "cell_type": "code",
   "execution_count": 2,
   "metadata": {},
   "outputs": [
    {
     "data": {
      "text/plain": [
       "'a2xqi9tklutvnu-ats.iot.us-west-2.amazonaws.com'"
      ]
     },
     "execution_count": 2,
     "metadata": {},
     "output_type": "execute_result"
    }
   ],
   "source": [
    "import boto3\n",
    "\n",
    "iot = boto3.client('iot')\n",
    "endpoint = iot.describe_endpoint(endpointType='iot:Data-ATS')['endpointAddress']\n",
    "endpoint"
   ]
  },
  {
   "cell_type": "code",
   "execution_count": null,
   "metadata": {},
   "outputs": [],
   "source": [
    "!ls ./iot-beyoung-01/"
   ]
  },
  {
   "cell_type": "code",
   "execution_count": 3,
   "metadata": {},
   "outputs": [
    {
     "name": "stdout",
     "output_type": "stream",
     "text": [
      "cert: iot-beyoung-01/iot-beyoung-01.cert.pem \n",
      "pri_key: iot-beyoung-01/iot-beyoung-01.private.key\n",
      "root_ca: iot-beyoung-01/root-CA.crt\n"
     ]
    }
   ],
   "source": [
    "device = 'iot-beyoung-01'\n",
    "cert = '{}/{}.cert.pem'.format(device, device)\n",
    "pri_key = '{}/{}.private.key'.format(device, device)\n",
    "root_ca = '{}/root-CA.crt'.format(device)\n",
    "clientid = 'basicPubSub'\n",
    "\n",
    "print('cert: {} \\npri_key: {}\\nroot_ca: {}'.format(cert, pri_key, root_ca))"
   ]
  },
  {
   "cell_type": "code",
   "execution_count": 4,
   "metadata": {},
   "outputs": [],
   "source": [
    "# Spin up resources\n",
    "event_loop_group = io.EventLoopGroup(1)\n",
    "host_resolver = io.DefaultHostResolver(event_loop_group)\n",
    "client_bootstrap = io.ClientBootstrap(event_loop_group, host_resolver)"
   ]
  },
  {
   "cell_type": "code",
   "execution_count": 5,
   "metadata": {},
   "outputs": [],
   "source": [
    "# Callback when connection is accidentally lost.\n",
    "def on_connection_interrupted(connection, error, **kwargs):\n",
    "    print(\"Connection interrupted. error: {}\".format(error))\n",
    "\n",
    "# Callback when an interrupted connection is re-established.\n",
    "def on_connection_resumed(connection, return_code, session_present, **kwargs):\n",
    "    print(\"Connection resumed. return_code: {} session_present: {}\".format(return_code, session_present))\n",
    "\n",
    "    if return_code == mqtt.ConnectReturnCode.ACCEPTED and not session_present:\n",
    "        print(\"Session did not persist. Resubscribing to existing topics...\")\n",
    "        resubscribe_future, _ = connection.resubscribe_existing_topics()\n",
    "\n",
    "        # Cannot synchronously wait for resubscribe result because we're on the connection's event-loop thread,\n",
    "        # evaluate result with a callback instead.\n",
    "        resubscribe_future.add_done_callback(on_resubscribe_complete)    "
   ]
  },
  {
   "cell_type": "code",
   "execution_count": null,
   "metadata": {},
   "outputs": [],
   "source": [
    "def on_resubscribe_complete(resubscribe_future):\n",
    "        resubscribe_results = resubscribe_future.result()\n",
    "        print(\"Resubscribe results: {}\".format(resubscribe_results))\n",
    "\n",
    "        for topic, qos in resubscribe_results['topics']:\n",
    "            if qos is None:\n",
    "                sys.exit(\"Server rejected resubscribe to topic: {}\".format(topic))"
   ]
  },
  {
   "cell_type": "code",
   "execution_count": 6,
   "metadata": {},
   "outputs": [],
   "source": [
    "mqtt_connection = mqtt_connection_builder.mtls_from_path(\n",
    "    endpoint=endpoint,\n",
    "    cert_filepath=cert,\n",
    "    pri_key_filepath=pri_key,\n",
    "    client_bootstrap=client_bootstrap,\n",
    "    ca_filepath=root_ca,\n",
    "    on_connection_interrupted=on_connection_interrupted,\n",
    "    on_connection_resumed=on_connection_resumed,\n",
    "    client_id=clientid,\n",
    "    clean_session=False,\n",
    "    keep_alive_secs=6)"
   ]
  },
  {
   "cell_type": "code",
   "execution_count": 7,
   "metadata": {},
   "outputs": [
    {
     "name": "stdout",
     "output_type": "stream",
     "text": [
      "Connected!\n"
     ]
    }
   ],
   "source": [
    "connect_future = mqtt_connection.connect()\n",
    "\n",
    "# Future.result() waits until a result is available\n",
    "connect_future.result()\n",
    "print(\"Connected!\")"
   ]
  },
  {
   "cell_type": "code",
   "execution_count": 13,
   "metadata": {},
   "outputs": [
    {
     "name": "stdout",
     "output_type": "stream",
     "text": [
      "11:12:00\n"
     ]
    }
   ],
   "source": [
    "import time, json\n",
    "\n",
    "t = time.localtime()\n",
    "current_time = time.strftime(\"%H:%M:%S\", t)\n",
    "print(current_time)"
   ]
  },
  {
   "cell_type": "code",
   "execution_count": 14,
   "metadata": {},
   "outputs": [
    {
     "name": "stdout",
     "output_type": "stream",
     "text": [
      "Publishing message to topic 'sdk/test/Python': \"hello from client [11:12:00]\"\n"
     ]
    },
    {
     "data": {
      "text/plain": [
       "(<Future at 0x7f8bae6dc0f0 state=pending>, 1)"
      ]
     },
     "execution_count": 14,
     "metadata": {},
     "output_type": "execute_result"
    }
   ],
   "source": [
    "message = json.dumps(\"{} [{}]\".format('hello from client', current_time))\n",
    "topic = 'sdk/test/Python'\n",
    "print(\"Publishing message to topic '{}': {}\".format(topic, message))\n",
    "mqtt_connection.publish(\n",
    "    topic=topic,\n",
    "    payload=message,\n",
    "    qos=mqtt.QoS.AT_LEAST_ONCE)"
   ]
  },
  {
   "cell_type": "code",
   "execution_count": null,
   "metadata": {},
   "outputs": [],
   "source": []
  }
 ],
 "metadata": {
  "kernelspec": {
   "display_name": "conda_python3",
   "language": "python",
   "name": "conda_python3"
  },
  "language_info": {
   "codemirror_mode": {
    "name": "ipython",
    "version": 3
   },
   "file_extension": ".py",
   "mimetype": "text/x-python",
   "name": "python",
   "nbconvert_exporter": "python",
   "pygments_lexer": "ipython3",
   "version": "3.6.5"
  }
 },
 "nbformat": 4,
 "nbformat_minor": 4
}
