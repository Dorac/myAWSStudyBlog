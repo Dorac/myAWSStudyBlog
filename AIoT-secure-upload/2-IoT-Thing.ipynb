{
 "cells": [
  {
   "cell_type": "markdown",
   "metadata": {},
   "source": [
    "# IoT SDK for the client\n",
    "\n",
    "* IoT SDK for Python [link](https://github.com/aws/aws-iot-device-sdk-python-v2)\n",
    "* developer guide [link](https://docs.aws.amazon.com/greengrass/latest/developerguide/IoT-SDK.html)"
   ]
  },
  {
   "cell_type": "code",
   "execution_count": 5,
   "metadata": {},
   "outputs": [
    {
     "data": {
      "text/plain": [
       "'OpenSSL 1.0.2u  20 Dec 2019'"
      ]
     },
     "execution_count": 5,
     "metadata": {},
     "output_type": "execute_result"
    }
   ],
   "source": [
    "## OpenSSL version is 1.0.1 above\n",
    "import ssl\n",
    "ssl.OPENSSL_VERSION"
   ]
  },
  {
   "cell_type": "markdown",
   "metadata": {},
   "source": [
    "# Create IoT Things"
   ]
  },
  {
   "cell_type": "markdown",
   "metadata": {},
   "source": [
    "* Go to IoT services > Onboard > Get Started\n",
    "* select 'Linux' > 'Python' as AWS IoT Device SDK\n",
    "* Name: iot-beyoung-01\n",
    "* Download a connection kit\n",
    "\n",
    "![](./images/06.png)"
   ]
  },
  {
   "cell_type": "markdown",
   "metadata": {},
   "source": [
    "## Upload the connection kit"
   ]
  },
  {
   "cell_type": "code",
   "execution_count": 2,
   "metadata": {},
   "outputs": [
    {
     "name": "stdout",
     "output_type": "stream",
     "text": [
      "Archive:  connect_device_package.zip\r\n",
      "  inflating: iot-beyoung-01/iot-beyoung-01.private.key  \r\n",
      "  inflating: iot-beyoung-01/iot-beyoung-01.public.key  \r\n",
      "  inflating: iot-beyoung-01/iot-beyoung-01.cert.pem  \r\n",
      "  inflating: iot-beyoung-01/start.sh  \r\n"
     ]
    }
   ],
   "source": [
    "!mkdir -p iot-beyoung-01\n",
    "!unzip connect_device_package.zip -d iot-beyoung-01"
   ]
  },
  {
   "cell_type": "markdown",
   "metadata": {},
   "source": [
    "## Subscribe MQTT client\n",
    "\n",
    "* topic: sdk/test/Python\n",
    "* Test the IoT thing connections"
   ]
  },
  {
   "cell_type": "code",
   "execution_count": 8,
   "metadata": {},
   "outputs": [
    {
     "name": "stdout",
     "output_type": "stream",
     "text": [
      "\n",
      "Running pub/sub sample application...\n",
      "2020-04-24 08:38:45,116 - AWSIoTPythonSDK.core.protocol.internal.clients - DEBUG - Initializing MQTT layer...\n",
      "2020-04-24 08:38:45,117 - AWSIoTPythonSDK.core.protocol.internal.clients - DEBUG - Registering internal event callbacks to MQTT layer...\n",
      "2020-04-24 08:38:45,117 - AWSIoTPythonSDK.core.protocol.mqtt_core - INFO - MqttCore initialized\n",
      "2020-04-24 08:38:45,117 - AWSIoTPythonSDK.core.protocol.mqtt_core - INFO - Client id: basicPubSub\n",
      "2020-04-24 08:38:45,117 - AWSIoTPythonSDK.core.protocol.mqtt_core - INFO - Protocol version: MQTTv3.1.1\n",
      "2020-04-24 08:38:45,117 - AWSIoTPythonSDK.core.protocol.mqtt_core - INFO - Authentication type: TLSv1.2 certificate based Mutual Auth.\n",
      "2020-04-24 08:38:45,117 - AWSIoTPythonSDK.core.protocol.mqtt_core - INFO - Configuring endpoint...\n",
      "2020-04-24 08:38:45,117 - AWSIoTPythonSDK.core.protocol.mqtt_core - INFO - Configuring certificates...\n",
      "2020-04-24 08:38:45,117 - AWSIoTPythonSDK.core.protocol.mqtt_core - INFO - Configuring reconnect back off timing...\n",
      "2020-04-24 08:38:45,117 - AWSIoTPythonSDK.core.protocol.mqtt_core - INFO - Base quiet time: 1.000000 sec\n",
      "2020-04-24 08:38:45,117 - AWSIoTPythonSDK.core.protocol.mqtt_core - INFO - Max quiet time: 32.000000 sec\n",
      "2020-04-24 08:38:45,117 - AWSIoTPythonSDK.core.protocol.mqtt_core - INFO - Stable connection time: 20.000000 sec\n",
      "2020-04-24 08:38:45,117 - AWSIoTPythonSDK.core.protocol.mqtt_core - INFO - Configuring offline requests queueing: max queue size: -1\n",
      "2020-04-24 08:38:45,118 - AWSIoTPythonSDK.core.protocol.mqtt_core - INFO - Configuring offline requests queue draining interval: 0.500000 sec\n",
      "2020-04-24 08:38:45,118 - AWSIoTPythonSDK.core.protocol.mqtt_core - INFO - Configuring connect/disconnect time out: 10.000000 sec\n",
      "2020-04-24 08:38:45,118 - AWSIoTPythonSDK.core.protocol.mqtt_core - INFO - Configuring MQTT operation time out: 5.000000 sec\n",
      "2020-04-24 08:38:45,118 - AWSIoTPythonSDK.core.protocol.mqtt_core - INFO - Performing sync connect...\n",
      "2020-04-24 08:38:45,118 - AWSIoTPythonSDK.core.protocol.mqtt_core - INFO - Performing async connect...\n",
      "2020-04-24 08:38:45,118 - AWSIoTPythonSDK.core.protocol.mqtt_core - INFO - Keep-alive: 600.000000 sec\n",
      "2020-04-24 08:38:45,118 - AWSIoTPythonSDK.core.protocol.internal.workers - DEBUG - Event consuming thread started\n",
      "2020-04-24 08:38:45,118 - AWSIoTPythonSDK.core.protocol.mqtt_core - DEBUG - Passing in general notification callbacks to internal client...\n",
      "2020-04-24 08:38:45,118 - AWSIoTPythonSDK.core.protocol.internal.clients - DEBUG - Filling in fixed event callbacks: CONNACK, DISCONNECT, MESSAGE\n",
      "2020-04-24 08:38:45,155 - AWSIoTPythonSDK.core.protocol.internal.clients - DEBUG - Starting network I/O thread...\n",
      "2020-04-24 08:38:45,207 - AWSIoTPythonSDK.core.protocol.internal.workers - DEBUG - Produced [connack] event\n",
      "2020-04-24 08:38:45,207 - AWSIoTPythonSDK.core.protocol.internal.workers - DEBUG - Dispatching [connack] event\n",
      "2020-04-24 08:38:45,207 - AWSIoTPythonSDK.core.protocol.internal.workers - DEBUG - No need for recovery\n",
      "2020-04-24 08:38:45,207 - AWSIoTPythonSDK.core.protocol.internal.clients - DEBUG - Invoking custom event callback...\n",
      "2020-04-24 08:38:45,207 - AWSIoTPythonSDK.core.protocol.mqtt_core - INFO - Performing sync subscribe...\n",
      "2020-04-24 08:38:45,208 - AWSIoTPythonSDK.core.protocol.internal.workers - DEBUG - Adding a new subscription record: sdk/test/Python qos: 1\n",
      "2020-04-24 08:38:45,208 - AWSIoTPythonSDK.core.protocol.internal.clients - DEBUG - Filling in custom suback event callback...\n",
      "2020-04-24 08:38:45,242 - AWSIoTPythonSDK.core.protocol.internal.workers - DEBUG - Produced [suback] event\n",
      "2020-04-24 08:38:45,242 - AWSIoTPythonSDK.core.protocol.internal.workers - DEBUG - Dispatching [suback] event\n",
      "2020-04-24 08:38:45,242 - AWSIoTPythonSDK.core.protocol.internal.clients - DEBUG - Invoking custom event callback...\n",
      "2020-04-24 08:38:45,242 - AWSIoTPythonSDK.core.protocol.internal.clients - DEBUG - This custom event callback is for pub/sub/unsub, removing it after invocation...\n",
      "2020-04-24 08:38:47,244 - AWSIoTPythonSDK.core.protocol.mqtt_core - INFO - Performing sync publish...\n",
      "2020-04-24 08:38:47,245 - AWSIoTPythonSDK.core.protocol.internal.clients - DEBUG - Filling in custom puback (QoS>0) event callback...\n",
      "2020-04-24 08:38:47,256 - AWSIoTPythonSDK.core.protocol.internal.workers - DEBUG - Produced [puback] event\n",
      "2020-04-24 08:38:47,256 - AWSIoTPythonSDK.core.protocol.internal.workers - DEBUG - Dispatching [puback] event\n",
      "2020-04-24 08:38:47,256 - AWSIoTPythonSDK.core.protocol.internal.clients - DEBUG - Invoking custom event callback...\n",
      "2020-04-24 08:38:47,256 - AWSIoTPythonSDK.core.protocol.internal.clients - DEBUG - This custom event callback is for pub/sub/unsub, removing it after invocation...\n",
      "2020-04-24 08:38:47,283 - AWSIoTPythonSDK.core.protocol.internal.workers - DEBUG - Produced [message] event\n",
      "2020-04-24 08:38:47,283 - AWSIoTPythonSDK.core.protocol.internal.workers - DEBUG - Dispatching [message] event\n",
      "Received a new message: \n",
      "b'{\"message\": \"Hello World!\", \"sequence\": 0}'\n",
      "from topic: \n",
      "sdk/test/Python\n",
      "--------------\n",
      "\n",
      "\n",
      "2020-04-24 08:38:47,283 - AWSIoTPythonSDK.core.protocol.internal.clients - DEBUG - Invoking custom event callback...\n",
      "2020-04-24 08:38:48,257 - AWSIoTPythonSDK.core.protocol.mqtt_core - INFO - Performing sync publish...\n",
      "2020-04-24 08:38:48,258 - AWSIoTPythonSDK.core.protocol.internal.clients - DEBUG - Filling in custom puback (QoS>0) event callback...\n",
      "2020-04-24 08:38:48,271 - AWSIoTPythonSDK.core.protocol.internal.workers - DEBUG - Produced [puback] event\n",
      "2020-04-24 08:38:48,271 - AWSIoTPythonSDK.core.protocol.internal.workers - DEBUG - Dispatching [puback] event\n",
      "2020-04-24 08:38:48,271 - AWSIoTPythonSDK.core.protocol.internal.clients - DEBUG - Invoking custom event callback...\n",
      "2020-04-24 08:38:48,271 - AWSIoTPythonSDK.core.protocol.internal.clients - DEBUG - This custom event callback is for pub/sub/unsub, removing it after invocation...\n",
      "2020-04-24 08:38:48,299 - AWSIoTPythonSDK.core.protocol.internal.workers - DEBUG - Produced [message] event\n",
      "2020-04-24 08:38:48,299 - AWSIoTPythonSDK.core.protocol.internal.workers - DEBUG - Dispatching [message] event\n",
      "Received a new message: \n",
      "b'{\"message\": \"Hello World!\", \"sequence\": 1}'\n",
      "from topic: \n",
      "sdk/test/Python\n",
      "--------------\n",
      "\n",
      "\n",
      "2020-04-24 08:38:48,299 - AWSIoTPythonSDK.core.protocol.internal.clients - DEBUG - Invoking custom event callback...\n",
      "2020-04-24 08:38:49,272 - AWSIoTPythonSDK.core.protocol.mqtt_core - INFO - Performing sync publish...\n",
      "2020-04-24 08:38:49,273 - AWSIoTPythonSDK.core.protocol.internal.clients - DEBUG - Filling in custom puback (QoS>0) event callback...\n",
      "2020-04-24 08:38:49,283 - AWSIoTPythonSDK.core.protocol.internal.workers - DEBUG - Produced [puback] event\n",
      "2020-04-24 08:38:49,283 - AWSIoTPythonSDK.core.protocol.internal.workers - DEBUG - Dispatching [puback] event\n",
      "2020-04-24 08:38:49,283 - AWSIoTPythonSDK.core.protocol.internal.clients - DEBUG - Invoking custom event callback...\n",
      "2020-04-24 08:38:49,283 - AWSIoTPythonSDK.core.protocol.internal.clients - DEBUG - This custom event callback is for pub/sub/unsub, removing it after invocation...\n",
      "2020-04-24 08:38:49,309 - AWSIoTPythonSDK.core.protocol.internal.workers - DEBUG - Produced [message] event\n",
      "2020-04-24 08:38:49,309 - AWSIoTPythonSDK.core.protocol.internal.workers - DEBUG - Dispatching [message] event\n",
      "Received a new message: \n",
      "b'{\"message\": \"Hello World!\", \"sequence\": 2}'\n",
      "from topic: \n",
      "sdk/test/Python\n",
      "--------------\n",
      "\n",
      "\n",
      "2020-04-24 08:38:49,309 - AWSIoTPythonSDK.core.protocol.internal.clients - DEBUG - Invoking custom event callback...\n",
      "2020-04-24 08:38:50,284 - AWSIoTPythonSDK.core.protocol.mqtt_core - INFO - Performing sync publish...\n",
      "2020-04-24 08:38:50,284 - AWSIoTPythonSDK.core.protocol.internal.clients - DEBUG - Filling in custom puback (QoS>0) event callback...\n",
      "2020-04-24 08:38:50,296 - AWSIoTPythonSDK.core.protocol.internal.workers - DEBUG - Produced [puback] event\n",
      "2020-04-24 08:38:50,296 - AWSIoTPythonSDK.core.protocol.internal.workers - DEBUG - Dispatching [puback] event\n",
      "2020-04-24 08:38:50,297 - AWSIoTPythonSDK.core.protocol.internal.clients - DEBUG - Invoking custom event callback...\n",
      "2020-04-24 08:38:50,297 - AWSIoTPythonSDK.core.protocol.internal.clients - DEBUG - This custom event callback is for pub/sub/unsub, removing it after invocation...\n",
      "2020-04-24 08:38:50,322 - AWSIoTPythonSDK.core.protocol.internal.workers - DEBUG - Produced [message] event\n",
      "2020-04-24 08:38:50,322 - AWSIoTPythonSDK.core.protocol.internal.workers - DEBUG - Dispatching [message] event\n",
      "Received a new message: \n",
      "b'{\"message\": \"Hello World!\", \"sequence\": 3}'\n",
      "from topic: \n",
      "sdk/test/Python\n",
      "--------------\n",
      "\n",
      "\n"
     ]
    },
    {
     "name": "stdout",
     "output_type": "stream",
     "text": [
      "2020-04-24 08:38:50,322 - AWSIoTPythonSDK.core.protocol.internal.clients - DEBUG - Invoking custom event callback...\n",
      "2020-04-24 08:38:51,298 - AWSIoTPythonSDK.core.protocol.mqtt_core - INFO - Performing sync publish...\n",
      "2020-04-24 08:38:51,298 - AWSIoTPythonSDK.core.protocol.internal.clients - DEBUG - Filling in custom puback (QoS>0) event callback...\n",
      "2020-04-24 08:38:51,311 - AWSIoTPythonSDK.core.protocol.internal.workers - DEBUG - Produced [puback] event\n",
      "2020-04-24 08:38:51,311 - AWSIoTPythonSDK.core.protocol.internal.workers - DEBUG - Dispatching [puback] event\n",
      "2020-04-24 08:38:51,311 - AWSIoTPythonSDK.core.protocol.internal.clients - DEBUG - Invoking custom event callback...\n",
      "2020-04-24 08:38:51,311 - AWSIoTPythonSDK.core.protocol.internal.clients - DEBUG - This custom event callback is for pub/sub/unsub, removing it after invocation...\n",
      "2020-04-24 08:38:51,338 - AWSIoTPythonSDK.core.protocol.internal.workers - DEBUG - Produced [message] event\n",
      "2020-04-24 08:38:51,338 - AWSIoTPythonSDK.core.protocol.internal.workers - DEBUG - Dispatching [message] event\n",
      "Received a new message: \n",
      "b'{\"message\": \"Hello World!\", \"sequence\": 4}'\n",
      "from topic: \n",
      "sdk/test/Python\n",
      "--------------\n",
      "\n",
      "\n",
      "2020-04-24 08:38:51,338 - AWSIoTPythonSDK.core.protocol.internal.clients - DEBUG - Invoking custom event callback...\n",
      "2020-04-24 08:38:52,312 - AWSIoTPythonSDK.core.protocol.mqtt_core - INFO - Performing sync publish...\n",
      "2020-04-24 08:38:52,312 - AWSIoTPythonSDK.core.protocol.internal.clients - DEBUG - Filling in custom puback (QoS>0) event callback...\n",
      "2020-04-24 08:38:52,326 - AWSIoTPythonSDK.core.protocol.internal.workers - DEBUG - Produced [puback] event\n",
      "2020-04-24 08:38:52,326 - AWSIoTPythonSDK.core.protocol.internal.workers - DEBUG - Dispatching [puback] event\n",
      "2020-04-24 08:38:52,326 - AWSIoTPythonSDK.core.protocol.internal.clients - DEBUG - Invoking custom event callback...\n",
      "2020-04-24 08:38:52,326 - AWSIoTPythonSDK.core.protocol.internal.clients - DEBUG - This custom event callback is for pub/sub/unsub, removing it after invocation...\n",
      "2020-04-24 08:38:52,355 - AWSIoTPythonSDK.core.protocol.internal.workers - DEBUG - Produced [message] event\n",
      "2020-04-24 08:38:52,355 - AWSIoTPythonSDK.core.protocol.internal.workers - DEBUG - Dispatching [message] event\n",
      "Received a new message: \n",
      "b'{\"message\": \"Hello World!\", \"sequence\": 5}'\n",
      "from topic: \n",
      "sdk/test/Python\n",
      "--------------\n",
      "\n",
      "\n",
      "2020-04-24 08:38:52,355 - AWSIoTPythonSDK.core.protocol.internal.clients - DEBUG - Invoking custom event callback...\n",
      "2020-04-24 08:38:53,327 - AWSIoTPythonSDK.core.protocol.mqtt_core - INFO - Performing sync publish...\n",
      "2020-04-24 08:38:53,327 - AWSIoTPythonSDK.core.protocol.internal.clients - DEBUG - Filling in custom puback (QoS>0) event callback...\n",
      "2020-04-24 08:38:53,339 - AWSIoTPythonSDK.core.protocol.internal.workers - DEBUG - Produced [puback] event\n",
      "2020-04-24 08:38:53,339 - AWSIoTPythonSDK.core.protocol.internal.workers - DEBUG - Dispatching [puback] event\n",
      "2020-04-24 08:38:53,339 - AWSIoTPythonSDK.core.protocol.internal.clients - DEBUG - Invoking custom event callback...\n",
      "2020-04-24 08:38:53,339 - AWSIoTPythonSDK.core.protocol.internal.clients - DEBUG - This custom event callback is for pub/sub/unsub, removing it after invocation...\n",
      "2020-04-24 08:38:53,365 - AWSIoTPythonSDK.core.protocol.internal.workers - DEBUG - Produced [message] event\n",
      "2020-04-24 08:38:53,366 - AWSIoTPythonSDK.core.protocol.internal.workers - DEBUG - Dispatching [message] event\n",
      "Received a new message: \n",
      "b'{\"message\": \"Hello World!\", \"sequence\": 6}'\n",
      "from topic: \n",
      "sdk/test/Python\n",
      "--------------\n",
      "\n",
      "\n",
      "2020-04-24 08:38:53,366 - AWSIoTPythonSDK.core.protocol.internal.clients - DEBUG - Invoking custom event callback...\n",
      "2020-04-24 08:38:54,340 - AWSIoTPythonSDK.core.protocol.mqtt_core - INFO - Performing sync publish...\n",
      "2020-04-24 08:38:54,341 - AWSIoTPythonSDK.core.protocol.internal.clients - DEBUG - Filling in custom puback (QoS>0) event callback...\n",
      "2020-04-24 08:38:54,352 - AWSIoTPythonSDK.core.protocol.internal.workers - DEBUG - Produced [puback] event\n",
      "2020-04-24 08:38:54,352 - AWSIoTPythonSDK.core.protocol.internal.workers - DEBUG - Dispatching [puback] event\n",
      "2020-04-24 08:38:54,352 - AWSIoTPythonSDK.core.protocol.internal.clients - DEBUG - Invoking custom event callback...\n",
      "2020-04-24 08:38:54,352 - AWSIoTPythonSDK.core.protocol.internal.clients - DEBUG - This custom event callback is for pub/sub/unsub, removing it after invocation...\n",
      "2020-04-24 08:38:54,378 - AWSIoTPythonSDK.core.protocol.internal.workers - DEBUG - Produced [message] event\n",
      "2020-04-24 08:38:54,378 - AWSIoTPythonSDK.core.protocol.internal.workers - DEBUG - Dispatching [message] event\n",
      "Received a new message: \n",
      "b'{\"message\": \"Hello World!\", \"sequence\": 7}'\n",
      "from topic: \n",
      "sdk/test/Python\n",
      "--------------\n",
      "\n",
      "\n",
      "2020-04-24 08:38:54,378 - AWSIoTPythonSDK.core.protocol.internal.clients - DEBUG - Invoking custom event callback...\n",
      "2020-04-24 08:38:55,352 - AWSIoTPythonSDK.core.protocol.mqtt_core - INFO - Performing sync publish...\n",
      "2020-04-24 08:38:55,353 - AWSIoTPythonSDK.core.protocol.internal.clients - DEBUG - Filling in custom puback (QoS>0) event callback...\n",
      "2020-04-24 08:38:55,364 - AWSIoTPythonSDK.core.protocol.internal.workers - DEBUG - Produced [puback] event\n",
      "2020-04-24 08:38:55,364 - AWSIoTPythonSDK.core.protocol.internal.workers - DEBUG - Dispatching [puback] event\n",
      "2020-04-24 08:38:55,364 - AWSIoTPythonSDK.core.protocol.internal.clients - DEBUG - Invoking custom event callback...\n",
      "2020-04-24 08:38:55,364 - AWSIoTPythonSDK.core.protocol.internal.clients - DEBUG - This custom event callback is for pub/sub/unsub, removing it after invocation...\n",
      "2020-04-24 08:38:55,389 - AWSIoTPythonSDK.core.protocol.internal.workers - DEBUG - Produced [message] event\n",
      "2020-04-24 08:38:55,390 - AWSIoTPythonSDK.core.protocol.internal.workers - DEBUG - Dispatching [message] event\n",
      "Received a new message: \n",
      "b'{\"message\": \"Hello World!\", \"sequence\": 8}'\n",
      "from topic: \n",
      "sdk/test/Python\n",
      "--------------\n",
      "\n",
      "\n",
      "2020-04-24 08:38:55,390 - AWSIoTPythonSDK.core.protocol.internal.clients - DEBUG - Invoking custom event callback...\n",
      "^C\n",
      "Traceback (most recent call last):\n",
      "  File \"aws-iot-device-sdk-python/samples/basicPubSub/basicPubSub.py\", line 124, in <module>\n",
      "    time.sleep(1)\n",
      "KeyboardInterrupt\n"
     ]
    }
   ],
   "source": [
    "!cd iot-beyoung-01/ && chmod +x ./start.sh && ./start.sh"
   ]
  },
  {
   "cell_type": "markdown",
   "metadata": {},
   "source": [
    "### You can see the message in AWS MQTT client\n",
    "\n",
    "![](./images/07.png)"
   ]
  },
  {
   "cell_type": "markdown",
   "metadata": {},
   "source": [
    "## IoT devices connection details"
   ]
  },
  {
   "cell_type": "code",
   "execution_count": 2,
   "metadata": {},
   "outputs": [
    {
     "data": {
      "text/plain": [
       "'a2xqi9tklutvnu-ats.iot.us-west-2.amazonaws.com'"
      ]
     },
     "execution_count": 2,
     "metadata": {},
     "output_type": "execute_result"
    }
   ],
   "source": [
    "import boto3\n",
    "\n",
    "iot = boto3.client('iot')\n",
    "endpoint = iot.describe_endpoint(endpointType='iot:Data-ATS')['endpointAddress']\n",
    "endpoint"
   ]
  },
  {
   "cell_type": "code",
   "execution_count": 15,
   "metadata": {},
   "outputs": [
    {
     "name": "stdout",
     "output_type": "stream",
     "text": [
      "aws-iot-device-sdk-python  iot-beyoung-01.private.key  root-CA.crt\r\n",
      "iot-beyoung-01.cert.pem    iot-beyoung-01.public.key   start.sh\r\n"
     ]
    }
   ],
   "source": [
    "!ls iot-beyoung-01/"
   ]
  },
  {
   "cell_type": "code",
   "execution_count": null,
   "metadata": {},
   "outputs": [],
   "source": [
    "## You can use the following command to test the connection.\n",
    "\n",
    "!cd iot-beyoung-01 && openssl s_client -connect {endpoint}:8443 \\\n",
    "    -CAfile root-CA.pem -cert iot-beyoung-01.cert.pem -key iot-beyoung-01.private.key"
   ]
  },
  {
   "cell_type": "markdown",
   "metadata": {},
   "source": []
  }
 ],
 "metadata": {
  "kernelspec": {
   "display_name": "conda_python3",
   "language": "python",
   "name": "conda_python3"
  },
  "language_info": {
   "codemirror_mode": {
    "name": "ipython",
    "version": 3
   },
   "file_extension": ".py",
   "mimetype": "text/x-python",
   "name": "python",
   "nbconvert_exporter": "python",
   "pygments_lexer": "ipython3",
   "version": "3.6.5"
  }
 },
 "nbformat": 4,
 "nbformat_minor": 4
}
