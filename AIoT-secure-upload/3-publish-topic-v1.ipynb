{
 "cells": [
  {
   "cell_type": "code",
   "execution_count": 1,
   "metadata": {},
   "outputs": [],
   "source": [
    "from AWSIoTPythonSDK.MQTTLib import AWSIoTMQTTClient\n",
    "import logging\n",
    "import time\n",
    "import argparse\n",
    "import json"
   ]
  },
  {
   "cell_type": "code",
   "execution_count": 2,
   "metadata": {},
   "outputs": [
    {
     "name": "stdout",
     "output_type": "stream",
     "text": [
      "/home/ec2-user/SageMaker/myAWSStudyBlog/AIoT-secure-upload/iot-beyoung-01\n"
     ]
    }
   ],
   "source": [
    "%cd iot-beyoung-01/"
   ]
  },
  {
   "cell_type": "code",
   "execution_count": 3,
   "metadata": {},
   "outputs": [],
   "source": [
    "host = 'a2xqi9tklutvnu-ats.iot.us-west-2.amazonaws.com'\n",
    "rootCAPath = 'root-CA.crt'\n",
    "certificatePath = 'iot-beyoung-01.cert.pem'\n",
    "privateKeyPath = 'iot-beyoung-01.private.key'\n",
    "port = 8883\n",
    "clientId = 'basicPubSub'\n",
    "topic = 'sdk/test/Python'"
   ]
  },
  {
   "cell_type": "code",
   "execution_count": null,
   "metadata": {},
   "outputs": [],
   "source": [
    "# # Configure logging\n",
    "# logger = logging.getLogger(\"AWSIoTPythonSDK.core\")\n",
    "# logger.setLevel(logging.DEBUG)\n",
    "# streamHandler = logging.StreamHandler()\n",
    "# formatter = logging.Formatter('%(asctime)s - %(name)s - %(levelname)s - %(message)s')\n",
    "# streamHandler.setFormatter(formatter)\n",
    "# logger.addHandler(streamHandler)"
   ]
  },
  {
   "cell_type": "code",
   "execution_count": 4,
   "metadata": {},
   "outputs": [],
   "source": [
    "myAWSIoTMQTTClient = AWSIoTMQTTClient(clientId)\n",
    "myAWSIoTMQTTClient.configureEndpoint(host, port)\n",
    "myAWSIoTMQTTClient.configureCredentials(rootCAPath, privateKeyPath, certificatePath)"
   ]
  },
  {
   "cell_type": "code",
   "execution_count": 5,
   "metadata": {},
   "outputs": [],
   "source": [
    "myAWSIoTMQTTClient.configureAutoReconnectBackoffTime(1, 32, 20)\n",
    "myAWSIoTMQTTClient.configureOfflinePublishQueueing(-1)  # Infinite offline Publish queueing\n",
    "myAWSIoTMQTTClient.configureDrainingFrequency(2)  # Draining: 2 Hz\n",
    "myAWSIoTMQTTClient.configureConnectDisconnectTimeout(10)  # 10 sec\n",
    "myAWSIoTMQTTClient.configureMQTTOperationTimeout(5)  # 5 sec"
   ]
  },
  {
   "cell_type": "code",
   "execution_count": 6,
   "metadata": {},
   "outputs": [
    {
     "data": {
      "text/plain": [
       "True"
      ]
     },
     "execution_count": 6,
     "metadata": {},
     "output_type": "execute_result"
    }
   ],
   "source": [
    "# Connect and subscribe to AWS IoT\n",
    "myAWSIoTMQTTClient.connect()"
   ]
  },
  {
   "cell_type": "code",
   "execution_count": 7,
   "metadata": {},
   "outputs": [
    {
     "data": {
      "text/plain": [
       "True"
      ]
     },
     "execution_count": 7,
     "metadata": {},
     "output_type": "execute_result"
    }
   ],
   "source": [
    "message = {}\n",
    "message['message'] = \"hello from the jupyter\"\n",
    "message['sequence'] = 2\n",
    "messageJson = json.dumps(message)\n",
    "myAWSIoTMQTTClient.publish(topic, messageJson, 1)"
   ]
  },
  {
   "cell_type": "markdown",
   "metadata": {},
   "source": [
    "# You can see the result on AWS MQTT Test Client\n",
    "\n",
    "![](./images/08.png)"
   ]
  },
  {
   "cell_type": "markdown",
   "metadata": {},
   "source": [
    "# Change the device policy\n",
    "\n",
    "We need to change the device policy. So that we can post the topic to 'iot/presigned_upload'. \n",
    "\n",
    "In AWS IoT > Security > Policies > iot-beyoung-01-Policy.\n",
    "\n",
    "* Add topics topic/iot/presigned_upload and topic/iot/presigned_upload/result\n",
    "* Add client id as iot-beyoung-nb\n",
    "\n",
    "**important**\n",
    "\n",
    "* client id will be checked when you send the topic"
   ]
  },
  {
   "cell_type": "markdown",
   "metadata": {},
   "source": [
    "```\n",
    "{\n",
    "  \"Version\": \"2012-10-17\",\n",
    "  \"Statement\": [\n",
    "    {\n",
    "      \"Effect\": \"Allow\",\n",
    "      \"Action\": [\n",
    "        \"iot:Publish\",\n",
    "        \"iot:Receive\"\n",
    "      ],\n",
    "      \"Resource\": [\n",
    "        \"arn:aws:iot:us-west-2:476271697919:topic/sdk/test/Python\",\n",
    "        \"arn:aws:iot:us-west-2:476271697919:topic/iot/presigned_upload/result\",\n",
    "        \"arn:aws:iot:us-west-2:476271697919:topic/iot/presigned_upload\"\n",
    "      ]\n",
    "    },\n",
    "    {\n",
    "      \"Effect\": \"Allow\",\n",
    "      \"Action\": [\n",
    "        \"iot:Subscribe\"\n",
    "      ],\n",
    "      \"Resource\": [\n",
    "        \"arn:aws:iot:us-west-2:476271697919:topicfilter/sdk/test/Python\",\n",
    "        \"arn:aws:iot:us-west-2:476271697919:topicfilter/iot/presigned_upload/result\"\n",
    "      ]\n",
    "    },\n",
    "    {\n",
    "      \"Effect\": \"Allow\",\n",
    "      \"Action\": [\n",
    "        \"iot:Connect\"\n",
    "      ],\n",
    "      \"Resource\": [\n",
    "        \"arn:aws:iot:us-west-2:476271697919:client/basicPubSub\",\n",
    "        \"arn:aws:iot:us-west-2:476271697919:client/presignedURL\"\n",
    "      ]\n",
    "    }\n",
    "  ]\n",
    "}\n",
    "```"
   ]
  },
  {
   "cell_type": "markdown",
   "metadata": {},
   "source": [
    "## Send message to topic presigned upload\n",
    "\n",
    "* Subscribe the 'iot/presigned_upload/result' in the AWS IoT console\n",
    "* Run the following script"
   ]
  },
  {
   "cell_type": "code",
   "execution_count": 8,
   "metadata": {},
   "outputs": [
    {
     "data": {
      "text/plain": [
       "True"
      ]
     },
     "execution_count": 8,
     "metadata": {},
     "output_type": "execute_result"
    }
   ],
   "source": [
    "topic = 'iot/presigned_upload'\n",
    "message = {\n",
    "  \"bucket\": \"beyoung-pb-upload-download\",\n",
    "  \"prefix\": \"iot-devices\",\n",
    "  \"name\": \"bear-01.jpg\",\n",
    "  \"expiration\": 300\n",
    "}\n",
    "\n",
    "messageJson = json.dumps(message)\n",
    "myAWSIoTMQTTClient.publish(topic, messageJson, 1)"
   ]
  },
  {
   "cell_type": "markdown",
   "metadata": {},
   "source": [
    "![](./images/09.png)"
   ]
  },
  {
   "cell_type": "code",
   "execution_count": null,
   "metadata": {},
   "outputs": [],
   "source": []
  }
 ],
 "metadata": {
  "kernelspec": {
   "display_name": "conda_python3",
   "language": "python",
   "name": "conda_python3"
  },
  "language_info": {
   "codemirror_mode": {
    "name": "ipython",
    "version": 3
   },
   "file_extension": ".py",
   "mimetype": "text/x-python",
   "name": "python",
   "nbconvert_exporter": "python",
   "pygments_lexer": "ipython3",
   "version": "3.6.5"
  }
 },
 "nbformat": 4,
 "nbformat_minor": 4
}
