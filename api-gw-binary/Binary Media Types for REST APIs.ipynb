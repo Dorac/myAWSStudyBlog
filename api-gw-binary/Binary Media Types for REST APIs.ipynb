{
 "cells": [
  {
   "cell_type": "markdown",
   "metadata": {},
   "source": [
    "# Binary Media Types for REST APIs\n",
    "\n",
    "In API Gateway, the API request and response can have a text or binary payload. \n",
    "    - A text payload is a UTF-8-encoded JSON string, and \n",
    "    - The binary payload can be, for example, a JPEG file, a GZip file, or an XML file.\n",
    "\n",
    "By default, API Gateway treats the message body as a text payload and applies any preconfigured mapping template to transform the JSON string.\n",
    "\n",
    "For API Gateway to pass binary payloads, you add the media types to the [binaryMediaTypes](https://docs.aws.amazon.com/apigateway/api-reference/resource/rest-api/#binaryMediaTypes) list of the RestApi resource.\n",
    "\n",
    "Here is the [link](https://docs.aws.amazon.com/apigateway/latest/developerguide/api-gateway-payload-encodings.html)\n"
   ]
  },
  {
   "cell_type": "markdown",
   "metadata": {},
   "source": [
    "# Add Media Type in the API Gateway console\n",
    "\n",
    "* API -> Settings -> Binary Media Types\n",
    "    * input: `image/*`\n",
    "\n",
    "![](./images/01.png)\n",
    "![](./images/02.png)"
   ]
  },
  {
   "cell_type": "markdown",
   "metadata": {},
   "source": [
    "# Use lambda proxy mode\n",
    "\n",
    "* If you don't use lambda proxy mode, you can set the property to `CONVERT_TO_TEXT` to have the request payload converted from a binary blob to a base64-encoded string\n",
    "\n",
    "![](./images/03.png)"
   ]
  },
  {
   "cell_type": "markdown",
   "metadata": {},
   "source": [
    "## Lambda Functions"
   ]
  },
  {
   "cell_type": "code",
   "execution_count": null,
   "metadata": {},
   "outputs": [],
   "source": [
    "import json, boto3, base64\n",
    "\n",
    "def lambda_handler(event, context):\n",
    "    s3_client = boto3.client('s3')\n",
    "    print(\"isBase64:{}\".format(event['isBase64Encoded']))\n",
    "    imgbody = base64.b64decode(event['body'])\n",
    "    s3_client.put_object(Bucket='beyoung-app', Key='demo.png', Body=imgbody)\n",
    "    \n",
    "    return { \"statusCode\": 200, \"body\": json.dumps(\"Cheers from AWS Lambda!!\") }"
   ]
  },
  {
   "cell_type": "markdown",
   "metadata": {},
   "source": [
    "## Curl local test"
   ]
  },
  {
   "cell_type": "code",
   "execution_count": null,
   "metadata": {},
   "outputs": [],
   "source": [
    "curl --request POST -H \"Accept: image/png\" -H \"Content-Type: image/png\" --data-binary \"@apigateway.png\" https://<uuid>.execute-api.us-east-1.amazonaws.com/prod/s3"
   ]
  },
  {
   "cell_type": "markdown",
   "metadata": {},
   "source": [
    "# Important\n",
    "\n",
    "* If you must set the binary media type, API gateway will help you to convert the data into base64 encoding.\n",
    "* Check `print(\"isBase64:{}\".format(event['isBase64Encoded']))` this field. If not, it will treat the data as utf-8 text."
   ]
  },
  {
   "cell_type": "code",
   "execution_count": null,
   "metadata": {},
   "outputs": [],
   "source": []
  }
 ],
 "metadata": {
  "kernelspec": {
   "display_name": "Python 3",
   "language": "python",
   "name": "python3"
  },
  "language_info": {
   "codemirror_mode": {
    "name": "ipython",
    "version": 3
   },
   "file_extension": ".py",
   "mimetype": "text/x-python",
   "name": "python",
   "nbconvert_exporter": "python",
   "pygments_lexer": "ipython3",
   "version": "3.7.3"
  }
 },
 "nbformat": 4,
 "nbformat_minor": 2
}
