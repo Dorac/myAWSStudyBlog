{
 "cells": [
  {
   "cell_type": "code",
   "execution_count": 1,
   "metadata": {},
   "outputs": [],
   "source": [
    "from sklearn.feature_extraction.text import TfidfVectorizer\n",
    "from sklearn.cluster import KMeans"
   ]
  },
  {
   "cell_type": "code",
   "execution_count": 2,
   "metadata": {},
   "outputs": [],
   "source": [
    "list1 = ['account issue', 'advanced configuration', 'antenna support', 'can not load some web page', \\\n",
    "'can not install driver', 'can not view from internet', 'cascading', 'cloud recording', \\\n",
    "'complaint', 'dview 7', 'dview cam', 'device not recognized', 'device problem', 'device not detected', \\\n",
    "'driver can not install']\n",
    "\n",
    "list2 = ['wifi no signal', 'no internet']"
   ]
  },
  {
   "cell_type": "code",
   "execution_count": 3,
   "metadata": {},
   "outputs": [
    {
     "data": {
      "text/plain": [
       "KMeans(algorithm='auto', copy_x=True, init='k-means++', max_iter=1000,\n",
       "    n_clusters=2, n_init=10, n_jobs=1, precompute_distances=True,\n",
       "    random_state=None, tol=0.0001, verbose=0)"
      ]
     },
     "execution_count": 3,
     "metadata": {},
     "output_type": "execute_result"
    }
   ],
   "source": [
    "true_k = 2\n",
    "\n",
    "# vectorizer = TfidfVectorizer(min_df = 0, max_df=0.5, stop_words = \"english\", ngram_range = (1,3))\n",
    "vectorizer = TfidfVectorizer(stop_words='english')\n",
    "vec = vectorizer.fit(list1)   # train vec using list1\n",
    "vectorized = vec.transform(list1)   # transform list1 using vec\n",
    "\n",
    "km = KMeans(n_clusters=true_k, init='k-means++', n_init=10, max_iter=1000, tol=0.0001, precompute_distances=True, verbose=0, random_state=None, n_jobs=1)\n",
    "km.fit(vectorized)\n"
   ]
  },
  {
   "cell_type": "code",
   "execution_count": 4,
   "metadata": {},
   "outputs": [
    {
     "data": {
      "text/plain": [
       "array([0, 0], dtype=int32)"
      ]
     },
     "execution_count": 4,
     "metadata": {},
     "output_type": "execute_result"
    }
   ],
   "source": [
    "list2Vec = vec.transform(list2)  # transform list2 using vec\n",
    "km.predict(list2Vec)"
   ]
  },
  {
   "cell_type": "code",
   "execution_count": 5,
   "metadata": {},
   "outputs": [],
   "source": [
    "order_centroids = km.cluster_centers_.argsort()[:, ::-1]\n",
    "terms = vectorizer.get_feature_names()"
   ]
  },
  {
   "cell_type": "code",
   "execution_count": 6,
   "metadata": {},
   "outputs": [
    {
     "name": "stdout",
     "output_type": "stream",
     "text": [
      "Cluster 0:\n",
      " dview\n",
      " driver\n",
      " install\n",
      " cascading\n",
      " complaint\n",
      " cam\n",
      " view\n",
      " advanced\n",
      " antenna\n",
      " cloud\n",
      "Cluster 1:\n",
      " device\n",
      " recognized\n",
      " problem\n",
      " detected\n",
      " web\n",
      " advanced\n",
      " antenna\n",
      " cam\n",
      " cascading\n",
      " cloud\n"
     ]
    }
   ],
   "source": [
    "for i in range(true_k):\n",
    "    print(\"Cluster %d:\" % i),\n",
    "    for ind in order_centroids[i, :10]:\n",
    "        print(' %s' % terms[ind])"
   ]
  },
  {
   "cell_type": "code",
   "execution_count": 7,
   "metadata": {},
   "outputs": [
    {
     "data": {
      "text/plain": [
       "['account',\n",
       " 'advanced',\n",
       " 'antenna',\n",
       " 'cam',\n",
       " 'cascading',\n",
       " 'cloud',\n",
       " 'complaint',\n",
       " 'configuration',\n",
       " 'detected',\n",
       " 'device',\n",
       " 'driver',\n",
       " 'dview',\n",
       " 'install',\n",
       " 'internet',\n",
       " 'issue',\n",
       " 'load',\n",
       " 'page',\n",
       " 'problem',\n",
       " 'recognized',\n",
       " 'recording',\n",
       " 'support',\n",
       " 'view',\n",
       " 'web']"
      ]
     },
     "execution_count": 7,
     "metadata": {},
     "output_type": "execute_result"
    }
   ],
   "source": [
    "terms"
   ]
  },
  {
   "cell_type": "code",
   "execution_count": null,
   "metadata": {},
   "outputs": [],
   "source": []
  }
 ],
 "metadata": {
  "kernelspec": {
   "display_name": "conda_python3",
   "language": "python",
   "name": "conda_python3"
  },
  "language_info": {
   "codemirror_mode": {
    "name": "ipython",
    "version": 3
   },
   "file_extension": ".py",
   "mimetype": "text/x-python",
   "name": "python",
   "nbconvert_exporter": "python",
   "pygments_lexer": "ipython3",
   "version": "3.6.5"
  }
 },
 "nbformat": 4,
 "nbformat_minor": 2
}
