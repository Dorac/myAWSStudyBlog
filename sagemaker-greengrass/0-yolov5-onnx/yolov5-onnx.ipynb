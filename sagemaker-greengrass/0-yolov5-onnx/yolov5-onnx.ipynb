{
 "cells": [
  {
   "cell_type": "markdown",
   "metadata": {},
   "source": [
    "# Convert YoloV5 to ONNX on SageMaker Notebook Instance\n",
    "\n",
    "The official document is [here](https://github.com/ultralytics/yolov5/issues/251). Here is demostration how to use SageMaker jupyter notebook to export YoloV5 model to ONNX."
   ]
  },
  {
   "cell_type": "code",
   "execution_count": null,
   "metadata": {},
   "outputs": [],
   "source": [
    "!pip install tensorboard onnx torch torchvision --upgrade"
   ]
  },
  {
   "cell_type": "code",
   "execution_count": null,
   "metadata": {},
   "outputs": [],
   "source": [
    "# clean up if loaded yolov5\n",
    "# !rm -rf yolov5\n",
    "# !rm *.onnx *.pt"
   ]
  },
  {
   "cell_type": "code",
   "execution_count": null,
   "metadata": {},
   "outputs": [],
   "source": [
    "!git clone https://github.com/ultralytics/yolov5"
   ]
  },
  {
   "cell_type": "code",
   "execution_count": 1,
   "metadata": {},
   "outputs": [],
   "source": [
    "# Add yolov5 system path\n",
    "import sys, os, onnx, torch"
   ]
  },
  {
   "cell_type": "code",
   "execution_count": 2,
   "metadata": {},
   "outputs": [
    {
     "name": "stdout",
     "output_type": "stream",
     "text": [
      "\n",
      "Starting TorchScript export with torch 1.5.1...\n"
     ]
    }
   ],
   "source": [
    "# must 1.5+\n",
    "print('\\nStarting TorchScript export with torch %s...' % torch.__version__)"
   ]
  },
  {
   "cell_type": "code",
   "execution_count": 3,
   "metadata": {},
   "outputs": [
    {
     "data": {
      "text/plain": [
       "['',\n",
       " '/home/ec2-user/anaconda3/envs/pytorch_p36/lib/python36.zip',\n",
       " '/home/ec2-user/anaconda3/envs/pytorch_p36/lib/python3.6',\n",
       " '/home/ec2-user/anaconda3/envs/pytorch_p36/lib/python3.6/lib-dynload',\n",
       " '/home/ec2-user/anaconda3/envs/pytorch_p36/lib/python3.6/site-packages',\n",
       " '/home/ec2-user/anaconda3/envs/pytorch_p36/lib/python3.6/site-packages/IPython/extensions',\n",
       " '/home/ec2-user/.ipython',\n",
       " '/home/ec2-user/SageMaker/myAWSStudyBlog/sagemaker-greengrass/0-yolov5-onnx/yolov5']"
      ]
     },
     "execution_count": 3,
     "metadata": {},
     "output_type": "execute_result"
    }
   ],
   "source": [
    "fp_yolov5 = os.path.abspath(os.getcwd()) + \"/yolov5\"\n",
    "sys.path.append(fp_yolov5)\n",
    "sys.path"
   ]
  },
  {
   "cell_type": "markdown",
   "metadata": {},
   "source": [
    "### Change working directory to yolov5"
   ]
  },
  {
   "cell_type": "code",
   "execution_count": 4,
   "metadata": {},
   "outputs": [
    {
     "name": "stdout",
     "output_type": "stream",
     "text": [
      "/home/ec2-user/SageMaker/myAWSStudyBlog/sagemaker-greengrass/0-yolov5-onnx/yolov5\n"
     ]
    }
   ],
   "source": [
    "%cd ./yolov5"
   ]
  },
  {
   "cell_type": "markdown",
   "metadata": {},
   "source": [
    "# Download pre-trained models"
   ]
  },
  {
   "cell_type": "code",
   "execution_count": 5,
   "metadata": {},
   "outputs": [],
   "source": [
    "!python -c \"from utils.google_utils import *; attempt_download('weights/yolov5s.pt');\""
   ]
  },
  {
   "cell_type": "code",
   "execution_count": 6,
   "metadata": {},
   "outputs": [
    {
     "name": "stdout",
     "output_type": "stream",
     "text": [
      "download_weights.sh  yolov5s.pt\r\n"
     ]
    }
   ],
   "source": [
    "!ls weights"
   ]
  },
  {
   "cell_type": "markdown",
   "metadata": {},
   "source": [
    "# Export a Trained YoloV5 Model"
   ]
  },
  {
   "cell_type": "code",
   "execution_count": 7,
   "metadata": {},
   "outputs": [],
   "source": [
    "img = torch.zeros((1, 3, 640, 640))\n",
    "fp_model = './weights/yolov5s.pt'"
   ]
  },
  {
   "cell_type": "code",
   "execution_count": 8,
   "metadata": {},
   "outputs": [],
   "source": [
    "model = torch.load(fp_model, map_location=torch.device('cpu'))['model'].float()\n",
    "model.eval()\n",
    "model.model[-1].export = True # set Detect() layer export = True, which will not include detect layer\n",
    "y = model(img)  # dry run, to inference mode"
   ]
  },
  {
   "cell_type": "markdown",
   "metadata": {},
   "source": [
    "## torchscript"
   ]
  },
  {
   "cell_type": "code",
   "execution_count": 9,
   "metadata": {},
   "outputs": [],
   "source": [
    "fp_torchscript = './yolov5s.torchscript.pt'  # filename\n",
    "ts = torch.jit.trace(model, img)\n",
    "ts.save(fp_torchscript)"
   ]
  },
  {
   "cell_type": "markdown",
   "metadata": {},
   "source": [
    "## onnx model"
   ]
  },
  {
   "cell_type": "code",
   "execution_count": 10,
   "metadata": {},
   "outputs": [
    {
     "name": "stdout",
     "output_type": "stream",
     "text": [
      "Fusing layers... Model Summary: 140 layers, 7.45958e+06 parameters, 7.45958e+06 gradients\n"
     ]
    }
   ],
   "source": [
    "fp_onnx = './yolov5s.onnx'  # filename\n",
    "# set Detect() layer export=False, ref [issue343](https://github.com/ultralytics/yolov5/issues/343#issuecomment-658021043) \n",
    "model.fuse()  # only for ONNX\n",
    "torch.onnx.export(model, img, fp_onnx, verbose=False, opset_version=12, input_names=['images'],\n",
    "                          output_names=['classes', 'boxes'] if y is None else ['output'])"
   ]
  },
  {
   "cell_type": "markdown",
   "metadata": {},
   "source": [
    "## onnx model with detect layer"
   ]
  },
  {
   "cell_type": "code",
   "execution_count": 11,
   "metadata": {},
   "outputs": [
    {
     "name": "stdout",
     "output_type": "stream",
     "text": [
      "Fusing layers... Model Summary: 140 layers, 7.45958e+06 parameters, 7.45958e+06 gradients\n"
     ]
    },
    {
     "name": "stderr",
     "output_type": "stream",
     "text": [
      "/home/ec2-user/SageMaker/myAWSStudyBlog/sagemaker-greengrass/0-yolov5-onnx/yolov5/models/yolo.py:30: TracerWarning: Converting a tensor to a Python boolean might cause the trace to be incorrect. We can't record the data flow of Python values, so this value will be treated as a constant in the future. This means that the trace might not generalize to other inputs!\n",
      "  if self.grid[i].shape[2:4] != x[i].shape[2:4]:\n"
     ]
    }
   ],
   "source": [
    "fp_onnx_detect = './yolov5s_detect.onnx'  # filename\n",
    "\n",
    "model = torch.load(fp_model, map_location=torch.device('cpu'))['model'].float()\n",
    "model.eval()\n",
    "# ref [issue343](https://github.com/ultralytics/yolov5/issues/343#issuecomment-658021043)\n",
    "model.model[-1].export = False\n",
    "y = model(img)  # dry run to inference mode\n",
    "model.fuse()  # only for ONNX\n",
    "torch.onnx.export(model, img, fp_onnx_detect, verbose=False, opset_version=12, input_names=['images'],\n",
    "                          output_names=['classes', 'boxes'] if y is None else ['output'])"
   ]
  },
  {
   "cell_type": "markdown",
   "metadata": {},
   "source": [
    "The warning of the output is because of inference: https://github.com/ultralytics/yolov5/blob/master/models/yolo.py#L29-L36"
   ]
  },
  {
   "cell_type": "code",
   "execution_count": 12,
   "metadata": {},
   "outputs": [
    {
     "name": "stdout",
     "output_type": "stream",
     "text": [
      "ONNX export success, saved as ./yolov5s_detect.onnx\n"
     ]
    }
   ],
   "source": [
    "onnx_model = onnx.load(fp_onnx_detect)  # load onnx model\n",
    "onnx.checker.check_model(onnx_model)  # check onnx model\n",
    "# print(onnx.helper.printable_graph(onnx_model.graph))  # print a human readable model\n",
    "print('ONNX export success, saved as %s' % fp_onnx_detect)"
   ]
  },
  {
   "cell_type": "markdown",
   "metadata": {},
   "source": [
    "### Move tourch script and ONNX model out"
   ]
  },
  {
   "cell_type": "code",
   "execution_count": 13,
   "metadata": {},
   "outputs": [],
   "source": [
    "!cp {fp_torchscript} ../yolov5s.torchscript.pt\n",
    "!cp {fp_onnx} ../yolov5s.onnx\n",
    "!cp {fp_onnx_detect} ../yolov5s_detect.onnx"
   ]
  },
  {
   "cell_type": "code",
   "execution_count": null,
   "metadata": {},
   "outputs": [],
   "source": [
    "# use https://lutzroeder.github.io/netron/ to check the model"
   ]
  }
 ],
 "metadata": {
  "kernelspec": {
   "display_name": "conda_pytorch_p36",
   "language": "python",
   "name": "conda_pytorch_p36"
  },
  "language_info": {
   "codemirror_mode": {
    "name": "ipython",
    "version": 3
   },
   "file_extension": ".py",
   "mimetype": "text/x-python",
   "name": "python",
   "nbconvert_exporter": "python",
   "pygments_lexer": "ipython3",
   "version": "3.6.10"
  }
 },
 "nbformat": 4,
 "nbformat_minor": 4
}
