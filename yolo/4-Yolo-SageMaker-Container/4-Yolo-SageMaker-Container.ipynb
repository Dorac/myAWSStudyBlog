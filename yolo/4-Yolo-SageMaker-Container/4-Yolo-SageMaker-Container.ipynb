{
 "cells": [
  {
   "cell_type": "code",
   "execution_count": null,
   "metadata": {},
   "outputs": [],
   "source": [
    "# Prerequired\n",
    "# https://github.com/AlexeyAB/darknet#how-to-train-to-detect-your-custom-objects\n",
    "\n",
    "cd container/local_test/test_dir/input/data/train\n",
    "cp ~/SageMaker/myAWSStudyBlog/yolo/5-COCO-to-Yolo/train/*.* .\n",
    "\n",
    "cd container/local_test/test_dir/input/data/weights\n",
    "wget https://github.com/AlexeyAB/darknet/releases/download/darknet_yolo_v3_optimal/yolov4.conv.137\n",
    "\n",
    "cd container/local_test/test_dir/input/data/cfg\n",
    "cp yolov4-custom.cfg yolo-obj.cfg"
   ]
  },
  {
   "cell_type": "markdown",
   "metadata": {},
   "source": [
    "## Local build the docker images"
   ]
  },
  {
   "cell_type": "code",
   "execution_count": null,
   "metadata": {},
   "outputs": [],
   "source": [
    "$(aws ecr get-login --registry-ids 763104351884 --no-include-email)\n",
    "cd container\n",
    "docker build -t yolo .\n",
    "\n",
    "# ## cpu to debug the train\n",
    "# docker run -it yolo:latest /bin/bash\n",
    "\n",
    "# ## if gpu\n",
    "# nvidia-docker run -it yolo:latest /bin/bash"
   ]
  },
  {
   "cell_type": "code",
   "execution_count": null,
   "metadata": {},
   "outputs": [],
   "source": [
    "## local test\n",
    "cd local_test\n",
    "nvidia-docker run -v $(pwd)/test_dir:/opt/ml -it yolo:latest /bin/bash\n",
    "\n",
    "## create symbolic link (mapping data to /opt/ml/code)\n",
    "ln -s /opt/ml/input/data/ data\n",
    "ln -s /opt/ml/model/ model"
   ]
  },
  {
   "cell_type": "markdown",
   "metadata": {},
   "source": [
    "```\n",
    "root@d6a5f8ef55c3:/opt/ml/code# ls data/\n",
    "cfg  names  train  valid  weights\n",
    "```"
   ]
  },
  {
   "cell_type": "code",
   "execution_count": null,
   "metadata": {},
   "outputs": [],
   "source": [
    "darknet detector train data/cfg/obj.data data/cfg/yolo-obj.cfg data/weights/yolov4.conv.137"
   ]
  },
  {
   "cell_type": "markdown",
   "metadata": {},
   "source": [
    "# Debug"
   ]
  },
  {
   "cell_type": "code",
   "execution_count": null,
   "metadata": {},
   "outputs": [],
   "source": [
    "## Look darknet compiled did not find libopencv, set mosaic=0 first\n",
    "\n",
    "root@199b19ff7907:/opt/ml/code# darknet detector train data/cfg/obj.data data/cfg/yolo-obj.cfg data/weights/yolov4.conv.137 CUDA-version: 10000 (10020), GPU count: 1\n",
    " OpenCV isn't used - data augmentation will be slow\n",
    "valid: Using default 'data/train/train.txt'\n",
    "yolo-obj\n",
    " 0 : compute_capability = 700, cudnn_half = 0, GPU: Tesla V100-SXM2-16GB\n",
    "net.optimized_memory = 0\n",
    "\n",
    "......\n",
    " 608 x 608\n",
    " Create 64 permanent cpu-threads\n",
    "\n",
    " mosaic=1 - compile Darknet with OpenCV for using mosaic=1"
   ]
  },
  {
   "cell_type": "code",
   "execution_count": null,
   "metadata": {},
   "outputs": [],
   "source": [
    "## training\n",
    "\n",
    "1143: 0.486333, 0.441965 avg loss, 0.001000 rate, 5.488336 seconds, 73152 images, 0.946526 hours left\n",
    "1151: 0.402091, 0.425088 avg loss, 0.001000 rate, 5.053686 seconds, 73664 images, 0.974063 hours left\n",
    "1217: 0.260138, 0.296006 avg loss, 0.001000 rate, 4.625333 seconds, 77888 images, 0.960187 hours left\n",
    "2000: 0.125233, 0.148810 avg loss, 0.000010 rate, 5.519563 seconds, 128000 images, 0.108507 hours left"
   ]
  },
  {
   "cell_type": "markdown",
   "metadata": {},
   "source": [
    "## Build and push to ECR"
   ]
  },
  {
   "cell_type": "code",
   "execution_count": 1,
   "metadata": {},
   "outputs": [
    {
     "name": "stdout",
     "output_type": "stream",
     "text": [
      "# SageMaker PyTorch image\r\n",
      "FROM 763104351884.dkr.ecr.us-west-2.amazonaws.com/tensorflow-training:1.15.2-gpu-py36-cu100-ubuntu18.04\r\n",
      "\r\n",
      "ENV PATH=\"/opt/ml/code:${PATH}\"\r\n",
      "\r\n",
      "## install cmake 3.17 && opencv\r\n",
      "RUN apt remove cmake\r\n",
      "RUN apt-get update \\\r\n",
      " && apt-get install -y --no-install-recommends --allow-unauthenticated \\\r\n",
      "    python3-opencv\r\n",
      "RUN curl -sSL https://github.com/Kitware/CMake/releases/download/v3.17.2/cmake-3.17.2-Linux-x86_64.tar.gz | tar -xzC /opt\r\n",
      "RUN mv /opt/cmake-3.17.2-Linux-x86_64 /opt/cmake\r\n",
      "RUN ln -s /opt/cmake/bin/cmake /usr/bin/cmake\r\n",
      "\r\n",
      "## fix /usr/local/cuda-10.0/compat/libcuda.so\r\n",
      "RUN bash -c 'echo \"/usr/local/cuda-10.0/compat\" > /etc/ld.so.conf.d/cuda.conf'\r\n",
      "RUN ldconfig -v\r\n",
      "\r\n",
      "## Build darknet\r\n",
      "RUN cd opt && git clone https://github.com/AlexeyAB/darknet\r\n",
      "RUN cd /opt/darknet && ./build.sh\r\n",
      "\r\n",
      "# /opt/ml and all subdirectories are utilized by SageMaker, we use the /code subdirectory to store our user code.\r\n",
      "#COPY /darknet /opt/ml/code\r\n",
      "\r\n",
      "# this environment variable is used by the SageMaker PyTorch container to determine our user code directory.\r\n",
      "#ENV SAGEMAKER_SUBMIT_DIRECTORY /opt/ml/code\r\n",
      "\r\n",
      "# this environment variable is used by the SageMaker PyTorch container to determine our program entry point\r\n",
      "# for training and serving.\r\n",
      "# For more information: https://github.com/aws/sagemaker-pytorch-container\r\n",
      "#ENV SAGEMAKER_PROGRAM cifar10.py\r\n"
     ]
    }
   ],
   "source": [
    "!cat container/Dockerfile"
   ]
  },
  {
   "cell_type": "code",
   "execution_count": 2,
   "metadata": {},
   "outputs": [
    {
     "name": "stdout",
     "output_type": "stream",
     "text": [
      "#!/bin/bash\r\n",
      "\r\n",
      "# The name of our algorithm\r\n",
      "algorithm_name=yolo-tensorflow\r\n",
      "\r\n",
      "cd container\r\n",
      "\r\n",
      "account=$(aws sts get-caller-identity --query Account --output text)\r\n",
      "\r\n",
      "# Get the region defined in the current configuration (default to us-west-2 if none defined)\r\n",
      "region=$(aws configure get region)\r\n",
      "region=${region:-us-west-2}\r\n",
      "\r\n",
      "fullname=\"${account}.dkr.ecr.${region}.amazonaws.com/${algorithm_name}:latest\"\r\n",
      "\r\n",
      "# If the repository doesn't exist in ECR, create it.\r\n",
      "\r\n",
      "aws ecr describe-repositories --repository-names \"${algorithm_name}\" > /dev/null 2>&1\r\n",
      "\r\n",
      "if [ $? -ne 0 ]\r\n",
      "then\r\n",
      "    aws ecr create-repository --repository-name \"${algorithm_name}\" > /dev/null\r\n",
      "fi\r\n",
      "\r\n",
      "# Get the login command from ECR and execute it directly\r\n",
      "$(aws ecr get-login --region ${region} --no-include-email)\r\n",
      "\r\n",
      "# Get the login command from ECR in order to pull down the SageMaker PyTorch image\r\n",
      "$(aws ecr get-login --registry-ids 763104351884 --region ${region} --no-include-email)\r\n",
      "\r\n",
      "# Build the docker image locally with the image name and then push it to ECR\r\n",
      "# with the full name.\r\n",
      "\r\n",
      "docker build  -t ${algorithm_name} . --build-arg REGION=${region}\r\n",
      "docker tag ${algorithm_name} ${fullname}\r\n",
      "\r\n",
      "docker push ${fullname}\r\n"
     ]
    }
   ],
   "source": [
    "!cat ./build-and-push.sh"
   ]
  },
  {
   "cell_type": "code",
   "execution_count": null,
   "metadata": {},
   "outputs": [],
   "source": []
  },
  {
   "cell_type": "markdown",
   "metadata": {},
   "source": [
    "# SageMaker PyTorch Container\n",
    "\n",
    "https://github.com/aws/sagemaker-pytorch-container/tree/master"
   ]
  }
 ],
 "metadata": {
  "kernelspec": {
   "display_name": "conda_python3",
   "language": "python",
   "name": "conda_python3"
  },
  "language_info": {
   "codemirror_mode": {
    "name": "ipython",
    "version": 3
   },
   "file_extension": ".py",
   "mimetype": "text/x-python",
   "name": "python",
   "nbconvert_exporter": "python",
   "pygments_lexer": "ipython3",
   "version": "3.6.5"
  }
 },
 "nbformat": 4,
 "nbformat_minor": 2
}
