{
 "cells": [
  {
   "cell_type": "markdown",
   "metadata": {},
   "source": [
    "# Prerequisite"
   ]
  },
  {
   "cell_type": "code",
   "execution_count": null,
   "metadata": {},
   "outputs": [],
   "source": [
    "## ref coco api notebook: https://github.com/cocodataset/cocoapi/blob/master/PythonAPI/pycocoDemo.ipynb\n",
    "!pip install pycocotools"
   ]
  },
  {
   "cell_type": "code",
   "execution_count": null,
   "metadata": {},
   "outputs": [],
   "source": [
    "# download annotation files\n",
    "!wget http://images.cocodataset.org/annotations/annotations_trainval2017.zip\n",
    "!unzip annotations_trainval2017.zip"
   ]
  },
  {
   "cell_type": "markdown",
   "metadata": {},
   "source": [
    "# COCO to Yolo by cateogry\n",
    "\n",
    "* [Yolo Detect Your Custom Objects](https://github.com/AlexeyAB/darknet#how-to-train-to-detect-your-custom-objects)"
   ]
  },
  {
   "cell_type": "code",
   "execution_count": 1,
   "metadata": {},
   "outputs": [],
   "source": [
    "import os\n",
    "from pycocotools.coco import COCO\n",
    "from multiprocessing.dummy import Pool # use threads for I/O bound tasks\n",
    "from urllib.request import urlretrieve"
   ]
  },
  {
   "cell_type": "code",
   "execution_count": 2,
   "metadata": {},
   "outputs": [],
   "source": [
    "dataDir='.'\n",
    "dataType='val2017'\n",
    "annFile='{}/annotations/instances_{}.json'.format(dataDir,dataType)"
   ]
  },
  {
   "cell_type": "code",
   "execution_count": 3,
   "metadata": {},
   "outputs": [
    {
     "name": "stdout",
     "output_type": "stream",
     "text": [
      "loading annotations into memory...\n",
      "Done (t=0.63s)\n",
      "creating index...\n",
      "index created!\n"
     ]
    }
   ],
   "source": [
    "# initialize COCO api for instance annotations\n",
    "coco=COCO(annFile)"
   ]
  },
  {
   "cell_type": "code",
   "execution_count": 4,
   "metadata": {},
   "outputs": [
    {
     "name": "stdout",
     "output_type": "stream",
     "text": [
      "COCO categories: \n",
      "person bicycle car motorcycle airplane bus train truck boat traffic light fire hydrant stop sign parking meter bench bird cat dog horse sheep cow elephant bear zebra giraffe backpack umbrella handbag tie suitcase frisbee skis snowboard sports ball kite baseball bat baseball glove skateboard surfboard tennis racket bottle wine glass cup fork knife spoon bowl banana apple sandwich orange broccoli carrot hot dog pizza donut cake chair couch potted plant bed dining table toilet tv laptop mouse remote keyboard cell phone microwave oven toaster sink refrigerator book clock vase scissors teddy bear hair drier toothbrush\n",
      "\n"
     ]
    }
   ],
   "source": [
    "# display COCO categories and supercategories\n",
    "cats = coco.loadCats(coco.getCatIds())\n",
    "nms=[cat['name'] for cat in cats]\n",
    "print('COCO categories: \\n{}\\n'.format(' '.join(nms)))"
   ]
  },
  {
   "cell_type": "code",
   "execution_count": 5,
   "metadata": {},
   "outputs": [
    {
     "data": {
      "text/plain": [
       "49"
      ]
     },
     "execution_count": 5,
     "metadata": {},
     "output_type": "execute_result"
    }
   ],
   "source": [
    "catIds = coco.getCatIds(catNms=['bear']);\n",
    "## shoot: only one cat id can get imgIds. https://github.com/cocodataset/cocoapi/issues/114\n",
    "imgIds = coco.getImgIds(catIds=catIds); \n",
    "images = coco.loadImgs(imgIds)\n",
    "len(images)"
   ]
  },
  {
   "cell_type": "code",
   "execution_count": 6,
   "metadata": {},
   "outputs": [],
   "source": [
    "fp_download = './train'\n",
    "!mkdir -p {fp_download}"
   ]
  },
  {
   "cell_type": "code",
   "execution_count": 7,
   "metadata": {},
   "outputs": [],
   "source": [
    "urls =[]\n",
    "files = []\n",
    "catIdsList = []\n",
    "for img in images:\n",
    "    urls.append(img['coco_url'])\n",
    "    files.append(os.path.join(fp_download,img['file_name']))\n",
    "    catIdsList.append(catIds)"
   ]
  },
  {
   "cell_type": "code",
   "execution_count": 8,
   "metadata": {},
   "outputs": [],
   "source": [
    "%%capture\n",
    "Pool(4).starmap(urlretrieve, zip(urls, files)) # download 4 files at a time"
   ]
  },
  {
   "cell_type": "code",
   "execution_count": 9,
   "metadata": {},
   "outputs": [
    {
     "name": "stdout",
     "output_type": "stream",
     "text": [
      "49\r\n"
     ]
    }
   ],
   "source": [
    "!ls {fp_download}/ | wc -l"
   ]
  },
  {
   "cell_type": "code",
   "execution_count": 10,
   "metadata": {},
   "outputs": [],
   "source": [
    "def yolo_annotation(img, catIds):\n",
    "    fp = os.path.join(fp_download, img['file_name'].replace(\".jpg\", \".txt\"))\n",
    "    annIds = coco.getAnnIds(imgIds=img['id'], catIds=catIds, iscrowd=None)\n",
    "    anns = coco.loadAnns(annIds)\n",
    "    dw = 1./ img['width']\n",
    "    dh = 1./ img['height']\n",
    "    \n",
    "    with open(fp, \"a\") as f:\n",
    "        for i in range(len(anns)):\n",
    "            xmin = anns[i][\"bbox\"][0]\n",
    "            ymin = anns[i][\"bbox\"][1]\n",
    "            xmax = anns[i][\"bbox\"][2] + anns[i][\"bbox\"][0]\n",
    "            ymax = anns[i][\"bbox\"][3] + anns[i][\"bbox\"][1]\n",
    "            x, y, w, h = (xmin+xmax)/2*dw, (ymin+ymax)/2*dh, (xmax-xmin)*dw, (ymax-ymin)*dh\n",
    "            # TODO: remove hardcore of the class id.\n",
    "            output = f\"0 {x:.5f} {y:.5f} {w:.5f} {h:.5f} \\n\"\n",
    "            f.write(output)\n",
    "    f.close()\n",
    "    return fp"
   ]
  },
  {
   "cell_type": "code",
   "execution_count": 11,
   "metadata": {},
   "outputs": [],
   "source": [
    "result = Pool(4).starmap(yolo_annotation, zip(images, catIdsList)) # 4 files at a time"
   ]
  },
  {
   "cell_type": "code",
   "execution_count": 12,
   "metadata": {},
   "outputs": [
    {
     "name": "stdout",
     "output_type": "stream",
     "text": [
      "49\r\n"
     ]
    }
   ],
   "source": [
    "!ls {fp_download}/*.txt | wc -l"
   ]
  },
  {
   "cell_type": "code",
   "execution_count": 13,
   "metadata": {},
   "outputs": [],
   "source": [
    "## Generate train.txt file\n",
    "fp = os.path.join(fp_download, 'train.txt')\n",
    "\n",
    "with open(fp, \"a\") as f:\n",
    "    for file in files:\n",
    "        output = f\"data/{file[2:]}\\n\"\n",
    "        f.write(output)\n",
    "f.close()"
   ]
  },
  {
   "cell_type": "code",
   "execution_count": 15,
   "metadata": {},
   "outputs": [
    {
     "name": "stdout",
     "output_type": "stream",
     "text": [
      "data/train/000000318080.jpg\r\n",
      "data/train/000000243075.jpg\r\n",
      "data/train/000000519688.jpg\r\n",
      "data/train/000000560266.jpg\r\n",
      "data/train/000000312586.jpg\r\n",
      "data/train/000000132622.jpg\r\n",
      "data/train/000000521231.jpg\r\n",
      "data/train/000000308753.jpg\r\n",
      "data/train/000000308476.jpg\r\n",
      "data/train/000000020247.jpg\r\n",
      "data/train/000000471450.jpg\r\n",
      "data/train/000000104603.jpg\r\n",
      "data/train/000000203546.jpg\r\n",
      "data/train/000000000285.jpg\r\n",
      "data/train/000000092839.jpg\r\n",
      "data/train/000000079144.jpg\r\n",
      "data/train/000000194216.jpg\r\n",
      "data/train/000000390826.jpg\r\n",
      "data/train/000000414261.jpg\r\n",
      "data/train/000000186422.jpg\r\n",
      "data/train/000000235064.jpg\r\n",
      "data/train/000000417465.jpg\r\n",
      "data/train/000000042296.jpg\r\n",
      "data/train/000000519611.jpg\r\n",
      "data/train/000000547519.jpg\r\n",
      "data/train/000000096960.jpg\r\n",
      "data/train/000000307658.jpg\r\n",
      "data/train/000000194506.jpg\r\n",
      "data/train/000000513484.jpg\r\n",
      "data/train/000000071756.jpg\r\n",
      "data/train/000000573391.jpg\r\n",
      "data/train/000000205776.jpg\r\n",
      "data/train/000000127955.jpg\r\n",
      "data/train/000000217948.jpg\r\n",
      "data/train/000000453981.jpg\r\n",
      "data/train/000000361180.jpg\r\n",
      "data/train/000000572517.jpg\r\n",
      "data/train/000000085478.jpg\r\n",
      "data/train/000000375015.jpg\r\n",
      "data/train/000000532071.jpg\r\n",
      "data/train/000000173033.jpg\r\n",
      "data/train/000000341094.jpg\r\n",
      "data/train/000000461036.jpg\r\n",
      "data/train/000000229997.jpg\r\n",
      "data/train/000000431727.jpg\r\n",
      "data/train/000000298738.jpg\r\n",
      "data/train/000000110972.jpg\r\n",
      "data/train/000000165500.jpg\r\n",
      "data/train/000000460927.jpg\r\n"
     ]
    }
   ],
   "source": [
    "!cat {fp_download}/train.txt"
   ]
  },
  {
   "cell_type": "markdown",
   "metadata": {},
   "source": [
    "# Just for Debug"
   ]
  },
  {
   "cell_type": "code",
   "execution_count": null,
   "metadata": {},
   "outputs": [],
   "source": [
    "yolo_annotation(images[0],catIds)"
   ]
  },
  {
   "cell_type": "code",
   "execution_count": null,
   "metadata": {},
   "outputs": [],
   "source": [
    "!ls download_images/*.txt"
   ]
  },
  {
   "cell_type": "code",
   "execution_count": null,
   "metadata": {},
   "outputs": [],
   "source": [
    "!cat download_images/000000318080.txt"
   ]
  },
  {
   "cell_type": "code",
   "execution_count": null,
   "metadata": {},
   "outputs": [],
   "source": [
    "import skimage.io as io\n",
    "import matplotlib.pyplot as plt\n",
    "I = io.imread('download_images/000000318080.jpg')\n",
    "plt.imshow(I)\n",
    "plt.show()"
   ]
  },
  {
   "cell_type": "code",
   "execution_count": null,
   "metadata": {},
   "outputs": [],
   "source": []
  }
 ],
 "metadata": {
  "kernelspec": {
   "display_name": "conda_python3",
   "language": "python",
   "name": "conda_python3"
  },
  "language_info": {
   "codemirror_mode": {
    "name": "ipython",
    "version": 3
   },
   "file_extension": ".py",
   "mimetype": "text/x-python",
   "name": "python",
   "nbconvert_exporter": "python",
   "pygments_lexer": "ipython3",
   "version": "3.6.5"
  }
 },
 "nbformat": 4,
 "nbformat_minor": 4
}
