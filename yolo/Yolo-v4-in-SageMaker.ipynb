{
 "cells": [
  {
   "cell_type": "markdown",
   "metadata": {},
   "source": [
    "# Yolo V4 on SageMaker Notebook\n",
    "\n",
    "### Download pre-trained model and darknet code\n",
    "\n",
    "1. Open t2.medium in SageMaker notebook\n",
    "2. In the terminal of notebook"
   ]
  },
  {
   "cell_type": "code",
   "execution_count": null,
   "metadata": {},
   "outputs": [],
   "source": [
    "bash\n",
    "cd SageMaker\n",
    "git clone https://github.com/AlexeyAB/darknet\n",
    "cd darknet\n",
    "wget https://github.com/AlexeyAB/darknet/releases/download/darknet_yolo_v3_optimal/yolov4.weights\n",
    "wget https://pjreddie.com/media/files/yolov3.weights"
   ]
  },
  {
   "cell_type": "markdown",
   "metadata": {},
   "source": [
    "## Switch SageMaker notebook to p3.2xlarge"
   ]
  },
  {
   "cell_type": "code",
   "execution_count": null,
   "metadata": {},
   "outputs": [],
   "source": [
    "bash\n",
    "source activate tensorflow_p36\n",
    "sudo bash -c 'echo \"/usr/local/lib64\" > /etc/ld.so.conf.d/opencv.conf'\n",
    "sudo ldconfig -v"
   ]
  },
  {
   "cell_type": "code",
   "execution_count": null,
   "metadata": {},
   "outputs": [],
   "source": [
    "cd SageMaker/darknet/\n",
    "mkdir build-release\n",
    "cmake ..\n",
    "make\n",
    "make install"
   ]
  },
  {
   "cell_type": "code",
   "execution_count": null,
   "metadata": {},
   "outputs": [],
   "source": [
    "cd ..\n",
    "# test yolo v3\n",
    "./darknet detect cfg/yolov3.cfg yolov3.weights data/dog.jpg\n",
    "./darknet detector test cfg/coco.data cfg/yolov4.cfg yolov4.weights -ext_output data/dog.jpg"
   ]
  },
  {
   "cell_type": "markdown",
   "metadata": {},
   "source": [
    "# SageMaker Notebook Error on P3 Debug"
   ]
  },
  {
   "cell_type": "markdown",
   "metadata": {},
   "source": [
    "### case1: missing the library on p3.2xlarge \n",
    "\n",
    "libopencv_dnn.so.4.2: cannot open shared object file: No such file or directory"
   ]
  },
  {
   "cell_type": "code",
   "execution_count": null,
   "metadata": {},
   "outputs": [],
   "source": [
    "(tensorflow_p36) [ec2-user@ip-172-16-30-255 darknet]$ ./darknet detect cfg/yolov3.cfg yolov3.weights data/dog.jpg\n",
    "./darknet: error while loading shared libraries: libopencv_dnn.so.4.2: cannot open shared object file: No such file or directory"
   ]
  },
  {
   "cell_type": "markdown",
   "metadata": {},
   "source": [
    "### Solutions for this error\n",
    "\n",
    "1. Find the folder containing the shared library `sudo find / -name \"libopencv_dnn.so.*\"`\n",
    "2. Create a file called `/etc/ld.so.conf.d/opencv.conf` and write to it the path to the folder where the binary is stored\n",
    "3. run `sudo ldconfig -v`"
   ]
  },
  {
   "cell_type": "code",
   "execution_count": null,
   "metadata": {},
   "outputs": [],
   "source": [
    "sudo find / -name \"libopencv_dnn.so.*\""
   ]
  },
  {
   "cell_type": "code",
   "execution_count": null,
   "metadata": {},
   "outputs": [],
   "source": [
    "(tensorflow_p36) [ec2-user@ip-172-16-90-69 darknet]$ sudo find / -name \"libopencv_dnn.so.*\"\n",
    "/usr/local/lib64/libopencv_dnn.so.4.2.0\n",
    "/usr/local/lib64/libopencv_dnn.so.4.2\n",
    "/home/ec2-user/anaconda3/pkgs/opencv-3.3.0-py27_blas_openblas_204/lib/libopencv_dnn.so.3.3\n",
    "/home/ec2-user/anaconda3/pkgs/opencv-3.3.0-py27_blas_openblas_204/lib/libopencv_dnn.so.3.3.0"
   ]
  },
  {
   "cell_type": "code",
   "execution_count": null,
   "metadata": {},
   "outputs": [],
   "source": [
    "sudo bash -c 'echo \"/usr/local/lib64\" > /etc/ld.so.conf.d/opencv.conf'\n",
    "sudo ldconfig -v"
   ]
  },
  {
   "cell_type": "markdown",
   "metadata": {},
   "source": [
    "# Appendix"
   ]
  },
  {
   "cell_type": "code",
   "execution_count": null,
   "metadata": {},
   "outputs": [],
   "source": [
    "## uname -a\n",
    "(tensorflow_p36) [ec2-user@ip-172-16-30-255 darknet]$ uname -a\n",
    "Linux ip-172-16-30-255 4.14.171-105.231.amzn1.x86_64 #1 SMP Thu Feb 27 23:49:15 UTC 2020 x86_64 x86_64 x86_64 GNU/Linux\n",
    "\n",
    "## cmake output\n",
    "(tensorflow_p36) [ec2-user@ip-172-16-30-255 build-release]$ cmake ..\n",
    "-- The C compiler identification is GNU 4.8.5\n",
    "-- The CXX compiler identification is GNU 4.8.5\n",
    "-- Check for working C compiler: /usr/bin/cc\n",
    "-- Check for working C compiler: /usr/bin/cc -- works\n",
    "-- Detecting C compiler ABI info\n",
    "-- Detecting C compiler ABI info - done\n",
    "-- Detecting C compile features\n",
    "-- Detecting C compile features - done\n",
    "-- Check for working CXX compiler: /usr/bin/c++\n",
    "-- Check for working CXX compiler: /usr/bin/c++ -- works\n",
    "-- Detecting CXX compiler ABI info\n",
    "-- Detecting CXX compiler ABI info - done\n",
    "-- Detecting CXX compile features\n",
    "-- Detecting CXX compile features - done\n",
    "-- Setting build type to 'Release' as none was specified.\n",
    "-- Looking for a CUDA compiler\n",
    "-- Looking for a CUDA compiler - /usr/local/cuda/bin/nvcc\n",
    "-- The CUDA compiler identification is NVIDIA 10.0.130\n",
    "-- Check for working CUDA compiler: /usr/local/cuda/bin/nvcc\n",
    "-- Check for working CUDA compiler: /usr/local/cuda/bin/nvcc -- works\n",
    "-- Detecting CUDA compiler ABI info\n",
    "-- Detecting CUDA compiler ABI info - done\n",
    "-- Looking for pthread.h\n",
    "-- Looking for pthread.h - found\n",
    "-- Looking for pthread_create\n",
    "-- Looking for pthread_create - not found\n",
    "-- Looking for pthread_create in pthreads\n",
    "-- Looking for pthread_create in pthreads - not found\n",
    "-- Looking for pthread_create in pthread\n",
    "-- Looking for pthread_create in pthread - found\n",
    "-- Found Threads: TRUE\n",
    "-- Found CUDA: /usr/local/cuda-10.0 (found version \"10.0\")\n",
    "-- Autodetected CUDA architecture(s):  7.0\n",
    "-- Building with CUDA flags: -gencode;arch=compute_70,code=sm_70\n",
    "-- Your setup supports half precision (it requires CC >= 7.0)\n",
    "-- Found OpenCV: /usr/local (found version \"4.2.0\")\n",
    "-- Found Stb: /home/ec2-user/SageMaker/darknet/3rdparty/stb/include\n",
    "-- Found OpenMP_C: -fopenmp (found version \"3.1\")\n",
    "-- Found OpenMP_CXX: -fopenmp (found version \"3.1\")\n",
    "-- Found OpenMP: TRUE (found version \"3.1\")\n",
    "--   ->  darknet is fine for now, but uselib_track has been disabled!\n",
    "--   ->  Please rebuild OpenCV from sources with CUDA support to enable it\n",
    "-- Found CUDNN: /usr/local/cuda-10.0/include (found version \"7.5.1\")\n",
    "-- CMAKE_CUDA_FLAGS: -gencode arch=compute_70,code=sm_70 --compiler-options \" -Wall -Wno-unused-result -Wno-unknown-pragmas -Wfatal-errors -Wno-deprecated-declarations -Wno-write-strings -DGPU -DCUDNN -DOPENCV -fPIC -fopenmp -Ofast \"\n",
    "-- ZED SDK not found\n",
    "-- Configuring done\n",
    "-- Generating done\n",
    "-- Build files have been written to: /home/ec2-user/SageMaker/darknet/build-release"
   ]
  }
 ],
 "metadata": {
  "kernelspec": {
   "display_name": "Python 3",
   "language": "python",
   "name": "python3"
  },
  "language_info": {
   "codemirror_mode": {
    "name": "ipython",
    "version": 3
   },
   "file_extension": ".py",
   "mimetype": "text/x-python",
   "name": "python",
   "nbconvert_exporter": "python",
   "pygments_lexer": "ipython3",
   "version": "3.7.3"
  }
 },
 "nbformat": 4,
 "nbformat_minor": 2
}
