{
 "cells": [
  {
   "cell_type": "markdown",
   "metadata": {},
   "source": [
    "## EC2 instances\n",
    "\n",
    "* Launch a t3.micro instance and download related package.\n",
    "* ami: Deep Learning AMI (Ubuntu 18.04) Version 28.0 (ami-08d65f1624e998033) [link](https://aws.amazon.com/marketplace/pp/B07Y43P7X5)\n",
    "    * AWS Deep Learning AMI comes pre-built and optimized for deep learning on EC2 with NVIDIA CUDA, cuDNN, and Intel MKL-DNN. Includes popular frameworks such as TensorFlow, MXNet, PyTorch, Chainer, Keras, and debugging and hosting tools such as TensorBoard, TensorFlow Serving, and MXNet Model Server.\n",
    "* The following command is in terminal"
   ]
  },
  {
   "cell_type": "code",
   "execution_count": null,
   "metadata": {},
   "outputs": [],
   "source": [
    "git clone https://github.com/AlexeyAB/darknet\n",
    "cd darknet\n",
    "wget https://github.com/AlexeyAB/darknet/releases/download/darknet_yolo_v3_optimal/yolov4.weights\n",
    "\n",
    "# it is optional\n",
    "wget https://pjreddie.com/media/files/yolov3.weights"
   ]
  },
  {
   "cell_type": "markdown",
   "metadata": {},
   "source": [
    "## Change ec2 instance type to p3.2xlarge\n",
    "\n",
    "* stop ec2 instance\n",
    "* edit configuration to change the instance type to p3.2xlarge\n",
    "* launch again\n",
    "* Use cmake compile darknet\n",
    "   * It will not work: Compile Darknet with GPU=1 CUDNN=1 CUDNN_HALF=1 OPENCV=1 in the Makefile"
   ]
  },
  {
   "cell_type": "code",
   "execution_count": null,
   "metadata": {},
   "outputs": [],
   "source": [
    "source activate tensorflow_p36\n",
    "cd darknet\n",
    "# vim Makefile\n",
    "#    * GPU=1 CUDNN=1 CUDNN_HALF=1 OPENCV=1\n",
    "mkdir build-release\n",
    "cd build-release\n",
    "cmake ..\n",
    "make\n",
    "make install\n",
    "cd ..\n",
    "\n",
    "./darknet detect cfg/yolov3.cfg yolov3.weights data/dog.jpg\n",
    "./darknet detector test cfg/coco.data cfg/yolov4.cfg yolov4.weights -ext_output data/dog.jpg"
   ]
  },
  {
   "cell_type": "code",
   "execution_count": null,
   "metadata": {},
   "outputs": [],
   "source": [
    "# environment list    \n",
    "conda env list"
   ]
  },
  {
   "cell_type": "markdown",
   "metadata": {},
   "source": [
    "## references\n",
    "\n",
    "* [link](https://github.com/AlexeyAB/darknet/issues/1380)"
   ]
  }
 ],
 "metadata": {
  "kernelspec": {
   "display_name": "Python 3",
   "language": "python",
   "name": "python3"
  },
  "language_info": {
   "codemirror_mode": {
    "name": "ipython",
    "version": 3
   },
   "file_extension": ".py",
   "mimetype": "text/x-python",
   "name": "python",
   "nbconvert_exporter": "python",
   "pygments_lexer": "ipython3",
   "version": "3.7.3"
  }
 },
 "nbformat": 4,
 "nbformat_minor": 2
}
