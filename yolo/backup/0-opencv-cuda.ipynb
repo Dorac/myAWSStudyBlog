{
 "cells": [
  {
   "cell_type": "markdown",
   "metadata": {},
   "source": [
    "# Download OpenCV source code\n",
    "\n",
    "* official installation guide [link](https://docs.opencv.org/master/d7/d9f/tutorial_linux_install.html)\n",
    "* conda installation guide [link](https://danielhavir.github.io/notes/install-opencv/)\n",
    "* ref the [link](https://www.pyimagesearch.com/2020/02/03/how-to-use-opencvs-dnn-module-with-nvidia-gpus-cuda-and-cudnn/) and [link2](https://gist.github.com/pvilas/6770395ef1f023d70c578c2572d09840)"
   ]
  },
  {
   "cell_type": "markdown",
   "metadata": {},
   "source": [
    "## launch EC2 instance P3\n",
    "\n",
    "select Deep Learning AMI (Ubuntu 18.04) Version 27.0 - ami-008d8ed4bd7dc2485"
   ]
  },
  {
   "cell_type": "code",
   "execution_count": null,
   "metadata": {},
   "outputs": [],
   "source": [
    "conda env list\n",
    "source activate python3"
   ]
  },
  {
   "cell_type": "code",
   "execution_count": null,
   "metadata": {},
   "outputs": [],
   "source": [
    "%%bash\n",
    "\n",
    "wget -O opencv.zip https://github.com/opencv/opencv/archive/4.2.0.zip\n",
    "wget -O opencv_contrib.zip https://github.com/opencv/opencv_contrib/archive/4.2.0.zip"
   ]
  },
  {
   "cell_type": "code",
   "execution_count": null,
   "metadata": {},
   "outputs": [],
   "source": [
    "%%bash\n",
    "\n",
    "unzip opencv.zip\n",
    "unzip opencv_contrib.zip"
   ]
  },
  {
   "cell_type": "code",
   "execution_count": 11,
   "metadata": {},
   "outputs": [],
   "source": [
    "!mv opencv-4.2.0/ opencv\n",
    "!mv opencv_contrib-4.2.0/ opencv_contrib"
   ]
  },
  {
   "cell_type": "code",
   "execution_count": 13,
   "metadata": {},
   "outputs": [],
   "source": [
    "%%bash\n",
    "mkdir -p opencv/build\n",
    "cd opencv/build"
   ]
  },
  {
   "cell_type": "code",
   "execution_count": null,
   "metadata": {},
   "outputs": [],
   "source": [
    "cmake -D CMAKE_BUILD_TYPE=RELEASE \\\n",
    "\t-D CMAKE_INSTALL_PREFIX=/usr/local \\\n",
    "\t-D INSTALL_PYTHON_EXAMPLES=ON \\\n",
    "\t-D INSTALL_C_EXAMPLES=OFF \\\n",
    "\t-D OPENCV_ENABLE_NONFREE=ON \\\n",
    "\t-D WITH_CUDA=ON \\\n",
    "\t-D WITH_CUDNN=ON \\\n",
    "\t-D OPENCV_DNN_CUDA=ON \\\n",
    "\t-D ENABLE_FAST_MATH=1 \\\n",
    "\t-D CUDA_FAST_MATH=1 \\\n",
    "\t-D CUDA_ARCH_BIN=7.0 \\\n",
    "\t-D WITH_CUBLAS=1 \\\n",
    "\t-D OPENCV_EXTRA_MODULES_PATH=/home/ubuntu/opencv_contrib/modules \\\n",
    "\t-D HAVE_opencv_python3=ON \\\n",
    "\t-D PYTHON3_LIBRARY=/usr/lib/x86_64-linux-gnu/libpython3.6m.so \\\n",
    "\t-D PYTHON_EXECUTABLE=/home/ubuntu/anaconda3/envs/python3/bin/python \\\n",
    "\t-D CUDA_TOOLKIT_ROOT_DIR=/usr/local/cuda \\\n",
    "\t-D BUILD_EXAMPLES=ON .."
   ]
  },
  {
   "cell_type": "code",
   "execution_count": null,
   "metadata": {},
   "outputs": [],
   "source": [
    "# execute command at opencv/build\n",
    "# make -j $(($(nproc) + 1))\n",
    "make -j8"
   ]
  },
  {
   "cell_type": "code",
   "execution_count": null,
   "metadata": {},
   "outputs": [],
   "source": [
    "sudo make install\n",
    "sudo ldconfig"
   ]
  },
  {
   "cell_type": "code",
   "execution_count": null,
   "metadata": {},
   "outputs": [],
   "source": [
    "# check the file\n",
    "ls /usr/local/lib/python3.6/dist-packages/cv2/python-3.6/cv2.cpython-36m-x86_64-linux-gnu.so"
   ]
  },
  {
   "cell_type": "code",
   "execution_count": null,
   "metadata": {},
   "outputs": [],
   "source": [
    "# check the site-package path\n",
    "import sys\n",
    "sys.path"
   ]
  },
  {
   "cell_type": "markdown",
   "metadata": {},
   "source": [
    "```\n",
    "['', '/home/ubuntu/src/cntk/bindings/python', '/home/ubuntu/anaconda3/envs/python3/lib/python36.zip', \n",
    " '/home/ubuntu/anaconda3/envs/python3/lib/python3.6', \n",
    " '/home/ubuntu/anaconda3/envs/python3/lib/python3.6/lib-dynload',\n",
    " '/home/ubuntu/anaconda3/envs/python3/lib/python3.6/site-packages']\n",
    "```"
   ]
  },
  {
   "cell_type": "code",
   "execution_count": null,
   "metadata": {},
   "outputs": [],
   "source": [
    "$ python -m site"
   ]
  },
  {
   "cell_type": "code",
   "execution_count": null,
   "metadata": {},
   "outputs": [],
   "source": [
    "sys.path = [\n",
    "    '/home/ubuntu/opencv/build',\n",
    "    '/home/ubuntu/src/cntk/bindings/python',\n",
    "    '/home/ubuntu/anaconda3/envs/python3/lib/python36.zip',\n",
    "    '/home/ubuntu/anaconda3/envs/python3/lib/python3.6',\n",
    "    '/home/ubuntu/anaconda3/envs/python3/lib/python3.6/lib-dynload',\n",
    "    '/home/ubuntu/anaconda3/envs/python3/lib/python3.6/site-packages',\n",
    "]\n",
    "USER_BASE: '/home/ubuntu/.local' (exists)\n",
    "USER_SITE: '/home/ubuntu/.local/lib/python3.6/site-packages' (doesn't exist)\n",
    "ENABLE_USER_SITE: True"
   ]
  },
  {
   "cell_type": "code",
   "execution_count": null,
   "metadata": {},
   "outputs": [],
   "source": [
    "echo \"cd to the cv virtual environment\"\n",
    "cd /home/ubuntu/anaconda3/envs/python3/lib/python3.6/site-packages\n",
    "ln -s /usr/local/lib/python3.6/dist-packages/cv2/python-3.6/cv2.cpython-36m-x86_64-linux-gnu.so cv2.so\n"
   ]
  },
  {
   "cell_type": "code",
   "execution_count": null,
   "metadata": {},
   "outputs": [],
   "source": [
    "# sudo apt-get install python3-dev python3-pip python3-tk python3-lxml python3-six"
   ]
  },
  {
   "cell_type": "code",
   "execution_count": 12,
   "metadata": {},
   "outputs": [
    {
     "name": "stdout",
     "output_type": "stream",
     "text": [
      "0-opencv-cuda.ipynb  lost+found  opencv_contrib      opencv.zip\r\n",
      "darknet\t\t     opencv\t opencv_contrib.zip\r\n"
     ]
    }
   ],
   "source": [
    "!ls"
   ]
  },
  {
   "cell_type": "code",
   "execution_count": 4,
   "metadata": {},
   "outputs": [
    {
     "name": "stdout",
     "output_type": "stream",
     "text": [
      "Wed Apr 29 12:40:30 2020       \r\n",
      "+-----------------------------------------------------------------------------+\r\n",
      "| NVIDIA-SMI 440.33.01    Driver Version: 440.33.01    CUDA Version: 10.2     |\r\n",
      "|-------------------------------+----------------------+----------------------+\r\n",
      "| GPU  Name        Persistence-M| Bus-Id        Disp.A | Volatile Uncorr. ECC |\r\n",
      "| Fan  Temp  Perf  Pwr:Usage/Cap|         Memory-Usage | GPU-Util  Compute M. |\r\n",
      "|===============================+======================+======================|\r\n",
      "|   0  Tesla V100-SXM2...  On   | 00000000:00:1E.0 Off |                    0 |\r\n",
      "| N/A   40C    P0    25W / 300W |      0MiB / 16160MiB |      0%      Default |\r\n",
      "+-------------------------------+----------------------+----------------------+\r\n",
      "                                                                               \r\n",
      "+-----------------------------------------------------------------------------+\r\n",
      "| Processes:                                                       GPU Memory |\r\n",
      "|  GPU       PID   Type   Process name                             Usage      |\r\n",
      "|=============================================================================|\r\n",
      "|  No running processes found                                                 |\r\n",
      "+-----------------------------------------------------------------------------+\r\n"
     ]
    }
   ],
   "source": [
    "!nvidia-smi"
   ]
  },
  {
   "cell_type": "code",
   "execution_count": 8,
   "metadata": {},
   "outputs": [
    {
     "data": {
      "text/plain": [
       "'/home/ec2-user/anaconda3/envs/python3/bin'"
      ]
     },
     "execution_count": 8,
     "metadata": {},
     "output_type": "execute_result"
    }
   ],
   "source": [
    "# Get python executable path\n",
    "\n",
    "import os\n",
    "import sys\n",
    "\n",
    "py_exe_path = os.path.dirname(sys.executable)\n",
    "py_exe_path"
   ]
  },
  {
   "cell_type": "code",
   "execution_count": 14,
   "metadata": {},
   "outputs": [
    {
     "name": "stdout",
     "output_type": "stream",
     "text": [
      "aruco\t\tcudastereo\t    img_hash\t      stereo\r\n",
      "bgsegm\t\tcudawarping\t    line_descriptor   structured_light\r\n",
      "bioinspired\tcudev\t\t    matlab\t      superres\r\n",
      "ccalib\t\tcvv\t\t    optflow\t      surface_matching\r\n",
      "cnn_3dobj\tdatasets\t    ovis\t      text\r\n",
      "cudaarithm\tdnn_objdetect\t    phase_unwrapping  tracking\r\n",
      "cudabgsegm\tdnns_easily_fooled  plot\t      videostab\r\n",
      "cudacodec\tdnn_superres\t    quality\t      viz\r\n",
      "cudafeatures2d\tdpm\t\t    README.md\t      xfeatures2d\r\n",
      "cudafilters\tface\t\t    reg\t\t      ximgproc\r\n",
      "cudaimgproc\tfreetype\t    rgbd\t      xobjdetect\r\n",
      "cudalegacy\tfuzzy\t\t    saliency\t      xphoto\r\n",
      "cudaobjdetect\thdf\t\t    sfm\r\n",
      "cudaoptflow\thfs\t\t    shape\r\n"
     ]
    }
   ],
   "source": [
    "open_cv_extra_modules_path = '/home/ec2-user/SageMaker/opencv_contrib/modules'\n",
    "!ls {open_cv_extra_modules_path}"
   ]
  },
  {
   "cell_type": "markdown",
   "metadata": {},
   "source": [
    "### in the terminal, do the following commands\n",
    "\n",
    "```\n",
    "cd opencv/build/\n",
    "\n",
    "source activate python3\n",
    "\n",
    "cmake -D CMAKE_BUILD_TYPE=RELEASE \\\n",
    "\t-D CMAKE_INSTALL_PREFIX=/usr/local \\\n",
    "\t-D INSTALL_PYTHON_EXAMPLES=ON \\\n",
    "\t-D INSTALL_C_EXAMPLES=OFF \\\n",
    "\t-D OPENCV_ENABLE_NONFREE=ON \\\n",
    "\t-D WITH_CUDA=ON \\\n",
    "\t-D WITH_CUDNN=ON \\\n",
    "\t-D OPENCV_DNN_CUDA=ON \\\n",
    "\t-D ENABLE_FAST_MATH=1 \\\n",
    "\t-D CUDA_FAST_MATH=1 \\\n",
    "\t-D CUDA_ARCH_BIN=7.0 \\\n",
    "\t-D WITH_CUBLAS=1 \\\n",
    "\t-D OPENCV_EXTRA_MODULES_PATH=/home/ec2-user/SageMaker/opencv_contrib/modules \\\n",
    "\t-D HAVE_opencv_python3=ON \\\n",
    "\t-D PYTHON_EXECUTABLE=/home/ec2-user/anaconda3/envs/python3/bin/python \\\n",
    "\t-D BUILD_EXAMPLES=ON ..\n",
    "```"
   ]
  },
  {
   "cell_type": "code",
   "execution_count": null,
   "metadata": {},
   "outputs": [],
   "source": [
    "cmake -D CMAKE_BUILD_TYPE=RELEASE \\\n",
    "\t-D CMAKE_INSTALL_PREFIX=/usr/local \\\n",
    "\t-D INSTALL_PYTHON_EXAMPLES=OFF \\\n",
    "\t-D INSTALL_C_EXAMPLES=OFF \\\n",
    "\t-D OPENCV_ENABLE_NONFREE=ON \\\n",
    "\t-D WITH_CUDA=ON \\\n",
    "\t-D WITH_CUDNN=ON \\\n",
    "\t-D OPENCV_DNN_CUDA=ON \\\n",
    "\t-D ENABLE_FAST_MATH=1 \\\n",
    "\t-D CUDA_FAST_MATH=1 \\\n",
    "\t-D CUDA_ARCH_BIN=7.0 \\\n",
    "\t-D WITH_CUBLAS=1 \\\n",
    "\t-D OPENCV_EXTRA_MODULES_PATH=/home/ec2-user/SageMaker/opencv_contrib/modules \\\n",
    "\t-D HAVE_opencv_python3=ON \\\n",
    "\t-D PYTHON_EXECUTABLE=/home/ec2-user/anaconda3/envs/python3/bin/python \\\n",
    "\t-D CUDA_TOOLKIT_ROOT_DIR=/usr/local/cuda \\\n",
    "\t-D BUILD_EXAMPLES=ON .."
   ]
  },
  {
   "cell_type": "code",
   "execution_count": null,
   "metadata": {},
   "outputs": [],
   "source": [
    "/home/ubuntu/anaconda3/envs/python3/bin\n",
    "\t-D PYTHON3_LIBRARY=/usr/lib/x86_64-linux-gnu/libpython3.6m.so \\\n",
    "\t-D PYTHON_EXECUTABLE=/usr/bin/python3 \\"
   ]
  },
  {
   "cell_type": "markdown",
   "metadata": {},
   "source": [
    "### Check the cmake output\n",
    "\n",
    "```\n",
    "--   NVIDIA CUDA:                   YES (ver 10.0, CUFFT CUBLAS FAST_MATH)\n",
    "--     NVIDIA GPU arch:             70\n",
    "--     NVIDIA PTX archs:\n",
    "--\n",
    "--   cuDNN:                         YES (ver 7.5.1)\n",
    "```\n"
   ]
  },
  {
   "cell_type": "markdown",
   "metadata": {},
   "source": [
    "# SageMaker notebook will be error because gcc version is old\n",
    "\n",
    "sh-4.2$ gcc --version\n",
    "gcc (GCC) 4.8.5 20150623 (Red Hat 4.8.5-28)\n",
    "\n",
    "# CV2 need gcc 5 and above\n"
   ]
  },
  {
   "cell_type": "markdown",
   "metadata": {},
   "source": [
    "## Error Message for CV2 cmake\n",
    "\n",
    "```\n",
    "-- Found PythonInterp: /home/ubuntu/anaconda3/envs/cv/bin/python (found suitable version \"3.6.10\", minimum required is \"2.7\") \n",
    "CMake Warning at cmake/OpenCVDetectPython.cmake:81 (message):\n",
    "  CMake's 'find_host_package(PythonInterp 2.7)' found wrong Python version:\n",
    "\n",
    "  PYTHON_EXECUTABLE=/home/ubuntu/anaconda3/envs/cv/bin/python\n",
    "\n",
    "  PYTHON_VERSION_STRING=3.6.10\n",
    "\n",
    "  Consider providing the 'PYTHON2_EXECUTABLE' variable via CMake command line\n",
    "  or environment variables\n",
    "-- Found Python2: /usr/bin/python2.7 (found version \"2.7.17\") found components:  Interpreter \n",
    "-- Found PythonInterp: /usr/bin/python2.7 (found version \"2.7.17\") \n",
    "-- Found PythonLibs: /home/ubuntu/anaconda3/envs/cv/lib (found suitable exact version \"2.7.17\") \n",
    "-- Found PythonInterp: /home/ubuntu/anaconda3/envs/cv/bin/python3 (found suitable version \"3.6.10\", minimum required is \"3.2\") \n",
    "-- Could NOT find PythonLibs: Found unsuitable version \"3.6.9\", but required is exact version \"3.6.10\" (found /usr/lib/x86_64-linux-gnu/libpython3.6m.so)\n",
    "-- Looking for ccache - not found\n",
    "```"
   ]
  },
  {
   "cell_type": "code",
   "execution_count": null,
   "metadata": {},
   "outputs": [],
   "source": []
  }
 ],
 "metadata": {
  "kernelspec": {
   "display_name": "Python 3",
   "language": "python",
   "name": "python3"
  },
  "language_info": {
   "codemirror_mode": {
    "name": "ipython",
    "version": 3
   },
   "file_extension": ".py",
   "mimetype": "text/x-python",
   "name": "python",
   "nbconvert_exporter": "python",
   "pygments_lexer": "ipython3",
   "version": "3.7.3"
  }
 },
 "nbformat": 4,
 "nbformat_minor": 4
}
