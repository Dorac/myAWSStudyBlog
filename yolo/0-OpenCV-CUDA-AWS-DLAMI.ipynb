{
 "cells": [
  {
   "cell_type": "markdown",
   "metadata": {},
   "source": [
    "# Install OpenCV with Cuda on AWS DeepLearning AMI\n",
    "\n",
    "* reference the [link](https://danielhavir.github.io/notes/install-opencv/)\n",
    "\n",
    "### important\n",
    "\n",
    "Must use `conda create -n cv python=3.6.9` because OpenCV cmake will get the following error:\n",
    "\n",
    "```\n",
    "-- Could NOT find PythonLibs: Found unsuitable version \"3.6.9\", but required is exact version \"3.6.10\" (found /usr/lib/x86_64-linux-gnu/libpython3.6m.so)\n",
    "```\n"
   ]
  },
  {
   "cell_type": "markdown",
   "metadata": {},
   "source": [
    "## Select AWS Deep Learning AMI\n",
    "\n",
    "I use Ubuntu 18.04 [link](https://aws.amazon.com/marketplace/pp/B07Y43P7X5). Most of library are ready to pre-installed."
   ]
  },
  {
   "cell_type": "markdown",
   "metadata": {},
   "source": [
    "### Create a brand new virtual environment"
   ]
  },
  {
   "cell_type": "code",
   "execution_count": null,
   "metadata": {},
   "outputs": [],
   "source": [
    "conda create -n cv python=3.6.9\n",
    "source activate cv\n",
    "conda install numpy"
   ]
  },
  {
   "cell_type": "markdown",
   "metadata": {},
   "source": [
    "### Setup python related environment variables for late cmake use"
   ]
  },
  {
   "cell_type": "code",
   "execution_count": null,
   "metadata": {},
   "outputs": [],
   "source": [
    "export python_exec=`which python`\n",
    "export include_dir=`python -c \"from distutils.sysconfig import get_python_inc; print(get_python_inc())\"`\n",
    "export library=`python -c \"import distutils.sysconfig as sysconfig; print(sysconfig.get_config_var('LIBDIR'))\"`\n",
    "export default_exec=`which python3.6`"
   ]
  },
  {
   "cell_type": "markdown",
   "metadata": {},
   "source": [
    "### Download OpenCV source code"
   ]
  },
  {
   "cell_type": "code",
   "execution_count": null,
   "metadata": {},
   "outputs": [],
   "source": [
    "wget -O opencv.zip https://github.com/opencv/opencv/archive/4.3.0.zip\n",
    "wget -O opencv_contrib.zip https://github.com/opencv/opencv_contrib/archive/4.3.0.zip\n",
    "unzip opencv.zip\n",
    "unzip opencv_contrib.zip\n",
    "\n",
    "cd opencv-4.3.0/\n",
    "mkdir build\n",
    "cd build"
   ]
  },
  {
   "cell_type": "markdown",
   "metadata": {},
   "source": [
    "## Yolo need OpenCV DNN CUDA\n",
    "\n",
    "```\n",
    "    -D WITH_CUDA=ON \\\n",
    "    -D WITH_CUDNN=ON \\\n",
    "    -D OPENCV_DNN_CUDA=ON \\  \n",
    "```\n",
    "    \n",
    "## If you want to change cuda version, overwrite with the cuda path\n",
    "\n",
    "```\n",
    "    -D CUDA_TOOLKIT_ROOT_DIR=/usr/local/cuda \\\n",
    "```\n",
    "\n",
    "### This is for P3 V100\n",
    "```\n",
    "-D CUDA_ARCH_BIN=7.0 \\\n",
    "```"
   ]
  },
  {
   "cell_type": "code",
   "execution_count": null,
   "metadata": {},
   "outputs": [],
   "source": [
    "cmake -D CMAKE_BUILD_TYPE=RELEASE \\\n",
    "    -D CMAKE_INSTALL_PREFIX=/usr/local \\\n",
    "    -D WITH_CUDA=ON \\\n",
    "    -D WITH_CUDNN=ON \\\n",
    "    -D OPENCV_DNN_CUDA=ON \\\n",
    "    -D ENABLE_FAST_MATH=1 \\\n",
    "    -D CUDA_FAST_MATH=1 \\\n",
    "    -D CUDA_ARCH_BIN=7.0 \\\n",
    "    -D WITH_CUBLAS=1 \\\n",
    "    -D INSTALL_PYTHON_EXAMPLES=ON \\\n",
    "    -D OPENCV_EXTRA_MODULES_PATH=/home/ubuntu/opencv_contrib-4.3.0/modules \\\n",
    "    -D PYTHON_EXECUTABLE=$python_exec \\\n",
    "    -D PYTHON_DEFAULT_EXECUTABLE=$default_exec \\\n",
    "    -D PYTHON_INCLUDE_DIRS=$include_dir \\\n",
    "    -D PYTHON_LIBRARY=$library \\\n",
    "    -D BUILD_EXAMPLES=ON .."
   ]
  },
  {
   "cell_type": "markdown",
   "metadata": {},
   "source": [
    "## Make sure you see the following output\n",
    "\n",
    "```\n",
    "--   Python 3:\n",
    "--     Interpreter:                 /home/ubuntu/anaconda3/envs/cv/bin/python3 (ver 3.6.9)\n",
    "--     Libraries:                   /usr/lib/x86_64-linux-gnu/libpython3.6m.so (ver 3.6.9)\n",
    "--     numpy:                       /home/ubuntu/anaconda3/envs/cv/lib/python3.6/site-packages/numpy/core/include (ver 1.18.1)\n",
    "--     install path:                lib/python3.6/site-packages/cv2/python-3.6\n",
    "```"
   ]
  },
  {
   "cell_type": "markdown",
   "metadata": {},
   "source": [
    "## Make and install"
   ]
  },
  {
   "cell_type": "code",
   "execution_count": null,
   "metadata": {},
   "outputs": [],
   "source": [
    "make -j8\n",
    "sudo make install\n",
    "sudo ldconfig"
   ]
  },
  {
   "cell_type": "markdown",
   "metadata": {},
   "source": [
    "## Finally\n",
    "\n",
    "OpenCV should be located in `/usr/local/lib/python3.6/site-packages` and you can symlink the cv2 directory to your Conda environment(s):"
   ]
  },
  {
   "cell_type": "markdown",
   "metadata": {},
   "source": [
    "ln -s /usr/local/lib/python3.6/site-packages/cv2 ~/anaconda3/envs/cv/lib/python3.6/site-packages/cv2"
   ]
  },
  {
   "cell_type": "markdown",
   "metadata": {},
   "source": [
    "# Others - Screen setting\n",
    "\n",
    "ref [link](https://unix.stackexchange.com/questions/40242/scroll-inside-screen-or-pause-output)"
   ]
  },
  {
   "cell_type": "code",
   "execution_count": null,
   "metadata": {},
   "outputs": [],
   "source": [
    "vim ~/.screenrc\n",
    "\n",
    "# Enable mouse scrolling and scroll bar history scrolling\n",
    "termcapinfo xterm* ti@:te@"
   ]
  },
  {
   "cell_type": "code",
   "execution_count": null,
   "metadata": {},
   "outputs": [],
   "source": [
    "screen"
   ]
  },
  {
   "cell_type": "code",
   "execution_count": null,
   "metadata": {},
   "outputs": [],
   "source": [
    "# set scrollback limit by typing \n",
    "Ctrl+A, :, type \"scrollback 10000\""
   ]
  }
 ],
 "metadata": {
  "kernelspec": {
   "display_name": "Python 3",
   "language": "python",
   "name": "python3"
  },
  "language_info": {
   "codemirror_mode": {
    "name": "ipython",
    "version": 3
   },
   "file_extension": ".py",
   "mimetype": "text/x-python",
   "name": "python",
   "nbconvert_exporter": "python",
   "pygments_lexer": "ipython3",
   "version": "3.7.3"
  }
 },
 "nbformat": 4,
 "nbformat_minor": 2
}
