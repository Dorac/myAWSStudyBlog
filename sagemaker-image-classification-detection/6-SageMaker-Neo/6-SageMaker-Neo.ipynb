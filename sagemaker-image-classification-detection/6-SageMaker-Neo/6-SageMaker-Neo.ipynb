{
 "cells": [
  {
   "cell_type": "markdown",
   "metadata": {},
   "source": [
    "# SageMaker Neo for Build-in Object Detection\n",
    "\n",
    "Because build-in object detection does not save network graph information such as ResNet50 or VGG16, the model only saves the parameters of weight. We need to add network graph information and save the checkpoints. After do so, it can use SageMaker Neo or convert it into ONNX."
   ]
  },
  {
   "cell_type": "code",
   "execution_count": 1,
   "metadata": {},
   "outputs": [
    {
     "name": "stderr",
     "output_type": "stream",
     "text": [
      "Cloning into 'incubator-mxnet'...\n"
     ]
    }
   ],
   "source": [
    "%%bash\n",
    "git clone https://github.com/apache/incubator-mxnet"
   ]
  },
  {
   "cell_type": "code",
   "execution_count": 2,
   "metadata": {},
   "outputs": [
    {
     "data": {
      "text/plain": [
       "'s3://beyoung-sagemaker/coco-object-detection-20200422/output/object-detection-2020-04-22-09-25-36-709/output/model.tar.gz'"
      ]
     },
     "execution_count": 2,
     "metadata": {},
     "output_type": "execute_result"
    }
   ],
   "source": [
    "import boto3\n",
    "sm = boto3.client('sagemaker')\n",
    "response = sm.describe_training_job(TrainingJobName='object-detection-2020-04-22-09-25-36-709')\n",
    "model_path = response['ModelArtifacts']['S3ModelArtifacts']\n",
    "model_path"
   ]
  },
  {
   "cell_type": "markdown",
   "metadata": {},
   "source": [
    "## Copy SageMaker Training job model to local notebook\n",
    "\n",
    "cp model_algo_1-xxxxx both json and para to model folder, incubator-mxnet/example/ssd/model/"
   ]
  },
  {
   "cell_type": "code",
   "execution_count": 5,
   "metadata": {},
   "outputs": [
    {
     "name": "stdout",
     "output_type": "stream",
     "text": [
      "download: s3://beyoung-sagemaker/coco-object-detection-20200422/output/object-detection-2020-04-22-09-25-36-709/output/model.tar.gz to ./model.tar.gz\n",
      "hyperparams.json\n",
      "model_algo_1-0000.params\n",
      "model_algo_1-symbol.json\n",
      "hyperparams.json  model_algo_1-0000.params  model_algo_1-symbol.json  README.md\n"
     ]
    }
   ],
   "source": [
    "!aws s3 cp {model_path} ./model.tar.gz\n",
    "!tar -xvf ./model.tar.gz -C ./incubator-mxnet/example/ssd/model/\n",
    "!ls ./incubator-mxnet/example/ssd/model/"
   ]
  },
  {
   "cell_type": "markdown",
   "metadata": {},
   "source": [
    "## Load model as checkpoint file with network information"
   ]
  },
  {
   "cell_type": "code",
   "execution_count": 6,
   "metadata": {},
   "outputs": [
    {
     "name": "stdout",
     "output_type": "stream",
     "text": [
      "/home/ec2-user/SageMaker/myAWSStudyBlog/sagemaker-image-classification-detection/6-SageMaker-Neo/incubator-mxnet/example/ssd\n"
     ]
    }
   ],
   "source": [
    "# change notebook working directory\n",
    "%cd ./incubator-mxnet/example/ssd"
   ]
  },
  {
   "cell_type": "code",
   "execution_count": 7,
   "metadata": {},
   "outputs": [
    {
     "name": "stdout",
     "output_type": "stream",
     "text": [
      "[06:54:16] src/nnvm/legacy_json_util.cc:209: Loading symbol saved by previous version v1.4.1. Attempting to upgrade...\n",
      "[06:54:16] src/nnvm/legacy_json_util.cc:217: Symbol successfully upgraded!\n",
      "Saved model: model/deploy_model_algo_1-0000.params\n",
      "Saved symbol: model/deploy_model_algo_1-symbol.json\n"
     ]
    }
   ],
   "source": [
    "#deploy model as checkpoint format\n",
    "!python deploy.py --network resnet50 --prefix model/model_algo_1 --num-class 80 --data-shape 512"
   ]
  },
  {
   "cell_type": "markdown",
   "metadata": {},
   "source": [
    "## tar model file"
   ]
  },
  {
   "cell_type": "code",
   "execution_count": 13,
   "metadata": {},
   "outputs": [
    {
     "name": "stdout",
     "output_type": "stream",
     "text": [
      "deploy_model_algo_1-symbol.json\r\n",
      "deploy_model_algo_1-0000.params\r\n"
     ]
    }
   ],
   "source": [
    "!cd ./model;tar cvfz sm-detection-model.tar.gz deploy_model_algo_1-symbol.json deploy_model_algo_1-0000.params"
   ]
  },
  {
   "cell_type": "code",
   "execution_count": 14,
   "metadata": {},
   "outputs": [
    {
     "name": "stdout",
     "output_type": "stream",
     "text": [
      "deploy_model_algo_1-0000.params  model_algo_1-symbol.json\r\n",
      "deploy_model_algo_1-symbol.json  model.tar.gz\r\n",
      "hyperparams.json\t\t README.md\r\n",
      "model_algo_1-0000.params\t sm-detection-model.tar.gz\r\n"
     ]
    }
   ],
   "source": [
    "!ls ./model"
   ]
  },
  {
   "cell_type": "code",
   "execution_count": 20,
   "metadata": {},
   "outputs": [
    {
     "name": "stdout",
     "output_type": "stream",
     "text": [
      "upload: model/sm-detection-model.tar.gz to s3://beyoung-sagemaker/neo/sm-detection-model.tar.gz\n"
     ]
    }
   ],
   "source": [
    "source_uri = 's3://beyoung-sagemaker/neo/sm-detection-model.tar.gz'\n",
    "!aws s3 cp ./model/sm-detection-model.tar.gz {source_uri}"
   ]
  },
  {
   "cell_type": "markdown",
   "metadata": {},
   "source": [
    "## SageMaker compiling job"
   ]
  },
  {
   "cell_type": "code",
   "execution_count": 21,
   "metadata": {},
   "outputs": [
    {
     "data": {
      "text/plain": [
       "'arn:aws:iam::476271697919:role/service-role/AmazonSageMaker-ExecutionRole-20200427T094649'"
      ]
     },
     "execution_count": 21,
     "metadata": {},
     "output_type": "execute_result"
    }
   ],
   "source": [
    "from datetime import datetime\n",
    "import sagemaker\n",
    "\n",
    "compiling_job = datetime.now().strftime(\"compiling-detection-%Y-%m-%m-%H-%M\")\n",
    "role=sagemaker.get_execution_role()\n",
    "output_uri = 's3://beyoung-sagemaker/neo/output'\n",
    "role"
   ]
  },
  {
   "cell_type": "code",
   "execution_count": 23,
   "metadata": {},
   "outputs": [],
   "source": [
    "response = sm.create_compilation_job(\n",
    "    CompilationJobName=compiling_job,\n",
    "    RoleArn=role,\n",
    "    InputConfig={\n",
    "        'S3Uri': source_uri,\n",
    "        'DataInputConfig': '{\"data\":[1,3,512,512]}',\n",
    "        'Framework': 'MXNET'\n",
    "    },\n",
    "    OutputConfig={\n",
    "        'S3OutputLocation': output_uri,\n",
    "        'TargetDevice': 'ml_c5'\n",
    "    },\n",
    "    StoppingCondition={\n",
    "        'MaxRuntimeInSeconds': 900,\n",
    "        'MaxWaitTimeInSeconds': 900\n",
    "    }\n",
    ")"
   ]
  },
  {
   "cell_type": "code",
   "execution_count": 24,
   "metadata": {},
   "outputs": [
    {
     "data": {
      "text/plain": [
       "{'CompilationJobArn': 'arn:aws:sagemaker:us-west-2:476271697919:compilation-job/compiling-detection-2020-05-05-07-51',\n",
       " 'ResponseMetadata': {'RequestId': 'c47c2af6-759b-4506-9f17-66f49b16beab',\n",
       "  'HTTPStatusCode': 200,\n",
       "  'HTTPHeaders': {'x-amzn-requestid': 'c47c2af6-759b-4506-9f17-66f49b16beab',\n",
       "   'content-type': 'application/x-amz-json-1.1',\n",
       "   'content-length': '117',\n",
       "   'date': 'Fri, 22 May 2020 07:54:43 GMT'},\n",
       "  'RetryAttempts': 0}}"
      ]
     },
     "execution_count": 24,
     "metadata": {},
     "output_type": "execute_result"
    }
   ],
   "source": [
    "response"
   ]
  },
  {
   "cell_type": "code",
   "execution_count": null,
   "metadata": {},
   "outputs": [],
   "source": []
  }
 ],
 "metadata": {
  "kernelspec": {
   "display_name": "conda_amazonei_mxnet_p36",
   "language": "python",
   "name": "conda_amazonei_mxnet_p36"
  },
  "language_info": {
   "codemirror_mode": {
    "name": "ipython",
    "version": 3
   },
   "file_extension": ".py",
   "mimetype": "text/x-python",
   "name": "python",
   "nbconvert_exporter": "python",
   "pygments_lexer": "ipython3",
   "version": "3.6.5"
  }
 },
 "nbformat": 4,
 "nbformat_minor": 4
}
