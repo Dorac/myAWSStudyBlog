{
 "cells": [
  {
   "cell_type": "markdown",
   "metadata": {},
   "source": [
    "# Load SageMaker SSD trained model for local inference or on-prime\n"
   ]
  },
  {
   "cell_type": "markdown",
   "metadata": {},
   "source": [
    "### Clone mxnet source code\n",
    "Ref: https://stackoverflow.com/questions/52889337/mxnet-sagemaker-load-model\n",
    "\n",
    "1. clone mxnet source code\n",
    "2. cp model_algo_1-xxxxx both json and para to model folder, incubator-mxnet/example/ssd/model/\n",
    "3. deploy sm model to mxnet format\n",
    "4. load model and inference"
   ]
  },
  {
   "cell_type": "code",
   "execution_count": 4,
   "metadata": {},
   "outputs": [
    {
     "name": "stderr",
     "output_type": "stream",
     "text": [
      "Cloning into 'incubator-mxnet'...\n",
      "bash: line 3: cd: incubator-mxnetexamplessd: No such file or directory\n"
     ]
    }
   ],
   "source": [
    "%%bash\n",
    "git clone https://github.com/apache/incubator-mxnet"
   ]
  },
  {
   "cell_type": "code",
   "execution_count": 8,
   "metadata": {},
   "outputs": [
    {
     "data": {
      "text/plain": [
       "'s3://beyoung-sagemaker/coco-objectDetection/output/object-detection-2020-04-13-09-45-08-700/output/model.tar.gz'"
      ]
     },
     "execution_count": 8,
     "metadata": {},
     "output_type": "execute_result"
    }
   ],
   "source": [
    "import boto3\n",
    "sm = boto3.client('sagemaker')\n",
    "response = sm.describe_training_job(TrainingJobName='object-detection-2020-04-13-09-45-08-700')\n",
    "model_path = response['ModelArtifacts']['S3ModelArtifacts']\n",
    "model_path"
   ]
  },
  {
   "cell_type": "code",
   "execution_count": 11,
   "metadata": {},
   "outputs": [
    {
     "name": "stdout",
     "output_type": "stream",
     "text": [
      "download: s3://beyoung-sagemaker/coco-objectDetection/output/object-detection-2020-04-13-09-45-08-700/output/model.tar.gz to ./model.tar.gz\n"
     ]
    }
   ],
   "source": [
    "!aws s3 cp {model_path} ./model.tar.gz"
   ]
  },
  {
   "cell_type": "code",
   "execution_count": 12,
   "metadata": {},
   "outputs": [
    {
     "name": "stdout",
     "output_type": "stream",
     "text": [
      "model_algo_1-0000.params\n",
      "model_algo_1-symbol.json\n",
      "hyperparams.json\n"
     ]
    }
   ],
   "source": [
    "## cp model_algo_1-xxxxx both json and para to model folder, incubator-mxnet/example/ssd/model/\n",
    "!tar -xvf ./model.tar.gz -C ./incubator-mxnet/example/ssd/model/"
   ]
  },
  {
   "cell_type": "code",
   "execution_count": 13,
   "metadata": {},
   "outputs": [
    {
     "name": "stdout",
     "output_type": "stream",
     "text": [
      "hyperparams.json  model_algo_1-0000.params  model_algo_1-symbol.json  README.md\r\n"
     ]
    }
   ],
   "source": [
    "!ls ./incubator-mxnet/example/ssd/model/"
   ]
  },
  {
   "cell_type": "code",
   "execution_count": null,
   "metadata": {},
   "outputs": [],
   "source": [
    "# python deploy.py --network resnet50 --prefix model/model_algo_1 --num-class YOUR_NUM_CLASS --data-shape 512"
   ]
  },
  {
   "cell_type": "markdown",
   "metadata": {},
   "source": [
    "# Load Model as checkpoint file and predict"
   ]
  },
  {
   "cell_type": "code",
   "execution_count": 5,
   "metadata": {},
   "outputs": [
    {
     "name": "stdout",
     "output_type": "stream",
     "text": [
      "/home/ec2-user/SageMaker/object_detection_pascalvoc_coco_2020-04-13/incubator-mxnet/example/ssd\n"
     ]
    }
   ],
   "source": [
    "# change notebook working directory\n",
    "%cd ./incubator-mxnet/example/ssd"
   ]
  },
  {
   "cell_type": "code",
   "execution_count": 6,
   "metadata": {},
   "outputs": [
    {
     "name": "stdout",
     "output_type": "stream",
     "text": [
      "[15:01:18] src/nnvm/legacy_json_util.cc:209: Loading symbol saved by previous version v1.4.1. Attempting to upgrade...\n",
      "[15:01:18] src/nnvm/legacy_json_util.cc:217: Symbol successfully upgraded!\n",
      "Saved model: model/deploy_model_algo_1-0000.params\n",
      "Saved symbol: model/deploy_model_algo_1-symbol.json\n"
     ]
    }
   ],
   "source": [
    "#deploy model as checkpoint format\n",
    "!python deploy.py --network resnet50 --prefix model/model_algo_1 --num-class 80 --data-shape 512"
   ]
  },
  {
   "cell_type": "code",
   "execution_count": 7,
   "metadata": {},
   "outputs": [],
   "source": [
    "# load model and predicate\n",
    "import mxnet as mx\n",
    "import numpy as np\n",
    "import cv2\n",
    "from collections import namedtuple"
   ]
  },
  {
   "cell_type": "code",
   "execution_count": 8,
   "metadata": {},
   "outputs": [],
   "source": [
    "# define test data\n",
    "batch_size = 1\n",
    "num_batch = 1\n",
    "filepath = './data/demo/dog.jpg'\n",
    "DEFAULT_INPUT_SHAPE = 512"
   ]
  },
  {
   "cell_type": "code",
   "execution_count": 9,
   "metadata": {},
   "outputs": [
    {
     "name": "stdout",
     "output_type": "stream",
     "text": [
      "data_names: ['data']\n",
      "output_names: ['detection_output']\n"
     ]
    }
   ],
   "source": [
    "# load model\n",
    "sym, arg_params, aux_params = mx.model.load_checkpoint(\"model/deploy_model_algo_1\", 0)\n",
    "mod = mx.mod.Module(symbol=sym, context=mx.cpu(), data_names=[\"data\"], label_names=[])\n",
    "print('data_names:', mod.data_names)\n",
    "print('output_names:', mod.output_names)"
   ]
  },
  {
   "cell_type": "code",
   "execution_count": 10,
   "metadata": {},
   "outputs": [],
   "source": [
    "mod.bind(data_shapes=[(\"data\", (1, 3, DEFAULT_INPUT_SHAPE, DEFAULT_INPUT_SHAPE))], for_training=False,label_shapes=mod._label_shapes)\n",
    "mod.set_params(arg_params, aux_params)  # , allow_missing=True"
   ]
  },
  {
   "cell_type": "code",
   "execution_count": 11,
   "metadata": {},
   "outputs": [
    {
     "name": "stdout",
     "output_type": "stream",
     "text": [
      "(576, 768, 3)\n",
      "(1, 3, 512, 512)\n"
     ]
    }
   ],
   "source": [
    "img = cv2.cvtColor(cv2.imread(filepath), cv2.COLOR_BGR2RGB)\n",
    "print(img.shape)\n",
    "img = cv2.resize(img, (DEFAULT_INPUT_SHAPE, DEFAULT_INPUT_SHAPE))\n",
    "img = np.swapaxes(img, 0, 2)\n",
    "img = np.swapaxes(img, 1, 2)\n",
    "img = img[np.newaxis, :]\n",
    "print(img.shape)"
   ]
  },
  {
   "cell_type": "code",
   "execution_count": 12,
   "metadata": {},
   "outputs": [
    {
     "name": "stdout",
     "output_type": "stream",
     "text": [
      "[[0.0, 0.16453392803668976, 0.09659675508737564, 0.15072667598724365, 0.13017813861370087, 0.20379900932312012], [-1.0, 0.1562827229499817, 0.09097035229206085, 0.13830074667930603, 0.13425590097904205, 0.21097543835639954], [2.0, 0.14783094823360443, 0.5960919857025146, 0.118517205119133, 0.8743573427200317, 0.2753128409385681], [0.0, 0.1355995535850525, 0.09374825656414032, 0.1348811835050583, 0.1436205357313156, 0.19442342221736908], [-1.0, 0.1348533034324646, 0.08366208523511887, 0.1298636496067047, 0.14302274584770203, 0.2083708941936493], [0.0, 0.11463776230812073, 0.007977217435836792, 0.15076851844787598, 0.5285791158676147, 0.9667272567749023], [0.0, 0.11266519129276276, 0.08402879536151886, 0.14612749218940735, 0.10510846972465515, 0.21115216612815857], [0.0, 0.110567107796669, 0.06819647550582886, 0.03554457426071167, 0.9289578199386597, 0.9737381339073181], [-1.0, 0.10971880704164505, 0.0833270475268364, 0.15310338139533997, 0.10071104019880295, 0.1986367404460907], [0.0, 0.10909178853034973, 0.12303003668785095, 0.1454455852508545, 0.1496114432811737, 0.19133013486862183]]\n"
     ]
    }
   ],
   "source": [
    "# forward\n",
    "Batch = namedtuple('Batch', ['data'])\n",
    "mod.forward(Batch([mx.nd.array(img)]))\n",
    "prob = mod.get_outputs()[0].asnumpy()\n",
    "prob = np.squeeze(prob)\n",
    "# Grab top result, convert to python list of lists and return\n",
    "results = [prob[i].tolist() for i in range(10)]\n",
    "print(results)"
   ]
  },
  {
   "cell_type": "code",
   "execution_count": null,
   "metadata": {},
   "outputs": [],
   "source": [
    "# # predict\n",
    "# eval_data = np.array([img])\n",
    "# eval_label = np.zeros(len(eval_data)) # just need to be the same length, empty is ok\n",
    "# eval_iter = mx.io.NDArrayIter(eval_data, eval_label, batch_size, shuffle=False)\n",
    "# print('eval_iter.provide_data:', eval_iter.provide_data)\n",
    "# print('eval_iter.provide_label:', eval_iter.provide_label)\n",
    "# predict_stress = mod.predict(eval_iter, num_batch)\n",
    "# print(predict_stress) # you can transfer to numpy array"
   ]
  },
  {
   "cell_type": "code",
   "execution_count": null,
   "metadata": {},
   "outputs": [],
   "source": []
  }
 ],
 "metadata": {
  "kernelspec": {
   "display_name": "conda_mxnet_p36",
   "language": "python",
   "name": "conda_mxnet_p36"
  },
  "language_info": {
   "codemirror_mode": {
    "name": "ipython",
    "version": 3
   },
   "file_extension": ".py",
   "mimetype": "text/x-python",
   "name": "python",
   "nbconvert_exporter": "python",
   "pygments_lexer": "ipython3",
   "version": "3.6.5"
  }
 },
 "nbformat": 4,
 "nbformat_minor": 4
}
