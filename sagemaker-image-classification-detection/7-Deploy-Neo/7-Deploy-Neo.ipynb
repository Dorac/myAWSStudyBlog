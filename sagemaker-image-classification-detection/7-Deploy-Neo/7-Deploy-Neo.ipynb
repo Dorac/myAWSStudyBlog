{
 "cells": [
  {
   "cell_type": "markdown",
   "metadata": {},
   "source": [
    "# Run Neo Inference on EC2\n",
    "\n",
    "* Launch Deep learning AMI Ubuntu 18.04. Suggest to run at `t3.xlarge`.\n",
    "* NEO compiled libraray need to run with `GLIBC_2.27`.\n",
    "* Compile steps please reference folder `6-SageMaker-Neo`"
   ]
  },
  {
   "cell_type": "code",
   "execution_count": null,
   "metadata": {},
   "outputs": [],
   "source": [
    "source activate aws_neuron_mxnet_p36\n",
    "ldd --version\n",
    "aws s3 cp s3://beyoung-sagemaker/neo/output/sm-detection-model-ml_c5.tar.gz sm-detection-model-ml_c5.tar.gz\n",
    "tar xvf sm-detection-model-ml_c5.tar.gz"
   ]
  },
  {
   "cell_type": "code",
   "execution_count": null,
   "metadata": {},
   "outputs": [],
   "source": [
    "mkdir resnet50\n",
    "mv compiled.params resnet50/model.params\n",
    "mv compiled_model.json resnet50/model.json\n",
    "mv compiled.so resnet50/model.so"
   ]
  },
  {
   "cell_type": "code",
   "execution_count": null,
   "metadata": {},
   "outputs": [],
   "source": [
    "pip install dlr"
   ]
  },
  {
   "cell_type": "code",
   "execution_count": null,
   "metadata": {},
   "outputs": [],
   "source": [
    "wget -O dog.jpg https://live.staticflickr.com/4106/5052728523_010830b44e_k_d.jpg"
   ]
  },
  {
   "cell_type": "markdown",
   "metadata": {},
   "source": [
    "## neo-inference.py"
   ]
  },
  {
   "cell_type": "code",
   "execution_count": null,
   "metadata": {},
   "outputs": [],
   "source": [
    "import dlr\n",
    "from dlr import DLRModel\n",
    "import mxnet as mx\n",
    "import numpy as np\n",
    "import cv2\n",
    "from collections import namedtuple\n",
    "\n",
    "# Load the compiled model\n",
    "input_shape = {'data': [1, 3, 512, 512]} # A single RGB 512x512 image\n",
    "output_shape = [1, 80]                 # The probability for each one of the 80 classes\n",
    "device = 'cpu'                           # CPU\n",
    "model = DLRModel('resnet50')\n",
    "\n",
    "\n",
    "filepath = './dog.jpg'\n",
    "DEFAULT_INPUT_SHAPE = 512\n",
    "img = cv2.cvtColor(cv2.imread(filepath), cv2.COLOR_BGR2RGB)\n",
    "print(img.shape)\n",
    "img = cv2.resize(img, (DEFAULT_INPUT_SHAPE, DEFAULT_INPUT_SHAPE))\n",
    "img = np.swapaxes(img, 0, 2)\n",
    "img = np.swapaxes(img, 1, 2)\n",
    "img = img[np.newaxis, :]\n",
    "print(img.shape)\n",
    "\n",
    "input_data = {'data': img}\n",
    "# Predict \n",
    "out = model.run(input_data)\n",
    "prob = np.squeeze(out[0])\n",
    "print(prob.shape)\n",
    "# Grab result, convert to python list of lists and return\n",
    "results = [prob[i].tolist() for i in range(10)]\n",
    "print(results)"
   ]
  },
  {
   "cell_type": "markdown",
   "metadata": {},
   "source": [
    "```\n",
    "(aws_neuron_mxnet_p36) ubuntu@ip-172-31-30-187:~$ python neo-inference.py \n",
    "(1362, 2048, 3)\n",
    "(1, 3, 512, 512)\n",
    "(6132, 6)\n",
    "[[0.0, 0.5216848850250244, 0.7248552441596985, 0.0, 0.9101921916007996, 0.5743013620376587], [-1.0, -1.0, 0.7113395929336548, 0.0, 0.905834436416626, 0.5425472855567932], [0.0, 0.40109071135520935, 0.35489270091056824, 0.010451018810272217, 0.46446946263313293, 0.5140073299407959], [-1.0, -1.0, 0.32711997628211975, 0.010070711374282837, 0.5042054653167725, 0.629302978515625], [-1.0, -1.0, 0.7220096588134766, 0.024222344160079956, 0.9272550344467163, 0.5419011116027832], [16.0, 0.3286546468734741, 0.12686961889266968, 0.44898146390914917, 0.34717822074890137, 0.7077935338020325], [0.0, 0.32737380266189575, 0.31258323788642883, 0.03207474946975708, 0.508192777633667, 0.6150685548782349], [-1.0, -1.0, 0.3491026759147644, 0.01263803243637085, 0.45894378423690796, 0.5439571142196655], [-1.0, -1.0, 0.35684555768966675, 0.025891810655593872, 0.4664193391799927, 0.4746924936771393], [0.0, 0.30793496966362, 0.7773680090904236, 0.02091062068939209, 0.8835480809211731, 0.509330689907074]]\n",
    "```"
   ]
  },
  {
   "cell_type": "markdown",
   "metadata": {},
   "source": [
    "## Viz.py"
   ]
  },
  {
   "cell_type": "code",
   "execution_count": null,
   "metadata": {},
   "outputs": [],
   "source": [
    "filepath = './dog.jpg'\n",
    "results = [[0.0, 0.5216848850250244, 0.7248552441596985, 0.0, 0.9101921916007996, 0.5743013620376587], [-1.0, -1.0, 0.7113395929336548, 0.0, 0.905834436416626, 0.5425472855567932], [0.0, 0.40109071135520935, 0.35489270091056824, 0.010451018810272217, 0.46446946263313293, 0.5140073299407959], [-1.0, -1.0, 0.32711997628211975, 0.010070711374282837, 0.5042054653167725, 0.629302978515625], [-1.0, -1.0, 0.7220096588134766, 0.024222344160079956, 0.9272550344467163, 0.5419011116027832], [16.0, 0.3286546468734741, 0.12686961889266968, 0.44898146390914917, 0.34717822074890137, 0.7077935338020325], [0.0, 0.32737380266189575, 0.31258323788642883, 0.03207474946975708, 0.508192777633667, 0.6150685548782349], [-1.0, -1.0, 0.3491026759147644, 0.01263803243637085, 0.45894378423690796, 0.5439571142196655], [-1.0, -1.0, 0.35684555768966675, 0.025891810655593872, 0.4664193391799927, 0.4746924936771393], [0.0, 0.30793496966362, 0.7773680090904236, 0.02091062068939209, 0.8835480809211731, 0.509330689907074]]\n",
    "\n",
    "def visualize_detection(img_file, dets, classes=[], thresh=0.6):\n",
    "        \"\"\"\n",
    "        visualize detections in one image\n",
    "        Parameters:\n",
    "        ----------\n",
    "        img : numpy.array\n",
    "            image, in bgr format\n",
    "        dets : numpy.array\n",
    "            ssd detections, numpy.array([[id, score, x1, y1, x2, y2]...])\n",
    "            each row is one object\n",
    "        classes : tuple or list of str\n",
    "            class names\n",
    "        thresh : float\n",
    "            score threshold\n",
    "        \"\"\"\n",
    "        import random\n",
    "        import matplotlib.pyplot as plt\n",
    "        import matplotlib.image as mpimg\n",
    "\n",
    "        img=mpimg.imread(img_file)\n",
    "        plt.imshow(img)\n",
    "        height = img.shape[0]\n",
    "        width = img.shape[1]\n",
    "        colors = dict()\n",
    "        for det in dets:\n",
    "            (klass, score, x0, y0, x1, y1) = det\n",
    "            ## need to remove class -1\n",
    "            if klass < 0 or score < thresh:\n",
    "                continue\n",
    "            cls_id = int(klass)\n",
    "            if cls_id not in colors:\n",
    "                colors[cls_id] = (random.random(), random.random(), random.random())\n",
    "            xmin = int(x0 * width)\n",
    "            ymin = int(y0 * height)\n",
    "            xmax = int(x1 * width)\n",
    "            ymax = int(y1 * height)\n",
    "            rect = plt.Rectangle((xmin, ymin), xmax - xmin,\n",
    "                                 ymax - ymin, fill=False,\n",
    "                                 edgecolor=colors[cls_id],\n",
    "                                 linewidth=1)\n",
    "            plt.gca().add_patch(rect)\n",
    "            class_name = str(cls_id)\n",
    "            if classes and len(classes) > cls_id:\n",
    "                class_name = classes[cls_id]\n",
    "            plt.gca().text(xmin, ymin - 2,\n",
    "                            '{:s} {:.3f}'.format(class_name, score),\n",
    "                            bbox=dict(facecolor=colors[cls_id], alpha=0.5),\n",
    "                                    fontsize=12, color='white')\n",
    "        plt.savefig('result.jpg', dpi=500)\n",
    "        # plt.show()\n",
    "        \n",
    "object_categories = ['person', 'bicycle', 'car',  'motorbike', 'aeroplane', 'bus', 'train', 'truck', 'boat', \n",
    "                     'traffic light', 'fire hydrant', 'stop sign', 'parking meter', 'bench', 'bird', 'cat', 'dog',\n",
    "                     'horse', 'sheep', 'cow', 'elephant', 'bear', 'zebra', 'giraffe', 'backpack', 'umbrella', 'handbag',\n",
    "                     'tie', 'suitcase', 'frisbee', 'skis', 'snowboard', 'sports ball', 'kite', 'baseball bat',\n",
    "                     'baseball glove', 'skateboard', 'surfboard', 'tennis racket', 'bottle', 'wine glass', 'cup',\n",
    "                     'fork', 'knife', 'spoon', 'bowl', 'banana', 'apple', 'sandwich', 'orange', 'broccoli', 'carrot',\n",
    "                     'hot dog', 'pizza', 'donut', 'cake', 'chair', 'sofa', 'pottedplant', 'bed', 'diningtable',\n",
    "                     'toilet', 'tvmonitor', 'laptop', 'mouse', 'remote', 'keyboard', 'cell phone', 'microwave', 'oven',\n",
    "                     'toaster', 'sink', 'refrigerator', 'book', 'clock', 'vase', 'scissors', 'teddy bear', 'hair drier',\n",
    "                     'toothbrush']\n",
    "\n",
    "# Setting a threshold 0.20 will only plot detection results that have a confidence score greater than 0.20.\n",
    "threshold = 0.328\n",
    "# Visualize the detections.\n",
    "visualize_detection(filepath, results, object_categories, threshold)\n"
   ]
  },
  {
   "cell_type": "markdown",
   "metadata": {},
   "source": [
    "```\n",
    "(aws_neuron_mxnet_p36) ubuntu@ip-172-31-30-187:~$ python viz.py\n",
    "Matplotlib is building the font cache using fc-list. This may take a moment.\n",
    "```"
   ]
  },
  {
   "cell_type": "markdown",
   "metadata": {},
   "source": [
    "## SCP the result.jpg to local and see the results"
   ]
  },
  {
   "cell_type": "markdown",
   "metadata": {},
   "source": [
    "```\n",
    "8c8590168eaf:beyoung-sagemaker beyoung$ scp -i beyoung-sagemaker-west-2-ec2.pem ubuntu@ec2-52-12-68-22.us-west-2.compute.amazonaws.com:~/result.jpg .\n",
    "result.jpg                                                 100% 2247KB 122.8KB/s   00:18    \n",
    "```"
   ]
  },
  {
   "cell_type": "markdown",
   "metadata": {},
   "source": [
    "![](./result.jpg)"
   ]
  },
  {
   "cell_type": "markdown",
   "metadata": {},
   "source": [
    "## Debug notes of load model"
   ]
  },
  {
   "cell_type": "code",
   "execution_count": 25,
   "metadata": {},
   "outputs": [
    {
     "name": "stderr",
     "output_type": "stream",
     "text": [
      "2020-05-22 10:00:44,770 ERROR error in DLRModel instantiation TVMError: Check failed: lib_handle_ != nullptr: Failed to load dynamic shared library resnet50/model.so /lib64/libm.so.6: version `GLIBC_2.27' not found (required by resnet50/model.so)\n",
      "Stack trace:\n",
      "  File \"/root/workplace/centos-6/neo-ai-dlr/3rdparty/tvm/src/runtime/dso_library.cc\", line 84\n",
      "  [bt] (0) /home/ec2-user/anaconda3/envs/amazonei_mxnet_p36/dlr/libdlr.so(+0x5f79b) [0x7f0c4234579b]\n",
      "  [bt] (1) /home/ec2-user/anaconda3/envs/amazonei_mxnet_p36/dlr/libdlr.so(tvm::runtime::Module::LoadFromFile(std::string const&, std::string const&)+0x4d3) [0x7f0c42398613]\n",
      "  [bt] (2) /home/ec2-user/anaconda3/envs/amazonei_mxnet_p36/dlr/libdlr.so(dlr::TVMModel::SetupTVMModule(std::vector<std::string, std::allocator<std::string> >)+0xae3) [0x7f0c423386a3]\n",
      "  [bt] (3) /home/ec2-user/anaconda3/envs/amazonei_mxnet_p36/dlr/libdlr.so(CreateDLRModel+0x1920) [0x7f0c4231c370]\n",
      "Traceback (most recent call last):\n",
      "  File \"/home/ec2-user/anaconda3/envs/amazonei_mxnet_p36/lib/python3.6/site-packages/dlr/api.py\", line 82, in __init__\n",
      "    self._impl = DLRModelImpl(model_path, dev_type, dev_id)\n",
      "  File \"/home/ec2-user/anaconda3/envs/amazonei_mxnet_p36/lib/python3.6/site-packages/dlr/dlr_model.py\", line 111, in __init__\n",
      "    c_int(dev_id)))\n",
      "  File \"/home/ec2-user/anaconda3/envs/amazonei_mxnet_p36/lib/python3.6/site-packages/dlr/dlr_model.py\", line 26, in _check_call\n",
      "    raise DLRError(_LIB.DLRGetLastError().decode('ascii'))\n",
      "dlr.dlr_model.DLRError: TVMError: Check failed: lib_handle_ != nullptr: Failed to load dynamic shared library resnet50/model.so /lib64/libm.so.6: version `GLIBC_2.27' not found (required by resnet50/model.so)\n",
      "Stack trace:\n",
      "  File \"/root/workplace/centos-6/neo-ai-dlr/3rdparty/tvm/src/runtime/dso_library.cc\", line 84\n",
      "  [bt] (0) /home/ec2-user/anaconda3/envs/amazonei_mxnet_p36/dlr/libdlr.so(+0x5f79b) [0x7f0c4234579b]\n",
      "  [bt] (1) /home/ec2-user/anaconda3/envs/amazonei_mxnet_p36/dlr/libdlr.so(tvm::runtime::Module::LoadFromFile(std::string const&, std::string const&)+0x4d3) [0x7f0c42398613]\n",
      "  [bt] (2) /home/ec2-user/anaconda3/envs/amazonei_mxnet_p36/dlr/libdlr.so(dlr::TVMModel::SetupTVMModule(std::vector<std::string, std::allocator<std::string> >)+0xae3) [0x7f0c423386a3]\n",
      "  [bt] (3) /home/ec2-user/anaconda3/envs/amazonei_mxnet_p36/dlr/libdlr.so(CreateDLRModel+0x1920) [0x7f0c4231c370]\n",
      "\n",
      "2020-05-22 10:00:44,770 ERROR error in DLRModel instantiation TVMError: Check failed: lib_handle_ != nullptr: Failed to load dynamic shared library resnet50/model.so /lib64/libm.so.6: version `GLIBC_2.27' not found (required by resnet50/model.so)\n",
      "Stack trace:\n",
      "  File \"/root/workplace/centos-6/neo-ai-dlr/3rdparty/tvm/src/runtime/dso_library.cc\", line 84\n",
      "  [bt] (0) /home/ec2-user/anaconda3/envs/amazonei_mxnet_p36/dlr/libdlr.so(+0x5f79b) [0x7f0c4234579b]\n",
      "  [bt] (1) /home/ec2-user/anaconda3/envs/amazonei_mxnet_p36/dlr/libdlr.so(tvm::runtime::Module::LoadFromFile(std::string const&, std::string const&)+0x4d3) [0x7f0c42398613]\n",
      "  [bt] (2) /home/ec2-user/anaconda3/envs/amazonei_mxnet_p36/dlr/libdlr.so(dlr::TVMModel::SetupTVMModule(std::vector<std::string, std::allocator<std::string> >)+0xae3) [0x7f0c423386a3]\n",
      "  [bt] (3) /home/ec2-user/anaconda3/envs/amazonei_mxnet_p36/dlr/libdlr.so(CreateDLRModel+0x1920) [0x7f0c4231c370]\n",
      "Traceback (most recent call last):\n",
      "  File \"/home/ec2-user/anaconda3/envs/amazonei_mxnet_p36/lib/python3.6/site-packages/dlr/api.py\", line 82, in __init__\n",
      "    self._impl = DLRModelImpl(model_path, dev_type, dev_id)\n",
      "  File \"/home/ec2-user/anaconda3/envs/amazonei_mxnet_p36/lib/python3.6/site-packages/dlr/dlr_model.py\", line 111, in __init__\n",
      "    c_int(dev_id)))\n",
      "  File \"/home/ec2-user/anaconda3/envs/amazonei_mxnet_p36/lib/python3.6/site-packages/dlr/dlr_model.py\", line 26, in _check_call\n",
      "    raise DLRError(_LIB.DLRGetLastError().decode('ascii'))\n",
      "dlr.dlr_model.DLRError: TVMError: Check failed: lib_handle_ != nullptr: Failed to load dynamic shared library resnet50/model.so /lib64/libm.so.6: version `GLIBC_2.27' not found (required by resnet50/model.so)\n",
      "Stack trace:\n",
      "  File \"/root/workplace/centos-6/neo-ai-dlr/3rdparty/tvm/src/runtime/dso_library.cc\", line 84\n",
      "  [bt] (0) /home/ec2-user/anaconda3/envs/amazonei_mxnet_p36/dlr/libdlr.so(+0x5f79b) [0x7f0c4234579b]\n",
      "  [bt] (1) /home/ec2-user/anaconda3/envs/amazonei_mxnet_p36/dlr/libdlr.so(tvm::runtime::Module::LoadFromFile(std::string const&, std::string const&)+0x4d3) [0x7f0c42398613]\n",
      "  [bt] (2) /home/ec2-user/anaconda3/envs/amazonei_mxnet_p36/dlr/libdlr.so(dlr::TVMModel::SetupTVMModule(std::vector<std::string, std::allocator<std::string> >)+0xae3) [0x7f0c423386a3]\n",
      "  [bt] (3) /home/ec2-user/anaconda3/envs/amazonei_mxnet_p36/dlr/libdlr.so(CreateDLRModel+0x1920) [0x7f0c4231c370]\n",
      "\n",
      "2020-05-22 10:00:44,770 ERROR error in DLRModel instantiation TVMError: Check failed: lib_handle_ != nullptr: Failed to load dynamic shared library resnet50/model.so /lib64/libm.so.6: version `GLIBC_2.27' not found (required by resnet50/model.so)\n",
      "Stack trace:\n",
      "  File \"/root/workplace/centos-6/neo-ai-dlr/3rdparty/tvm/src/runtime/dso_library.cc\", line 84\n",
      "  [bt] (0) /home/ec2-user/anaconda3/envs/amazonei_mxnet_p36/dlr/libdlr.so(+0x5f79b) [0x7f0c4234579b]\n",
      "  [bt] (1) /home/ec2-user/anaconda3/envs/amazonei_mxnet_p36/dlr/libdlr.so(tvm::runtime::Module::LoadFromFile(std::string const&, std::string const&)+0x4d3) [0x7f0c42398613]\n",
      "  [bt] (2) /home/ec2-user/anaconda3/envs/amazonei_mxnet_p36/dlr/libdlr.so(dlr::TVMModel::SetupTVMModule(std::vector<std::string, std::allocator<std::string> >)+0xae3) [0x7f0c423386a3]\n",
      "  [bt] (3) /home/ec2-user/anaconda3/envs/amazonei_mxnet_p36/dlr/libdlr.so(CreateDLRModel+0x1920) [0x7f0c4231c370]\n",
      "Traceback (most recent call last):\n",
      "  File \"/home/ec2-user/anaconda3/envs/amazonei_mxnet_p36/lib/python3.6/site-packages/dlr/api.py\", line 82, in __init__\n",
      "    self._impl = DLRModelImpl(model_path, dev_type, dev_id)\n",
      "  File \"/home/ec2-user/anaconda3/envs/amazonei_mxnet_p36/lib/python3.6/site-packages/dlr/dlr_model.py\", line 111, in __init__\n",
      "    c_int(dev_id)))\n",
      "  File \"/home/ec2-user/anaconda3/envs/amazonei_mxnet_p36/lib/python3.6/site-packages/dlr/dlr_model.py\", line 26, in _check_call\n",
      "    raise DLRError(_LIB.DLRGetLastError().decode('ascii'))\n",
      "dlr.dlr_model.DLRError: TVMError: Check failed: lib_handle_ != nullptr: Failed to load dynamic shared library resnet50/model.so /lib64/libm.so.6: version `GLIBC_2.27' not found (required by resnet50/model.so)\n",
      "Stack trace:\n",
      "  File \"/root/workplace/centos-6/neo-ai-dlr/3rdparty/tvm/src/runtime/dso_library.cc\", line 84\n",
      "  [bt] (0) /home/ec2-user/anaconda3/envs/amazonei_mxnet_p36/dlr/libdlr.so(+0x5f79b) [0x7f0c4234579b]\n",
      "  [bt] (1) /home/ec2-user/anaconda3/envs/amazonei_mxnet_p36/dlr/libdlr.so(tvm::runtime::Module::LoadFromFile(std::string const&, std::string const&)+0x4d3) [0x7f0c42398613]\n",
      "  [bt] (2) /home/ec2-user/anaconda3/envs/amazonei_mxnet_p36/dlr/libdlr.so(dlr::TVMModel::SetupTVMModule(std::vector<std::string, std::allocator<std::string> >)+0xae3) [0x7f0c423386a3]\n",
      "  [bt] (3) /home/ec2-user/anaconda3/envs/amazonei_mxnet_p36/dlr/libdlr.so(CreateDLRModel+0x1920) [0x7f0c4231c370]\n",
      "\n"
     ]
    },
    {
     "ename": "DLRError",
     "evalue": "TVMError: Check failed: lib_handle_ != nullptr: Failed to load dynamic shared library resnet50/model.so /lib64/libm.so.6: version `GLIBC_2.27' not found (required by resnet50/model.so)\nStack trace:\n  File \"/root/workplace/centos-6/neo-ai-dlr/3rdparty/tvm/src/runtime/dso_library.cc\", line 84\n  [bt] (0) /home/ec2-user/anaconda3/envs/amazonei_mxnet_p36/dlr/libdlr.so(+0x5f79b) [0x7f0c4234579b]\n  [bt] (1) /home/ec2-user/anaconda3/envs/amazonei_mxnet_p36/dlr/libdlr.so(tvm::runtime::Module::LoadFromFile(std::string const&, std::string const&)+0x4d3) [0x7f0c42398613]\n  [bt] (2) /home/ec2-user/anaconda3/envs/amazonei_mxnet_p36/dlr/libdlr.so(dlr::TVMModel::SetupTVMModule(std::vector<std::string, std::allocator<std::string> >)+0xae3) [0x7f0c423386a3]\n  [bt] (3) /home/ec2-user/anaconda3/envs/amazonei_mxnet_p36/dlr/libdlr.so(CreateDLRModel+0x1920) [0x7f0c4231c370]\n",
     "output_type": "error",
     "traceback": [
      "\u001b[0;31m---------------------------------------------------------------------------\u001b[0m",
      "\u001b[0;31mDLRError\u001b[0m                                  Traceback (most recent call last)",
      "\u001b[0;32m<ipython-input-25-8380c1ef3beb>\u001b[0m in \u001b[0;36m<module>\u001b[0;34m()\u001b[0m\n\u001b[1;32m      3\u001b[0m \u001b[0moutput_shape\u001b[0m \u001b[0;34m=\u001b[0m \u001b[0;34m[\u001b[0m\u001b[0;36m1\u001b[0m\u001b[0;34m,\u001b[0m \u001b[0;36m80\u001b[0m\u001b[0;34m]\u001b[0m                 \u001b[0;31m# The probability for each one of the 80 classes\u001b[0m\u001b[0;34m\u001b[0m\u001b[0m\n\u001b[1;32m      4\u001b[0m \u001b[0mdevice\u001b[0m \u001b[0;34m=\u001b[0m \u001b[0;34m'cpu'\u001b[0m                           \u001b[0;31m# CPU\u001b[0m\u001b[0;34m\u001b[0m\u001b[0m\n\u001b[0;32m----> 5\u001b[0;31m \u001b[0mmodel\u001b[0m \u001b[0;34m=\u001b[0m \u001b[0mDLRModel\u001b[0m\u001b[0;34m(\u001b[0m\u001b[0;34m'resnet50'\u001b[0m\u001b[0;34m)\u001b[0m\u001b[0;34m\u001b[0m\u001b[0m\n\u001b[0m",
      "\u001b[0;32m~/anaconda3/envs/amazonei_mxnet_p36/lib/python3.6/site-packages/dlr/api.py\u001b[0m in \u001b[0;36m__init__\u001b[0;34m(self, model_path, dev_type, dev_id, error_log_file)\u001b[0m\n\u001b[1;32m     83\u001b[0m         \u001b[0;32mexcept\u001b[0m \u001b[0mException\u001b[0m \u001b[0;32mas\u001b[0m \u001b[0mex\u001b[0m\u001b[0;34m:\u001b[0m\u001b[0;34m\u001b[0m\u001b[0m\n\u001b[1;32m     84\u001b[0m             \u001b[0mself\u001b[0m\u001b[0;34m.\u001b[0m\u001b[0mneo_logger\u001b[0m\u001b[0;34m.\u001b[0m\u001b[0mexception\u001b[0m\u001b[0;34m(\u001b[0m\u001b[0;34m\"error in DLRModel instantiation {}\"\u001b[0m\u001b[0;34m.\u001b[0m\u001b[0mformat\u001b[0m\u001b[0;34m(\u001b[0m\u001b[0mex\u001b[0m\u001b[0;34m)\u001b[0m\u001b[0;34m)\u001b[0m\u001b[0;34m\u001b[0m\u001b[0m\n\u001b[0;32m---> 85\u001b[0;31m             \u001b[0;32mraise\u001b[0m \u001b[0mex\u001b[0m\u001b[0;34m\u001b[0m\u001b[0m\n\u001b[0m\u001b[1;32m     86\u001b[0m \u001b[0;34m\u001b[0m\u001b[0m\n\u001b[1;32m     87\u001b[0m     \u001b[0;32mdef\u001b[0m \u001b[0mrun\u001b[0m\u001b[0;34m(\u001b[0m\u001b[0mself\u001b[0m\u001b[0;34m,\u001b[0m \u001b[0minput_values\u001b[0m\u001b[0;34m)\u001b[0m\u001b[0;34m:\u001b[0m\u001b[0;34m\u001b[0m\u001b[0m\n",
      "\u001b[0;32m~/anaconda3/envs/amazonei_mxnet_p36/lib/python3.6/site-packages/dlr/api.py\u001b[0m in \u001b[0;36m__init__\u001b[0;34m(self, model_path, dev_type, dev_id, error_log_file)\u001b[0m\n\u001b[1;32m     80\u001b[0m             \u001b[0;32mif\u001b[0m \u001b[0mdev_id\u001b[0m \u001b[0;32mis\u001b[0m \u001b[0;32mNone\u001b[0m\u001b[0;34m:\u001b[0m\u001b[0;34m\u001b[0m\u001b[0m\n\u001b[1;32m     81\u001b[0m                 \u001b[0mdev_id\u001b[0m \u001b[0;34m=\u001b[0m \u001b[0;36m0\u001b[0m\u001b[0;34m\u001b[0m\u001b[0m\n\u001b[0;32m---> 82\u001b[0;31m             \u001b[0mself\u001b[0m\u001b[0;34m.\u001b[0m\u001b[0m_impl\u001b[0m \u001b[0;34m=\u001b[0m \u001b[0mDLRModelImpl\u001b[0m\u001b[0;34m(\u001b[0m\u001b[0mmodel_path\u001b[0m\u001b[0;34m,\u001b[0m \u001b[0mdev_type\u001b[0m\u001b[0;34m,\u001b[0m \u001b[0mdev_id\u001b[0m\u001b[0;34m)\u001b[0m\u001b[0;34m\u001b[0m\u001b[0m\n\u001b[0m\u001b[1;32m     83\u001b[0m         \u001b[0;32mexcept\u001b[0m \u001b[0mException\u001b[0m \u001b[0;32mas\u001b[0m \u001b[0mex\u001b[0m\u001b[0;34m:\u001b[0m\u001b[0;34m\u001b[0m\u001b[0m\n\u001b[1;32m     84\u001b[0m             \u001b[0mself\u001b[0m\u001b[0;34m.\u001b[0m\u001b[0mneo_logger\u001b[0m\u001b[0;34m.\u001b[0m\u001b[0mexception\u001b[0m\u001b[0;34m(\u001b[0m\u001b[0;34m\"error in DLRModel instantiation {}\"\u001b[0m\u001b[0;34m.\u001b[0m\u001b[0mformat\u001b[0m\u001b[0;34m(\u001b[0m\u001b[0mex\u001b[0m\u001b[0;34m)\u001b[0m\u001b[0;34m)\u001b[0m\u001b[0;34m\u001b[0m\u001b[0m\n",
      "\u001b[0;32m~/anaconda3/envs/amazonei_mxnet_p36/lib/python3.6/site-packages/dlr/dlr_model.py\u001b[0m in \u001b[0;36m__init__\u001b[0;34m(self, model_path, dev_type, dev_id)\u001b[0m\n\u001b[1;32m    109\u001b[0m                                         \u001b[0mc_char_p\u001b[0m\u001b[0;34m(\u001b[0m\u001b[0mmodel_path\u001b[0m\u001b[0;34m.\u001b[0m\u001b[0mencode\u001b[0m\u001b[0;34m(\u001b[0m\u001b[0;34m)\u001b[0m\u001b[0;34m)\u001b[0m\u001b[0;34m,\u001b[0m\u001b[0;34m\u001b[0m\u001b[0m\n\u001b[1;32m    110\u001b[0m                                         \u001b[0mc_int\u001b[0m\u001b[0;34m(\u001b[0m\u001b[0mdevice_table\u001b[0m\u001b[0;34m[\u001b[0m\u001b[0mdev_type\u001b[0m\u001b[0;34m]\u001b[0m\u001b[0;34m)\u001b[0m\u001b[0;34m,\u001b[0m\u001b[0;34m\u001b[0m\u001b[0m\n\u001b[0;32m--> 111\u001b[0;31m                                         c_int(dev_id)))\n\u001b[0m\u001b[1;32m    112\u001b[0m \u001b[0;34m\u001b[0m\u001b[0m\n\u001b[1;32m    113\u001b[0m         \u001b[0mself\u001b[0m\u001b[0;34m.\u001b[0m\u001b[0mbackend\u001b[0m \u001b[0;34m=\u001b[0m \u001b[0mself\u001b[0m\u001b[0;34m.\u001b[0m\u001b[0m_parse_backend\u001b[0m\u001b[0;34m(\u001b[0m\u001b[0;34m)\u001b[0m\u001b[0;34m\u001b[0m\u001b[0m\n",
      "\u001b[0;32m~/anaconda3/envs/amazonei_mxnet_p36/lib/python3.6/site-packages/dlr/dlr_model.py\u001b[0m in \u001b[0;36m_check_call\u001b[0;34m(ret)\u001b[0m\n\u001b[1;32m     24\u001b[0m     \"\"\"\n\u001b[1;32m     25\u001b[0m     \u001b[0;32mif\u001b[0m \u001b[0mret\u001b[0m \u001b[0;34m!=\u001b[0m \u001b[0;36m0\u001b[0m\u001b[0;34m:\u001b[0m\u001b[0;34m\u001b[0m\u001b[0m\n\u001b[0;32m---> 26\u001b[0;31m         \u001b[0;32mraise\u001b[0m \u001b[0mDLRError\u001b[0m\u001b[0;34m(\u001b[0m\u001b[0m_LIB\u001b[0m\u001b[0;34m.\u001b[0m\u001b[0mDLRGetLastError\u001b[0m\u001b[0;34m(\u001b[0m\u001b[0;34m)\u001b[0m\u001b[0;34m.\u001b[0m\u001b[0mdecode\u001b[0m\u001b[0;34m(\u001b[0m\u001b[0;34m'ascii'\u001b[0m\u001b[0;34m)\u001b[0m\u001b[0;34m)\u001b[0m\u001b[0;34m\u001b[0m\u001b[0m\n\u001b[0m\u001b[1;32m     27\u001b[0m \u001b[0;34m\u001b[0m\u001b[0m\n\u001b[1;32m     28\u001b[0m \u001b[0;32mdef\u001b[0m \u001b[0m_load_lib\u001b[0m\u001b[0;34m(\u001b[0m\u001b[0;34m)\u001b[0m\u001b[0;34m:\u001b[0m\u001b[0;34m\u001b[0m\u001b[0m\n",
      "\u001b[0;31mDLRError\u001b[0m: TVMError: Check failed: lib_handle_ != nullptr: Failed to load dynamic shared library resnet50/model.so /lib64/libm.so.6: version `GLIBC_2.27' not found (required by resnet50/model.so)\nStack trace:\n  File \"/root/workplace/centos-6/neo-ai-dlr/3rdparty/tvm/src/runtime/dso_library.cc\", line 84\n  [bt] (0) /home/ec2-user/anaconda3/envs/amazonei_mxnet_p36/dlr/libdlr.so(+0x5f79b) [0x7f0c4234579b]\n  [bt] (1) /home/ec2-user/anaconda3/envs/amazonei_mxnet_p36/dlr/libdlr.so(tvm::runtime::Module::LoadFromFile(std::string const&, std::string const&)+0x4d3) [0x7f0c42398613]\n  [bt] (2) /home/ec2-user/anaconda3/envs/amazonei_mxnet_p36/dlr/libdlr.so(dlr::TVMModel::SetupTVMModule(std::vector<std::string, std::allocator<std::string> >)+0xae3) [0x7f0c423386a3]\n  [bt] (3) /home/ec2-user/anaconda3/envs/amazonei_mxnet_p36/dlr/libdlr.so(CreateDLRModel+0x1920) [0x7f0c4231c370]\n"
     ]
    }
   ],
   "source": [
    "# Load the compiled model\n",
    "input_shape = {'data': [1, 3, 512, 512]} # A single RGB 512x512 image\n",
    "output_shape = [1, 80]                 # The probability for each one of the 80 classes\n",
    "device = 'cpu'                           # CPU\n",
    "model = DLRModel('resnet50')\n",
    "\n",
    "###\n",
    "## DLRError: TVMError: Check failed: lib_handle_ != nullptr: Failed to load dynamic shared library resnet50/model.so /lib64/libm.so.6: version `GLIBC_2.27' not found (required by resnet50/model.so)"
   ]
  },
  {
   "cell_type": "code",
   "execution_count": null,
   "metadata": {},
   "outputs": [],
   "source": []
  }
 ],
 "metadata": {
  "kernelspec": {
   "display_name": "conda_amazonei_mxnet_p36",
   "language": "python",
   "name": "conda_amazonei_mxnet_p36"
  },
  "language_info": {
   "codemirror_mode": {
    "name": "ipython",
    "version": 3
   },
   "file_extension": ".py",
   "mimetype": "text/x-python",
   "name": "python",
   "nbconvert_exporter": "python",
   "pygments_lexer": "ipython3",
   "version": "3.6.5"
  }
 },
 "nbformat": 4,
 "nbformat_minor": 4
}
