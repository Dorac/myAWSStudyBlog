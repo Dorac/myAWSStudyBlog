{
 "cells": [
  {
   "cell_type": "markdown",
   "metadata": {},
   "source": [
    "# SageMaker Object Detection model transform\n",
    "\n",
    "This is the repeat error message for the [issue 15181](https://github.com/apache/incubator-mxnet/issues/15181) : `No conversion function registered for op type _contrib_MultiBoxPrior yet`"
   ]
  },
  {
   "cell_type": "code",
   "execution_count": 1,
   "metadata": {},
   "outputs": [
    {
     "name": "stderr",
     "output_type": "stream",
     "text": [
      "Cloning into 'incubator-mxnet'...\n"
     ]
    }
   ],
   "source": [
    "%%bash\n",
    "git clone https://github.com/apache/incubator-mxnet"
   ]
  },
  {
   "cell_type": "code",
   "execution_count": 2,
   "metadata": {},
   "outputs": [
    {
     "data": {
      "text/plain": [
       "'s3://beyoung-sagemaker/coco-object-detection-20200422/output/object-detection-2020-04-22-09-25-36-709/output/model.tar.gz'"
      ]
     },
     "execution_count": 2,
     "metadata": {},
     "output_type": "execute_result"
    }
   ],
   "source": [
    "import boto3\n",
    "sm = boto3.client('sagemaker')\n",
    "response = sm.describe_training_job(TrainingJobName='object-detection-2020-04-22-09-25-36-709')\n",
    "model_path = response['ModelArtifacts']['S3ModelArtifacts']\n",
    "model_path"
   ]
  },
  {
   "cell_type": "code",
   "execution_count": 3,
   "metadata": {},
   "outputs": [
    {
     "name": "stdout",
     "output_type": "stream",
     "text": [
      "download: s3://beyoung-sagemaker/coco-object-detection-20200422/output/object-detection-2020-04-22-09-25-36-709/output/model.tar.gz to ./model.tar.gz\n",
      "hyperparams.json\n",
      "model_algo_1-0000.params\n",
      "model_algo_1-symbol.json\n",
      "hyperparams.json  model_algo_1-0000.params  model_algo_1-symbol.json  README.md\n"
     ]
    }
   ],
   "source": [
    "!aws s3 cp {model_path} ./model.tar.gz\n",
    "!tar -xvf ./model.tar.gz -C ./incubator-mxnet/example/ssd/model/\n",
    "!ls ./incubator-mxnet/example/ssd/model/"
   ]
  },
  {
   "cell_type": "code",
   "execution_count": 4,
   "metadata": {},
   "outputs": [
    {
     "name": "stdout",
     "output_type": "stream",
     "text": [
      "/home/ec2-user/SageMaker/myAWSStudyBlog/sagemaker-image-classification-detection/8-tensort/incubator-mxnet/example/ssd\n",
      "[02:41:01] src/nnvm/legacy_json_util.cc:209: Loading symbol saved by previous version v1.4.1. Attempting to upgrade...\n",
      "[02:41:01] src/nnvm/legacy_json_util.cc:217: Symbol successfully upgraded!\n",
      "Saved model: model/deploy_model_algo_1-0000.params\n",
      "Saved symbol: model/deploy_model_algo_1-symbol.json\n"
     ]
    }
   ],
   "source": [
    "# change notebook working directory\n",
    "%cd ./incubator-mxnet/example/ssd\n",
    "#deploy model as checkpoint format\n",
    "!python deploy.py --network resnet50 --prefix model/model_algo_1 --num-class 80 --data-shape 512"
   ]
  },
  {
   "cell_type": "code",
   "execution_count": 5,
   "metadata": {},
   "outputs": [
    {
     "name": "stderr",
     "output_type": "stream",
     "text": [
      "INFO:root:Converting json and weight file to sym and params\n"
     ]
    },
    {
     "ename": "AttributeError",
     "evalue": "No conversion function registered for op type _contrib_MultiBoxPrior yet.",
     "output_type": "error",
     "traceback": [
      "\u001b[0;31m---------------------------------------------------------------------------\u001b[0m",
      "\u001b[0;31mAttributeError\u001b[0m                            Traceback (most recent call last)",
      "\u001b[0;32m<ipython-input-5-4a7c11c8e125>\u001b[0m in \u001b[0;36m<module>\u001b[0;34m\u001b[0m\n\u001b[1;32m     16\u001b[0m \u001b[0monnx_file\u001b[0m \u001b[0;34m=\u001b[0m \u001b[0;34m'./mxnet_exported.onnx'\u001b[0m\u001b[0;34m\u001b[0m\u001b[0;34m\u001b[0m\u001b[0m\n\u001b[1;32m     17\u001b[0m \u001b[0;34m\u001b[0m\u001b[0m\n\u001b[0;32m---> 18\u001b[0;31m \u001b[0mconverted_model_path\u001b[0m \u001b[0;34m=\u001b[0m \u001b[0monnx_mxnet\u001b[0m\u001b[0;34m.\u001b[0m\u001b[0mexport_model\u001b[0m\u001b[0;34m(\u001b[0m\u001b[0msym\u001b[0m\u001b[0;34m,\u001b[0m \u001b[0mparams\u001b[0m\u001b[0;34m,\u001b[0m \u001b[0;34m[\u001b[0m\u001b[0minput_shape\u001b[0m\u001b[0;34m]\u001b[0m\u001b[0;34m,\u001b[0m \u001b[0mnp\u001b[0m\u001b[0;34m.\u001b[0m\u001b[0mfloat32\u001b[0m\u001b[0;34m,\u001b[0m \u001b[0monnx_file\u001b[0m\u001b[0;34m)\u001b[0m\u001b[0;34m\u001b[0m\u001b[0;34m\u001b[0m\u001b[0m\n\u001b[0m",
      "\u001b[0;32m~/anaconda3/envs/amazonei_mxnet_p36/lib/python3.6/site-packages/mxnet/contrib/onnx/mx2onnx/export_model.py\u001b[0m in \u001b[0;36mexport_model\u001b[0;34m(sym, params, input_shape, input_type, onnx_file_path, verbose)\u001b[0m\n\u001b[1;32m     81\u001b[0m         onnx_graph = converter.create_onnx_graph_proto(sym_obj, params_obj, input_shape,\n\u001b[1;32m     82\u001b[0m                                                        \u001b[0mmapping\u001b[0m\u001b[0;34m.\u001b[0m\u001b[0mNP_TYPE_TO_TENSOR_TYPE\u001b[0m\u001b[0;34m[\u001b[0m\u001b[0mdata_format\u001b[0m\u001b[0;34m]\u001b[0m\u001b[0;34m,\u001b[0m\u001b[0;34m\u001b[0m\u001b[0;34m\u001b[0m\u001b[0m\n\u001b[0;32m---> 83\u001b[0;31m                                                        verbose=verbose)\n\u001b[0m\u001b[1;32m     84\u001b[0m     \u001b[0;32melif\u001b[0m \u001b[0misinstance\u001b[0m\u001b[0;34m(\u001b[0m\u001b[0msym\u001b[0m\u001b[0;34m,\u001b[0m \u001b[0msymbol\u001b[0m\u001b[0;34m.\u001b[0m\u001b[0mSymbol\u001b[0m\u001b[0;34m)\u001b[0m \u001b[0;32mand\u001b[0m \u001b[0misinstance\u001b[0m\u001b[0;34m(\u001b[0m\u001b[0mparams\u001b[0m\u001b[0;34m,\u001b[0m \u001b[0mdict\u001b[0m\u001b[0;34m)\u001b[0m\u001b[0;34m:\u001b[0m\u001b[0;34m\u001b[0m\u001b[0;34m\u001b[0m\u001b[0m\n\u001b[1;32m     85\u001b[0m         onnx_graph = converter.create_onnx_graph_proto(sym, params, input_shape,\n",
      "\u001b[0;32m~/anaconda3/envs/amazonei_mxnet_p36/lib/python3.6/site-packages/mxnet/contrib/onnx/mx2onnx/export_onnx.py\u001b[0m in \u001b[0;36mcreate_onnx_graph_proto\u001b[0;34m(self, sym, params, in_shape, in_type, verbose)\u001b[0m\n\u001b[1;32m    251\u001b[0m                     \u001b[0minitializer\u001b[0m\u001b[0;34m=\u001b[0m\u001b[0minitializer\u001b[0m\u001b[0;34m,\u001b[0m\u001b[0;34m\u001b[0m\u001b[0;34m\u001b[0m\u001b[0m\n\u001b[1;32m    252\u001b[0m                     \u001b[0mindex_lookup\u001b[0m\u001b[0;34m=\u001b[0m\u001b[0mindex_lookup\u001b[0m\u001b[0;34m,\u001b[0m\u001b[0;34m\u001b[0m\u001b[0;34m\u001b[0m\u001b[0m\n\u001b[0;32m--> 253\u001b[0;31m                     \u001b[0midx\u001b[0m\u001b[0;34m=\u001b[0m\u001b[0midx\u001b[0m\u001b[0;34m\u001b[0m\u001b[0;34m\u001b[0m\u001b[0m\n\u001b[0m\u001b[1;32m    254\u001b[0m                 )\n\u001b[1;32m    255\u001b[0m \u001b[0;34m\u001b[0m\u001b[0m\n",
      "\u001b[0;32m~/anaconda3/envs/amazonei_mxnet_p36/lib/python3.6/site-packages/mxnet/contrib/onnx/mx2onnx/export_onnx.py\u001b[0m in \u001b[0;36mconvert_layer\u001b[0;34m(node, **kwargs)\u001b[0m\n\u001b[1;32m     88\u001b[0m         \u001b[0mop\u001b[0m \u001b[0;34m=\u001b[0m \u001b[0mstr\u001b[0m\u001b[0;34m(\u001b[0m\u001b[0mnode\u001b[0m\u001b[0;34m[\u001b[0m\u001b[0;34m\"op\"\u001b[0m\u001b[0;34m]\u001b[0m\u001b[0;34m)\u001b[0m\u001b[0;34m\u001b[0m\u001b[0;34m\u001b[0m\u001b[0m\n\u001b[1;32m     89\u001b[0m         \u001b[0;32mif\u001b[0m \u001b[0mop\u001b[0m \u001b[0;32mnot\u001b[0m \u001b[0;32min\u001b[0m \u001b[0mMXNetGraph\u001b[0m\u001b[0;34m.\u001b[0m\u001b[0mregistry_\u001b[0m\u001b[0;34m:\u001b[0m\u001b[0;34m\u001b[0m\u001b[0;34m\u001b[0m\u001b[0m\n\u001b[0;32m---> 90\u001b[0;31m             \u001b[0;32mraise\u001b[0m \u001b[0mAttributeError\u001b[0m\u001b[0;34m(\u001b[0m\u001b[0;34m\"No conversion function registered for op type %s yet.\"\u001b[0m \u001b[0;34m%\u001b[0m \u001b[0mop\u001b[0m\u001b[0;34m)\u001b[0m\u001b[0;34m\u001b[0m\u001b[0;34m\u001b[0m\u001b[0m\n\u001b[0m\u001b[1;32m     91\u001b[0m         \u001b[0mconvert_func\u001b[0m \u001b[0;34m=\u001b[0m \u001b[0mMXNetGraph\u001b[0m\u001b[0;34m.\u001b[0m\u001b[0mregistry_\u001b[0m\u001b[0;34m[\u001b[0m\u001b[0mop\u001b[0m\u001b[0;34m]\u001b[0m\u001b[0;34m\u001b[0m\u001b[0;34m\u001b[0m\u001b[0m\n\u001b[1;32m     92\u001b[0m         \u001b[0;32mreturn\u001b[0m \u001b[0mconvert_func\u001b[0m\u001b[0;34m(\u001b[0m\u001b[0mnode\u001b[0m\u001b[0;34m,\u001b[0m \u001b[0;34m**\u001b[0m\u001b[0mkwargs\u001b[0m\u001b[0;34m)\u001b[0m\u001b[0;34m\u001b[0m\u001b[0;34m\u001b[0m\u001b[0m\n",
      "\u001b[0;31mAttributeError\u001b[0m: No conversion function registered for op type _contrib_MultiBoxPrior yet."
     ]
    }
   ],
   "source": [
    "## ref: https://github.com/apache/incubator-mxnet/issues/15181#issuecomment-519307238\n",
    "\n",
    "import numpy as np\n",
    "from mxnet.contrib import onnx as onnx_mxnet\n",
    "import logging\n",
    "logging.basicConfig(level=logging.INFO)\n",
    "\n",
    "# Downloaded input symbol and params files\n",
    "sym = './model/deploy_model_algo_1-symbol.json'\n",
    "params = './model/deploy_model_algo_1-0000.params'\n",
    "\n",
    "# Standard Imagenet input - 3 channels, 512*512\n",
    "input_shape = (1,3,512,512)\n",
    "\n",
    "# Path of the output file\n",
    "onnx_file = './mxnet_exported.onnx'\n",
    "\n",
    "converted_model_path = onnx_mxnet.export_model(sym, params, [input_shape], np.float32, onnx_file)"
   ]
  },
  {
   "cell_type": "code",
   "execution_count": null,
   "metadata": {},
   "outputs": [],
   "source": []
  }
 ],
 "metadata": {
  "kernelspec": {
   "display_name": "conda_amazonei_mxnet_p36",
   "language": "python",
   "name": "conda_amazonei_mxnet_p36"
  },
  "language_info": {
   "codemirror_mode": {
    "name": "ipython",
    "version": 3
   },
   "file_extension": ".py",
   "mimetype": "text/x-python",
   "name": "python",
   "nbconvert_exporter": "python",
   "pygments_lexer": "ipython3",
   "version": "3.6.10"
  }
 },
 "nbformat": 4,
 "nbformat_minor": 4
}
