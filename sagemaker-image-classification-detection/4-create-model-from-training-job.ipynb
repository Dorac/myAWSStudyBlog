{
 "cells": [
  {
   "cell_type": "code",
   "execution_count": 1,
   "metadata": {},
   "outputs": [],
   "source": [
    "import boto3\n",
    "from datetime import datetime"
   ]
  },
  {
   "cell_type": "code",
   "execution_count": 2,
   "metadata": {},
   "outputs": [],
   "source": [
    "sm = boto3.client('sagemaker')"
   ]
  },
  {
   "cell_type": "code",
   "execution_count": 3,
   "metadata": {},
   "outputs": [],
   "source": [
    "job_name = 'object-detection-2020-04-27-02-50-13-765'"
   ]
  },
  {
   "cell_type": "code",
   "execution_count": 4,
   "metadata": {},
   "outputs": [
    {
     "data": {
      "text/plain": [
       "{'TrainingJobName': 'object-detection-2020-04-27-02-50-13-765',\n",
       " 'TrainingJobArn': 'arn:aws:sagemaker:us-west-2:476271697919:training-job/object-detection-2020-04-27-02-50-13-765',\n",
       " 'ModelArtifacts': {'S3ModelArtifacts': 's3://beyoung-sagemaker/coco-object-detection-20200427/output/object-detection-2020-04-27-02-50-13-765/output/model.tar.gz'},\n",
       " 'TrainingJobStatus': 'Completed',\n",
       " 'SecondaryStatus': 'Completed',\n",
       " 'HyperParameters': {'base_network': 'resnet-50',\n",
       "  'epochs': '30',\n",
       "  'image_shape': '512',\n",
       "  'label_width': '600',\n",
       "  'learning_rate': '0.001',\n",
       "  'lr_scheduler_factor': '0.1',\n",
       "  'lr_scheduler_step': '10',\n",
       "  'mini_batch_size': '16',\n",
       "  'momentum': '0.9',\n",
       "  'nms_threshold': '0.45',\n",
       "  'num_classes': '80',\n",
       "  'num_training_samples': '4452',\n",
       "  'optimizer': 'sgd',\n",
       "  'overlap_threshold': '0.5',\n",
       "  'use_pretrained_model': '1',\n",
       "  'weight_decay': '0.0005'},\n",
       " 'AlgorithmSpecification': {'TrainingImage': '433757028032.dkr.ecr.us-west-2.amazonaws.com/object-detection:latest',\n",
       "  'TrainingInputMode': 'File',\n",
       "  'MetricDefinitions': [{'Name': 'train:progress',\n",
       "    'Regex': '#progress_metric: host=\\\\S+, completed (\\\\S+) %'},\n",
       "   {'Name': 'train:smooth_l1',\n",
       "    'Regex': '#quality_metric: host=\\\\S+, epoch=\\\\S+, batch=\\\\S+ train smooth_l1 <loss>=\\\\((\\\\S+)\\\\)'},\n",
       "   {'Name': 'train:cross_entropy',\n",
       "    'Regex': '#quality_metric: host=\\\\S+, epoch=\\\\S+, batch=\\\\S+ train cross_entropy <loss>=\\\\((\\\\S+)\\\\)'},\n",
       "   {'Name': 'train:throughput',\n",
       "    'Regex': '#throughput_metric: host=\\\\S+, train throughput=(\\\\S+) records/second'},\n",
       "   {'Name': 'validation:mAP',\n",
       "    'Regex': '#quality_metric: host=\\\\S+, epoch=\\\\S+, validation mAP <score>=\\\\((\\\\S+)\\\\)'}],\n",
       "  'EnableSageMakerMetricsTimeSeries': False},\n",
       " 'RoleArn': 'arn:aws:iam::476271697919:role/service-role/AmazonSageMaker-ExecutionRole-20200427T094649',\n",
       " 'InputDataConfig': [{'ChannelName': 'train',\n",
       "   'DataSource': {'S3DataSource': {'S3DataType': 'S3Prefix',\n",
       "     'S3Uri': 's3://beyoung-sagemaker/coco-object-detection-20200427/train',\n",
       "     'S3DataDistributionType': 'FullyReplicated'}},\n",
       "   'ContentType': 'image/jpeg',\n",
       "   'CompressionType': 'None',\n",
       "   'RecordWrapperType': 'None'},\n",
       "  {'ChannelName': 'validation',\n",
       "   'DataSource': {'S3DataSource': {'S3DataType': 'S3Prefix',\n",
       "     'S3Uri': 's3://beyoung-sagemaker/coco-object-detection-20200427/validation',\n",
       "     'S3DataDistributionType': 'FullyReplicated'}},\n",
       "   'ContentType': 'image/jpeg',\n",
       "   'CompressionType': 'None',\n",
       "   'RecordWrapperType': 'None'},\n",
       "  {'ChannelName': 'train_annotation',\n",
       "   'DataSource': {'S3DataSource': {'S3DataType': 'S3Prefix',\n",
       "     'S3Uri': 's3://beyoung-sagemaker/coco-object-detection-20200427/train_annotation',\n",
       "     'S3DataDistributionType': 'FullyReplicated'}},\n",
       "   'ContentType': 'image/jpeg',\n",
       "   'CompressionType': 'None',\n",
       "   'RecordWrapperType': 'None'},\n",
       "  {'ChannelName': 'validation_annotation',\n",
       "   'DataSource': {'S3DataSource': {'S3DataType': 'S3Prefix',\n",
       "     'S3Uri': 's3://beyoung-sagemaker/coco-object-detection-20200427/validation_annotation',\n",
       "     'S3DataDistributionType': 'FullyReplicated'}},\n",
       "   'ContentType': 'image/jpeg',\n",
       "   'CompressionType': 'None',\n",
       "   'RecordWrapperType': 'None'}],\n",
       " 'OutputDataConfig': {'KmsKeyId': '',\n",
       "  'S3OutputPath': 's3://beyoung-sagemaker/coco-object-detection-20200427/output'},\n",
       " 'ResourceConfig': {'InstanceType': 'ml.p3.2xlarge',\n",
       "  'InstanceCount': 1,\n",
       "  'VolumeSizeInGB': 50},\n",
       " 'StoppingCondition': {'MaxRuntimeInSeconds': 360000},\n",
       " 'CreationTime': datetime.datetime(2020, 4, 27, 2, 50, 14, 21000, tzinfo=tzlocal()),\n",
       " 'TrainingStartTime': datetime.datetime(2020, 4, 27, 2, 52, 24, 552000, tzinfo=tzlocal()),\n",
       " 'TrainingEndTime': datetime.datetime(2020, 4, 27, 3, 46, 41, 969000, tzinfo=tzlocal()),\n",
       " 'LastModifiedTime': datetime.datetime(2020, 4, 27, 3, 46, 41, 969000, tzinfo=tzlocal()),\n",
       " 'SecondaryStatusTransitions': [{'Status': 'Starting',\n",
       "   'StartTime': datetime.datetime(2020, 4, 27, 2, 50, 14, 21000, tzinfo=tzlocal()),\n",
       "   'EndTime': datetime.datetime(2020, 4, 27, 2, 52, 24, 552000, tzinfo=tzlocal()),\n",
       "   'StatusMessage': 'Preparing the instances for training'},\n",
       "  {'Status': 'Downloading',\n",
       "   'StartTime': datetime.datetime(2020, 4, 27, 2, 52, 24, 552000, tzinfo=tzlocal()),\n",
       "   'EndTime': datetime.datetime(2020, 4, 27, 2, 53, 51, 389000, tzinfo=tzlocal()),\n",
       "   'StatusMessage': 'Downloading input data'},\n",
       "  {'Status': 'Training',\n",
       "   'StartTime': datetime.datetime(2020, 4, 27, 2, 53, 51, 389000, tzinfo=tzlocal()),\n",
       "   'EndTime': datetime.datetime(2020, 4, 27, 3, 46, 15, 137000, tzinfo=tzlocal()),\n",
       "   'StatusMessage': 'Training image download completed. Training in progress.'},\n",
       "  {'Status': 'Uploading',\n",
       "   'StartTime': datetime.datetime(2020, 4, 27, 3, 46, 15, 137000, tzinfo=tzlocal()),\n",
       "   'EndTime': datetime.datetime(2020, 4, 27, 3, 46, 41, 969000, tzinfo=tzlocal()),\n",
       "   'StatusMessage': 'Uploading generated training model'},\n",
       "  {'Status': 'Completed',\n",
       "   'StartTime': datetime.datetime(2020, 4, 27, 3, 46, 41, 969000, tzinfo=tzlocal()),\n",
       "   'EndTime': datetime.datetime(2020, 4, 27, 3, 46, 41, 969000, tzinfo=tzlocal()),\n",
       "   'StatusMessage': 'Training job completed'}],\n",
       " 'FinalMetricDataList': [{'MetricName': 'train:progress',\n",
       "   'Value': 100.0,\n",
       "   'Timestamp': datetime.datetime(1970, 1, 19, 9, 5, 59, 172000, tzinfo=tzlocal())},\n",
       "  {'MetricName': 'train:smooth_l1',\n",
       "   'Value': 0.5598509311676025,\n",
       "   'Timestamp': datetime.datetime(1970, 1, 19, 9, 5, 59, 166000, tzinfo=tzlocal())},\n",
       "  {'MetricName': 'train:cross_entropy',\n",
       "   'Value': 1.2415530681610107,\n",
       "   'Timestamp': datetime.datetime(1970, 1, 19, 9, 5, 59, 166000, tzinfo=tzlocal())},\n",
       "  {'MetricName': 'validation:mAP',\n",
       "   'Value': 0.07147927582263947,\n",
       "   'Timestamp': datetime.datetime(1970, 1, 19, 9, 5, 59, 172000, tzinfo=tzlocal())}],\n",
       " 'EnableNetworkIsolation': False,\n",
       " 'EnableInterContainerTrafficEncryption': False,\n",
       " 'EnableManagedSpotTraining': False,\n",
       " 'TrainingTimeInSeconds': 3257,\n",
       " 'BillableTimeInSeconds': 3257,\n",
       " 'ResponseMetadata': {'RequestId': '8e2f8579-3a24-47ef-95d9-f95e3a373343',\n",
       "  'HTTPStatusCode': 200,\n",
       "  'HTTPHeaders': {'x-amzn-requestid': '8e2f8579-3a24-47ef-95d9-f95e3a373343',\n",
       "   'content-type': 'application/x-amz-json-1.1',\n",
       "   'content-length': '4632',\n",
       "   'date': 'Thu, 21 May 2020 14:38:45 GMT'},\n",
       "  'RetryAttempts': 0}}"
      ]
     },
     "execution_count": 4,
     "metadata": {},
     "output_type": "execute_result"
    }
   ],
   "source": [
    "resp = sm.describe_training_job(TrainingJobName=job_name)\n",
    "resp"
   ]
  },
  {
   "cell_type": "code",
   "execution_count": 5,
   "metadata": {},
   "outputs": [
    {
     "name": "stdout",
     "output_type": "stream",
     "text": [
      " image:433757028032.dkr.ecr.us-west-2.amazonaws.com/object-detection:latest\n",
      " role:arn:aws:iam::476271697919:role/service-role/AmazonSageMaker-ExecutionRole-20200427T094649\n",
      " model:s3://beyoung-sagemaker/coco-object-detection-20200427/output/object-detection-2020-04-27-02-50-13-765/output/model.tar.gz\n"
     ]
    }
   ],
   "source": [
    "# create sagemaker model\n",
    "image = resp['AlgorithmSpecification']['TrainingImage']\n",
    "role = resp['RoleArn']\n",
    "modelDataUrl = resp['ModelArtifacts']['S3ModelArtifacts']\n",
    "job_arn = resp['TrainingJobArn']\n",
    "\n",
    "print(' image:{}\\n role:{}\\n model:{}'.format(image, role, modelDataUrl))"
   ]
  },
  {
   "cell_type": "code",
   "execution_count": 6,
   "metadata": {},
   "outputs": [
    {
     "data": {
      "text/plain": [
       "'object-detection-2020-05-05-14-38'"
      ]
     },
     "execution_count": 6,
     "metadata": {},
     "output_type": "execute_result"
    }
   ],
   "source": [
    "model_name = datetime.now().strftime(\"object-detection-%Y-%m-%m-%H-%M\")\n",
    "model_name"
   ]
  },
  {
   "cell_type": "code",
   "execution_count": 8,
   "metadata": {},
   "outputs": [
    {
     "name": "stdout",
     "output_type": "stream",
     "text": [
      "arn:aws:sagemaker:us-west-2:476271697919:model/object-detection-2020-05-05-14-38\n"
     ]
    }
   ],
   "source": [
    "create_model_response = sm.create_model(\n",
    "    ModelName=model_name,\n",
    "    ExecutionRoleArn=role,\n",
    "    PrimaryContainer={\n",
    "        'Image': image,\n",
    "        'ModelDataUrl': modelDataUrl},\n",
    "    Tags=[{\"Key\": \"job_arn\",\"Value\": job_arn}])\n",
    "\n",
    "print(create_model_response['ModelArn'])"
   ]
  },
  {
   "cell_type": "code",
   "execution_count": null,
   "metadata": {},
   "outputs": [],
   "source": []
  }
 ],
 "metadata": {
  "kernelspec": {
   "display_name": "conda_python3",
   "language": "python",
   "name": "conda_python3"
  },
  "language_info": {
   "codemirror_mode": {
    "name": "ipython",
    "version": 3
   },
   "file_extension": ".py",
   "mimetype": "text/x-python",
   "name": "python",
   "nbconvert_exporter": "python",
   "pygments_lexer": "ipython3",
   "version": "3.6.10"
  }
 },
 "nbformat": 4,
 "nbformat_minor": 4
}
