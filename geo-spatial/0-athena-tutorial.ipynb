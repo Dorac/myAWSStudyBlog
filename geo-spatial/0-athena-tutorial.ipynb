{
 "cells": [
  {
   "cell_type": "code",
   "execution_count": 1,
   "metadata": {},
   "outputs": [],
   "source": [
    "# https://docs.aws.amazon.com/athena/latest/ug/geospatial-example-queries.html\n",
    "import boto3\n",
    "\n",
    "region = boto3.session.Session().region_name\n",
    "bucket='beyoung-geospatial-20200831'"
   ]
  },
  {
   "cell_type": "code",
   "execution_count": null,
   "metadata": {},
   "outputs": [],
   "source": [
    "# create s3 bucket\n",
    "\n",
    "if region != 'us-east-1':\n",
    "    !aws s3api create-bucket --bucket {bucket} --create-bucket-configuration LocationConstraint={region}\n",
    "else:\n",
    "    !aws s3api create-bucket --bucket {bucket}"
   ]
  },
  {
   "cell_type": "code",
   "execution_count": null,
   "metadata": {},
   "outputs": [],
   "source": [
    "## Prepare the raw data\n",
    "\n",
    "earthquakes_csv='https://raw.githubusercontent.com/Esri/gis-tools-for-hadoop/master/samples/data/earthquake-data/earthquakes.csv'\n",
    "california_counties_json='https://raw.githubusercontent.com/Esri/gis-tools-for-hadoop/master/samples/data/counties-data/california-counties.json'"
   ]
  },
  {
   "cell_type": "code",
   "execution_count": null,
   "metadata": {},
   "outputs": [],
   "source": [
    "!wget {earthquakes_csv}\n",
    "!wget {california_counties_json}"
   ]
  },
  {
   "cell_type": "code",
   "execution_count": 21,
   "metadata": {},
   "outputs": [],
   "source": [
    "s3_earthquakes = f's3://{bucket}/csv/earthquakes.csv'\n",
    "s3_california = f's3://{bucket}/json/california-counties.json'"
   ]
  },
  {
   "cell_type": "code",
   "execution_count": 42,
   "metadata": {},
   "outputs": [
    {
     "data": {
      "text/plain": [
       "'s3://beyoung-geospatial-20200831/csv/earthquakes.csv'"
      ]
     },
     "execution_count": 42,
     "metadata": {},
     "output_type": "execute_result"
    }
   ],
   "source": [
    "s3_earthquakes"
   ]
  },
  {
   "cell_type": "code",
   "execution_count": 43,
   "metadata": {},
   "outputs": [
    {
     "data": {
      "text/plain": [
       "'s3://beyoung-geospatial-20200831/json/california-counties.json'"
      ]
     },
     "execution_count": 43,
     "metadata": {},
     "output_type": "execute_result"
    }
   ],
   "source": [
    "s3_california"
   ]
  },
  {
   "cell_type": "code",
   "execution_count": null,
   "metadata": {},
   "outputs": [],
   "source": [
    "!aws s3 cp earthquakes.csv {s3_earthquakes}\n",
    "!aws s3 cp california-counties.json {s3_california}"
   ]
  },
  {
   "cell_type": "markdown",
   "metadata": {},
   "source": [
    "## Execution on Athena"
   ]
  },
  {
   "cell_type": "code",
   "execution_count": 47,
   "metadata": {},
   "outputs": [],
   "source": [
    "s3_athena=f's3://{bucket}/athena'\n",
    "s3_earthquakes_loc=f's3://{bucket}/csv/'\n",
    "s3_california_loc=f's3://{bucket}/json/'\n",
    "db_name='geospatial_20200831'\n",
    "\n",
    "client = boto3.client('athena')\n",
    "config = {'OutputLocation': s3_athena}"
   ]
  },
  {
   "cell_type": "code",
   "execution_count": 48,
   "metadata": {},
   "outputs": [
    {
     "data": {
      "text/plain": [
       "'CREATE DATABASE IF NOT EXISTS geospatial_20200831'"
      ]
     },
     "execution_count": 48,
     "metadata": {},
     "output_type": "execute_result"
    }
   ],
   "source": [
    "qs=f'CREATE DATABASE IF NOT EXISTS {db_name}'\n",
    "qs"
   ]
  },
  {
   "cell_type": "code",
   "execution_count": 49,
   "metadata": {},
   "outputs": [
    {
     "data": {
      "text/plain": [
       "'5b9685b5-3bc7-4219-8ad7-4c09635b82c8'"
      ]
     },
     "execution_count": 49,
     "metadata": {},
     "output_type": "execute_result"
    }
   ],
   "source": [
    "response = client.start_query_execution(QueryString = qs, \n",
    "                                        ResultConfiguration = config)\n",
    "response['QueryExecutionId']"
   ]
  },
  {
   "cell_type": "code",
   "execution_count": 50,
   "metadata": {},
   "outputs": [],
   "source": [
    "context = {'Database': db_name}"
   ]
  },
  {
   "cell_type": "code",
   "execution_count": 51,
   "metadata": {},
   "outputs": [
    {
     "name": "stdout",
     "output_type": "stream",
     "text": [
      "\n",
      "CREATE EXTERNAL TABLE IF NOT EXISTS earthquakes\n",
      "(\n",
      " earthquake_date string,\n",
      " latitude double,\n",
      " longitude double,\n",
      " depth double,\n",
      " magnitude double,\n",
      " magtype string,\n",
      " mbstations string,\n",
      " gap string,\n",
      " distance string,\n",
      " rms string,\n",
      " source string,\n",
      " eventid string\n",
      ")\n",
      "ROW FORMAT DELIMITED FIELDS TERMINATED BY ','\n",
      "STORED AS TEXTFILE LOCATION 's3://beyoung-geospatial-20200831/csv/';\n",
      "\n"
     ]
    }
   ],
   "source": [
    "qs = f'''\n",
    "CREATE EXTERNAL TABLE IF NOT EXISTS earthquakes\n",
    "(\n",
    " earthquake_date string,\n",
    " latitude double,\n",
    " longitude double,\n",
    " depth double,\n",
    " magnitude double,\n",
    " magtype string,\n",
    " mbstations string,\n",
    " gap string,\n",
    " distance string,\n",
    " rms string,\n",
    " source string,\n",
    " eventid string\n",
    ")\n",
    "ROW FORMAT DELIMITED FIELDS TERMINATED BY ','\n",
    "STORED AS TEXTFILE LOCATION '{s3_earthquakes_loc}';\n",
    "'''\n",
    "print(qs)"
   ]
  },
  {
   "cell_type": "code",
   "execution_count": 52,
   "metadata": {},
   "outputs": [
    {
     "data": {
      "text/plain": [
       "'7c2c7691-7c59-406e-8c3f-9bc0f001a27d'"
      ]
     },
     "execution_count": 52,
     "metadata": {},
     "output_type": "execute_result"
    }
   ],
   "source": [
    "response = client.start_query_execution(QueryString = qs,\n",
    "                                        QueryExecutionContext = context,\n",
    "                                        ResultConfiguration = config)\n",
    "QueryExecutionId = response['QueryExecutionId']\n",
    "QueryExecutionId"
   ]
  },
  {
   "cell_type": "code",
   "execution_count": 53,
   "metadata": {},
   "outputs": [
    {
     "name": "stdout",
     "output_type": "stream",
     "text": [
      "\n",
      "CREATE external TABLE IF NOT EXISTS counties\n",
      "(\n",
      "  Name string,\n",
      "  BoundaryShape binary\n",
      ")\n",
      "ROW FORMAT SERDE 'com.esri.hadoop.hive.serde.JsonSerde'\n",
      "STORED AS INPUTFORMAT 'com.esri.json.hadoop.EnclosedJsonInputFormat'\n",
      "OUTPUTFORMAT 'org.apache.hadoop.hive.ql.io.HiveIgnoreKeyTextOutputFormat'\n",
      "LOCATION 's3://beyoung-geospatial-20200831/json/';\n",
      "\n"
     ]
    }
   ],
   "source": [
    "## create table for countries\n",
    "qs=f'''\n",
    "CREATE external TABLE IF NOT EXISTS counties\n",
    "(\n",
    "  Name string,\n",
    "  BoundaryShape binary\n",
    ")\n",
    "ROW FORMAT SERDE 'com.esri.hadoop.hive.serde.JsonSerde'\n",
    "STORED AS INPUTFORMAT 'com.esri.json.hadoop.EnclosedJsonInputFormat'\n",
    "OUTPUTFORMAT 'org.apache.hadoop.hive.ql.io.HiveIgnoreKeyTextOutputFormat'\n",
    "LOCATION '{s3_california_loc}';\n",
    "'''\n",
    "print(qs)"
   ]
  },
  {
   "cell_type": "code",
   "execution_count": 54,
   "metadata": {},
   "outputs": [
    {
     "data": {
      "text/plain": [
       "'63afd490-5fb9-475d-b9d4-464e8a9a937f'"
      ]
     },
     "execution_count": 54,
     "metadata": {},
     "output_type": "execute_result"
    }
   ],
   "source": [
    "response = client.start_query_execution(QueryString = qs,\n",
    "                                        QueryExecutionContext = context,\n",
    "                                        ResultConfiguration = config)\n",
    "QueryExecutionId = response['QueryExecutionId']\n",
    "QueryExecutionId"
   ]
  },
  {
   "cell_type": "code",
   "execution_count": 55,
   "metadata": {},
   "outputs": [
    {
     "data": {
      "text/plain": [
       "{'QueryExecution': {'QueryExecutionId': '63afd490-5fb9-475d-b9d4-464e8a9a937f',\n",
       "  'Query': \"CREATE external TABLE IF NOT EXISTS counties\\n(\\n  Name string,\\n  BoundaryShape binary\\n)\\nROW FORMAT SERDE 'com.esri.hadoop.hive.serde.JsonSerde'\\nSTORED AS INPUTFORMAT 'com.esri.json.hadoop.EnclosedJsonInputFormat'\\nOUTPUTFORMAT 'org.apache.hadoop.hive.ql.io.HiveIgnoreKeyTextOutputFormat'\\nLOCATION 's3://beyoung-geospatial-20200831/json/'\",\n",
       "  'StatementType': 'DDL',\n",
       "  'ResultConfiguration': {'OutputLocation': 's3://beyoung-geospatial-20200831/athena/63afd490-5fb9-475d-b9d4-464e8a9a937f.txt'},\n",
       "  'QueryExecutionContext': {'Database': 'geospatial_20200831'},\n",
       "  'Status': {'State': 'SUCCEEDED',\n",
       "   'SubmissionDateTime': datetime.datetime(2020, 8, 31, 9, 28, 59, 617000, tzinfo=tzlocal()),\n",
       "   'CompletionDateTime': datetime.datetime(2020, 8, 31, 9, 29, 1, 342000, tzinfo=tzlocal())},\n",
       "  'Statistics': {'EngineExecutionTimeInMillis': 1190,\n",
       "   'DataScannedInBytes': 0,\n",
       "   'TotalExecutionTimeInMillis': 1725,\n",
       "   'QueryQueueTimeInMillis': 509,\n",
       "   'ServiceProcessingTimeInMillis': 26},\n",
       "  'WorkGroup': 'primary'},\n",
       " 'ResponseMetadata': {'RequestId': 'd6812118-6cfe-47f4-8fb5-e62d520b856e',\n",
       "  'HTTPStatusCode': 200,\n",
       "  'HTTPHeaders': {'content-type': 'application/x-amz-json-1.1',\n",
       "   'date': 'Mon, 31 Aug 2020 09:29:04 GMT',\n",
       "   'x-amzn-requestid': 'd6812118-6cfe-47f4-8fb5-e62d520b856e',\n",
       "   'content-length': '1915',\n",
       "   'connection': 'keep-alive'},\n",
       "  'RetryAttempts': 0}}"
      ]
     },
     "execution_count": 55,
     "metadata": {},
     "output_type": "execute_result"
    }
   ],
   "source": [
    "response=client.get_query_execution(QueryExecutionId=QueryExecutionId)\n",
    "response"
   ]
  },
  {
   "cell_type": "markdown",
   "metadata": {},
   "source": [
    "# Query"
   ]
  },
  {
   "cell_type": "code",
   "execution_count": 56,
   "metadata": {},
   "outputs": [],
   "source": [
    "qs = f'''\n",
    "SELECT counties.name,\n",
    "        COUNT(*) cnt\n",
    "FROM counties\n",
    "CROSS JOIN earthquakes\n",
    "WHERE ST_CONTAINS (counties.boundaryshape, ST_POINT(earthquakes.longitude, earthquakes.latitude))\n",
    "GROUP BY  counties.name\n",
    "ORDER BY  cnt DESC\n",
    "'''"
   ]
  },
  {
   "cell_type": "code",
   "execution_count": 57,
   "metadata": {},
   "outputs": [
    {
     "data": {
      "text/plain": [
       "'c2d95b5c-75bd-4471-9ee2-785f678202fc'"
      ]
     },
     "execution_count": 57,
     "metadata": {},
     "output_type": "execute_result"
    }
   ],
   "source": [
    "response = client.start_query_execution(QueryString = qs,\n",
    "                                        QueryExecutionContext = context,\n",
    "                                        ResultConfiguration = config)\n",
    "QueryExecutionId = response['QueryExecutionId']\n",
    "QueryExecutionId"
   ]
  },
  {
   "cell_type": "code",
   "execution_count": 64,
   "metadata": {},
   "outputs": [
    {
     "data": {
      "text/plain": [
       "{'QueryExecution': {'QueryExecutionId': 'c2d95b5c-75bd-4471-9ee2-785f678202fc',\n",
       "  'Query': 'SELECT counties.name,\\n        COUNT(*) cnt\\nFROM counties\\nCROSS JOIN earthquakes\\nWHERE ST_CONTAINS (counties.boundaryshape, ST_POINT(earthquakes.longitude, earthquakes.latitude))\\nGROUP BY  counties.name\\nORDER BY  cnt DESC',\n",
       "  'StatementType': 'DML',\n",
       "  'ResultConfiguration': {'OutputLocation': 's3://beyoung-geospatial-20200831/athena/c2d95b5c-75bd-4471-9ee2-785f678202fc.csv'},\n",
       "  'QueryExecutionContext': {'Database': 'geospatial_20200831'},\n",
       "  'Status': {'State': 'SUCCEEDED',\n",
       "   'SubmissionDateTime': datetime.datetime(2020, 8, 31, 9, 38, 54, 370000, tzinfo=tzlocal()),\n",
       "   'CompletionDateTime': datetime.datetime(2020, 8, 31, 9, 39, 27, 307000, tzinfo=tzlocal())},\n",
       "  'Statistics': {'EngineExecutionTimeInMillis': 32795,\n",
       "   'DataScannedInBytes': 6994001,\n",
       "   'TotalExecutionTimeInMillis': 32937,\n",
       "   'QueryQueueTimeInMillis': 108,\n",
       "   'QueryPlanningTimeInMillis': 405,\n",
       "   'ServiceProcessingTimeInMillis': 34},\n",
       "  'WorkGroup': 'primary'},\n",
       " 'ResponseMetadata': {'RequestId': '544cd6a7-91bd-4ab1-9ecc-b6874f3919f7',\n",
       "  'HTTPStatusCode': 200,\n",
       "  'HTTPHeaders': {'content-type': 'application/x-amz-json-1.1',\n",
       "   'date': 'Mon, 31 Aug 2020 09:40:24 GMT',\n",
       "   'x-amzn-requestid': '544cd6a7-91bd-4ab1-9ecc-b6874f3919f7',\n",
       "   'content-length': '1742',\n",
       "   'connection': 'keep-alive'},\n",
       "  'RetryAttempts': 0}}"
      ]
     },
     "execution_count": 64,
     "metadata": {},
     "output_type": "execute_result"
    }
   ],
   "source": [
    "response = client.get_query_execution(QueryExecutionId=QueryExecutionId)\n",
    "response"
   ]
  },
  {
   "cell_type": "code",
   "execution_count": 65,
   "metadata": {},
   "outputs": [
    {
     "data": {
      "text/plain": [
       "<botocore.paginate.PageIterator at 0x7f290f1f1fd0>"
      ]
     },
     "execution_count": 65,
     "metadata": {},
     "output_type": "execute_result"
    }
   ],
   "source": [
    "results_paginator = client.get_paginator('get_query_results')\n",
    "results_iter = results_paginator.paginate(\n",
    "    QueryExecutionId=QueryExecutionId,\n",
    "    PaginationConfig={\n",
    "        'PageSize': 1000\n",
    "    }\n",
    ")\n",
    "results_iter"
   ]
  },
  {
   "cell_type": "code",
   "execution_count": 66,
   "metadata": {},
   "outputs": [
    {
     "data": {
      "text/plain": [
       "[[{'VarCharValue': 'name'}, {'VarCharValue': 'cnt'}],\n",
       " [{'VarCharValue': 'Kern'}, {'VarCharValue': '36'}],\n",
       " [{'VarCharValue': 'San Bernardino'}, {'VarCharValue': '35'}],\n",
       " [{'VarCharValue': 'Imperial'}, {'VarCharValue': '28'}],\n",
       " [{'VarCharValue': 'Inyo'}, {'VarCharValue': '20'}],\n",
       " [{'VarCharValue': 'Los Angeles'}, {'VarCharValue': '18'}],\n",
       " [{'VarCharValue': 'Monterey'}, {'VarCharValue': '14'}],\n",
       " [{'VarCharValue': 'Riverside'}, {'VarCharValue': '14'}],\n",
       " [{'VarCharValue': 'Santa Clara'}, {'VarCharValue': '12'}],\n",
       " [{'VarCharValue': 'San Benito'}, {'VarCharValue': '11'}],\n",
       " [{'VarCharValue': 'Fresno'}, {'VarCharValue': '11'}],\n",
       " [{'VarCharValue': 'San Diego'}, {'VarCharValue': '7'}],\n",
       " [{'VarCharValue': 'Santa Cruz'}, {'VarCharValue': '5'}],\n",
       " [{'VarCharValue': 'San Luis Obispo'}, {'VarCharValue': '3'}],\n",
       " [{'VarCharValue': 'Ventura'}, {'VarCharValue': '3'}],\n",
       " [{'VarCharValue': 'Orange'}, {'VarCharValue': '2'}],\n",
       " [{'VarCharValue': 'San Mateo'}, {'VarCharValue': '1'}]]"
      ]
     },
     "execution_count": 66,
     "metadata": {},
     "output_type": "execute_result"
    }
   ],
   "source": [
    "data_list = []\n",
    "for results_page in results_iter:\n",
    "    for row in results_page['ResultSet']['Rows']:\n",
    "        data_list.append(row['Data'])\n",
    "data_list"
   ]
  },
  {
   "cell_type": "code",
   "execution_count": 67,
   "metadata": {},
   "outputs": [
    {
     "data": {
      "text/plain": [
       "[['Kern', '36'],\n",
       " ['San Bernardino', '35'],\n",
       " ['Imperial', '28'],\n",
       " ['Inyo', '20'],\n",
       " ['Los Angeles', '18'],\n",
       " ['Monterey', '14'],\n",
       " ['Riverside', '14'],\n",
       " ['Santa Clara', '12'],\n",
       " ['San Benito', '11'],\n",
       " ['Fresno', '11'],\n",
       " ['San Diego', '7'],\n",
       " ['Santa Cruz', '5'],\n",
       " ['San Luis Obispo', '3'],\n",
       " ['Ventura', '3'],\n",
       " ['Orange', '2'],\n",
       " ['San Mateo', '1']]"
      ]
     },
     "execution_count": 67,
     "metadata": {},
     "output_type": "execute_result"
    }
   ],
   "source": [
    "results = []\n",
    "for datum in data_list[1:]:\n",
    "    results.append([x['VarCharValue'] for x in datum])\n",
    "results"
   ]
  },
  {
   "cell_type": "code",
   "execution_count": 68,
   "metadata": {},
   "outputs": [
    {
     "data": {
      "text/plain": [
       "[('Kern', '36'),\n",
       " ('San Bernardino', '35'),\n",
       " ('Imperial', '28'),\n",
       " ('Inyo', '20'),\n",
       " ('Los Angeles', '18'),\n",
       " ('Monterey', '14'),\n",
       " ('Riverside', '14'),\n",
       " ('Santa Clara', '12'),\n",
       " ('San Benito', '11'),\n",
       " ('Fresno', '11'),\n",
       " ('San Diego', '7'),\n",
       " ('Santa Cruz', '5'),\n",
       " ('San Luis Obispo', '3'),\n",
       " ('Ventura', '3'),\n",
       " ('Orange', '2'),\n",
       " ('San Mateo', '1')]"
      ]
     },
     "execution_count": 68,
     "metadata": {},
     "output_type": "execute_result"
    }
   ],
   "source": [
    "[tuple(x) for x in results]"
   ]
  },
  {
   "cell_type": "code",
   "execution_count": 69,
   "metadata": {},
   "outputs": [],
   "source": [
    "import time\n",
    "def fetchall_athena(query_id, client):\n",
    "    query_status = None\n",
    "    while query_status == 'QUEUED' or query_status == 'RUNNING' or query_status is None:\n",
    "        query_status = client.get_query_execution(QueryExecutionId=query_id)['QueryExecution']['Status']['State']\n",
    "        if query_status == 'FAILED' or query_status == 'CANCELLED':\n",
    "            raise Exception('Athena query with the string \"{}\" failed or was cancelled'.format(query_string))\n",
    "        time.sleep(3)\n",
    "    results_paginator = client.get_paginator('get_query_results')\n",
    "    results_iter = results_paginator.paginate(\n",
    "        QueryExecutionId=query_id,\n",
    "        PaginationConfig={\n",
    "            'PageSize': 1000\n",
    "        }\n",
    "    )\n",
    "    results = []\n",
    "    data_list = []\n",
    "    for results_page in results_iter:\n",
    "        for row in results_page['ResultSet']['Rows']:\n",
    "            data_list.append(row['Data'])\n",
    "    for datum in data_list[1:]:\n",
    "        results.append([x['VarCharValue'] for x in datum])\n",
    "    return [tuple(x) for x in results]"
   ]
  },
  {
   "cell_type": "code",
   "execution_count": 70,
   "metadata": {},
   "outputs": [
    {
     "data": {
      "text/plain": [
       "[('Kern', '36'),\n",
       " ('San Bernardino', '35'),\n",
       " ('Imperial', '28'),\n",
       " ('Inyo', '20'),\n",
       " ('Los Angeles', '18'),\n",
       " ('Monterey', '14'),\n",
       " ('Riverside', '14'),\n",
       " ('Santa Clara', '12'),\n",
       " ('San Benito', '11'),\n",
       " ('Fresno', '11'),\n",
       " ('San Diego', '7'),\n",
       " ('Santa Cruz', '5'),\n",
       " ('San Luis Obispo', '3'),\n",
       " ('Ventura', '3'),\n",
       " ('Orange', '2'),\n",
       " ('San Mateo', '1')]"
      ]
     },
     "execution_count": 70,
     "metadata": {},
     "output_type": "execute_result"
    }
   ],
   "source": [
    "results = fetchall_athena(QueryExecutionId, client)\n",
    "results"
   ]
  },
  {
   "cell_type": "markdown",
   "metadata": {},
   "source": [
    "## Clean up"
   ]
  },
  {
   "cell_type": "code",
   "execution_count": 44,
   "metadata": {},
   "outputs": [
    {
     "data": {
      "text/plain": [
       "'8a88edce-71d4-4d78-ae57-6ee1de18037f'"
      ]
     },
     "execution_count": 44,
     "metadata": {},
     "output_type": "execute_result"
    }
   ],
   "source": [
    "# Delete Table\n",
    "\n",
    "qs='DROP TABLE IF EXISTS earthquakes'\n",
    "response = client.start_query_execution(QueryString = qs,\n",
    "                                        QueryExecutionContext = context,\n",
    "                                        ResultConfiguration = config)\n",
    "QueryExecutionId = response['QueryExecutionId']\n",
    "QueryExecutionId"
   ]
  },
  {
   "cell_type": "code",
   "execution_count": 45,
   "metadata": {},
   "outputs": [
    {
     "data": {
      "text/plain": [
       "'e38dc05e-1e18-43e3-87b7-fe76f4f6476e'"
      ]
     },
     "execution_count": 45,
     "metadata": {},
     "output_type": "execute_result"
    }
   ],
   "source": [
    "qs='DROP TABLE IF EXISTS counties'\n",
    "response = client.start_query_execution(QueryString = qs,\n",
    "                                        QueryExecutionContext = context,\n",
    "                                        ResultConfiguration = config)\n",
    "QueryExecutionId = response['QueryExecutionId']\n",
    "QueryExecutionId"
   ]
  },
  {
   "cell_type": "code",
   "execution_count": null,
   "metadata": {},
   "outputs": [],
   "source": []
  }
 ],
 "metadata": {
  "kernelspec": {
   "display_name": "conda_python3",
   "language": "python",
   "name": "conda_python3"
  },
  "language_info": {
   "codemirror_mode": {
    "name": "ipython",
    "version": 3
   },
   "file_extension": ".py",
   "mimetype": "text/x-python",
   "name": "python",
   "nbconvert_exporter": "python",
   "pygments_lexer": "ipython3",
   "version": "3.6.10"
  }
 },
 "nbformat": 4,
 "nbformat_minor": 4
}
