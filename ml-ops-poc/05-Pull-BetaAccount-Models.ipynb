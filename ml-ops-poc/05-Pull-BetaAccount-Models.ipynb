{
 "cells": [
  {
   "cell_type": "markdown",
   "metadata": {},
   "source": [
    "# Pull Beta Account Models\n",
    "\n",
    "You can select training jobs in beta, which are meeted the business needs, to pull machine learning models into devops account. These models are saved in SageMaker model repository."
   ]
  },
  {
   "cell_type": "markdown",
   "metadata": {},
   "source": [
    "## Dev accounts\n",
    "\n",
    "Login AWS console:\n",
    "* aws login account: mlops-dev\n",
    "* user: mlops-dev-developers\n",
    "\n",
    "Open the cloud9 - my-mlops-works\n"
   ]
  },
  {
   "cell_type": "markdown",
   "metadata": {},
   "source": [
    "# Pull model from beta\n",
    "\n",
    "* mkdir pull-training-model\n",
    "* aws --profile mlops-devops-developers codecommit create-repository --repository-name pull-training-model\n",
    "* cd pull-training-model\n",
    "* git init\n",
    "* git remote add origin https://git-codecommit.us-west-2.amazonaws.com/v1/repos/pull-training-model\n",
    "* git remote -v\n",
    "* touch pull-training-model.py\n",
    "\n",
    "The following is pull-training-model codes and commit the code into codecommit"
   ]
  },
  {
   "cell_type": "markdown",
   "metadata": {},
   "source": [
    "### pull-training-model.py"
   ]
  },
  {
   "cell_type": "code",
   "execution_count": null,
   "metadata": {},
   "outputs": [],
   "source": [
    "import boto3, sys\n",
    "from urllib.parse import urlparse\n",
    "\n",
    "# model name use the job name\n",
    "beta_access_key = sys.argv[1]\n",
    "beta_secrete_key = sys.argv[2]\n",
    "devops_md_bucket = sys.argv[3]\n",
    "job_name = sys.argv[4]\n",
    "\n",
    "# beta sagemaker\n",
    "ss_beta = boto3.Session(aws_access_key_id=beta_access_key, aws_secret_access_key=beta_secrete_key)\n",
    "sm_beta = ss_beta.client('sagemaker')\n",
    "s3_beta = ss_beta.client('s3')\n",
    "resp = sm_beta.describe_training_job(TrainingJobName=job_name)\n",
    "\n",
    "# devops sagemaker\n",
    "sm = boto3.client('sagemaker')\n",
    "s3 = boto3.client('s3')\n",
    "account_devops = boto3.client('sts').get_caller_identity()['Account']\n",
    "\n",
    "# copy model to devops s3\n",
    "md_url_beta = resp['ModelArtifacts']['S3ModelArtifacts']\n",
    "output = urlparse(md_url_beta)\n",
    "beta_md_bucket = output.netloc\n",
    "beta_md_key = output.path.lstrip('/')\n",
    "source_response = s3_beta.get_object(Bucket=beta_md_bucket, Key=beta_md_key)\n",
    "s3.upload_fileobj(source_response['Body'],devops_md_bucket,beta_md_key)\n",
    "\n",
    "# create sagemaker model\n",
    "image = resp['AlgorithmSpecification']['TrainingImage']\n",
    "role = 'arn:aws:iam::{}:role/SageMakerExecutionRole'.format(account_devops)\n",
    "modelDataUrl = 's3://{}/{}'.format(devops_md_bucket,beta_md_key)\n",
    "job_arn = resp['TrainingJobArn']\n",
    "\n",
    "create_model_response = sm.create_model(\n",
    "    ModelName=job_name,\n",
    "    ExecutionRoleArn=role,\n",
    "    PrimaryContainer={\n",
    "        'Image': image,\n",
    "        'ModelDataUrl': modelDataUrl},\n",
    "    Tags=[{\"Key\": \"job_arn\",\"Value\": job_arn}])\n",
    "\n",
    "print(create_model_response['ModelArn'])"
   ]
  },
  {
   "cell_type": "markdown",
   "metadata": {},
   "source": [
    "# DevOps account\n",
    "\n",
    "Login\n",
    "* Account: mlops-devops\n",
    "* IAM User: mlops-devops-admin\n",
    "* Group: devops-admin"
   ]
  },
  {
   "cell_type": "markdown",
   "metadata": {},
   "source": [
    "# Create S3 Bucket\n",
    "\n",
    "* Bucket name: `devops-sagemaker-repo-us-west-2`"
   ]
  },
  {
   "cell_type": "markdown",
   "metadata": {},
   "source": [
    "# Create SageMakerExecutionRole\n",
    "\n",
    "* IAM\n",
    "* RoleName: SageMakerExecutionRole\n",
    "* Services: SageMaker\n",
    "* Policy: SageMakerFullAccess"
   ]
  },
  {
   "cell_type": "markdown",
   "metadata": {},
   "source": [
    "## Create CodeBuild Project\n",
    "* Project Name: `devops-pull-model`\n",
    "* Description: `Pull model into devops account.`\n",
    "* source: pull-training-model\n",
    "* image: amazonlinux2\n",
    "* new service role: `codebuild-devops-pull-model-service-role`\n",
    "\n",
    "## buildspec.yml"
   ]
  },
  {
   "cell_type": "code",
   "execution_count": null,
   "metadata": {},
   "outputs": [],
   "source": [
    "version: 0.2\n",
    "\n",
    "env:\n",
    "  variables:\n",
    "     devops_md_bucket: \"devops model bucket\"\n",
    "     job_name: \"traning job name in beta\"\n",
    "  secrets-manager:\n",
    "     beta_access_key: beta/sagemaker:beta-sagemaker-access\n",
    "     beta_secret_key: beta/sagemaker:beta-sagemaker-secret\n",
    "phases:\n",
    "  install:\n",
    "    runtime-versions:\n",
    "      python: 3.8\n",
    "  build:\n",
    "    commands:\n",
    "      - python pull-training-model.py $beta_access_key $beta_secret_key $devops_md_bucket $job_name"
   ]
  },
  {
   "cell_type": "markdown",
   "metadata": {},
   "source": [
    "## IAM\n",
    "\n",
    "Find the role: `codebuild-devops-pull-model-service-role` and add inline policy `codebuild-pull-model`"
   ]
  },
  {
   "cell_type": "code",
   "execution_count": null,
   "metadata": {},
   "outputs": [],
   "source": [
    "{\n",
    "    \"Version\": \"2012-10-17\",\n",
    "    \"Statement\": [\n",
    "        {\n",
    "            \"Sid\": \"VisualEditor0\",\n",
    "            \"Effect\": \"Allow\",\n",
    "            \"Action\": [\n",
    "                \"s3:PutObject\",\n",
    "                \"sagemaker:CreateModel\",\n",
    "                \"iam:PassRole\",\n",
    "                \"secretsmanager:GetSecretValue\"\n",
    "            ],\n",
    "            \"Resource\": [\n",
    "                \"arn:aws:secretsmanager:*:*:secret:beta/sagemaker-*\",\n",
    "                \"arn:aws:sagemaker:*:*:model/*\",\n",
    "                \"arn:aws:iam::*:role/SageMakerExecutionRole\",\n",
    "                \"arn:aws:s3:::devops-sagemaker-repo*/*\"\n",
    "            ]\n",
    "        }\n",
    "    ]\n",
    "}"
   ]
  },
  {
   "cell_type": "markdown",
   "metadata": {},
   "source": [
    "## Start build\n",
    "\n",
    "## Evnironment variables override\n",
    "\n",
    "* key: job_name,  value: <check previous codebuild project output>\n",
    "* key: devops_md_bucket, value: `devops-sagemaker-repo-us-west-2`\n",
    "\n",
    "![](./img/14.png)"
   ]
  },
  {
   "cell_type": "code",
   "execution_count": null,
   "metadata": {},
   "outputs": [],
   "source": [
    "[Container] 2020/01/07 05:29:00 Entering phase INSTALL \n",
    "[Container] 2020/01/07 05:29:00 Phase complete: INSTALL State: SUCCEEDED \n",
    "[Container] 2020/01/07 05:29:00 Phase context status code:  Message:  \n",
    "[Container] 2020/01/07 05:29:00 Entering phase PRE_BUILD \n",
    "[Container] 2020/01/07 05:29:00 Phase complete: PRE_BUILD State: SUCCEEDED \n",
    "[Container] 2020/01/07 05:29:00 Phase context status code:  Message:  \n",
    "[Container] 2020/01/07 05:29:01 Entering phase BUILD \n",
    "[Container] 2020/01/07 05:29:01 Running command python pull-training-model.py $beta_access_key $beta_secret_key $mlops_account_id $job_name \n",
    "arn:aws:sagemaker:us-west-2:***:model/scikit-bring-your-own-2020-01-06-12-47-23 "
   ]
  },
  {
   "cell_type": "markdown",
   "metadata": {},
   "source": [
    "# Congradulations\n",
    "\n",
    "You finished the following redbox part in the architecture diagram:\n",
    "\n",
    "![](./img/15.png)"
   ]
  },
  {
   "cell_type": "code",
   "execution_count": null,
   "metadata": {},
   "outputs": [],
   "source": []
  }
 ],
 "metadata": {
  "kernelspec": {
   "display_name": "Python 3",
   "language": "python",
   "name": "python3"
  },
  "language_info": {
   "codemirror_mode": {
    "name": "ipython",
    "version": 3
   },
   "file_extension": ".py",
   "mimetype": "text/x-python",
   "name": "python",
   "nbconvert_exporter": "python",
   "pygments_lexer": "ipython3",
   "version": "3.7.3"
  }
 },
 "nbformat": 4,
 "nbformat_minor": 2
}
