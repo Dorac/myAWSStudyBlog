{
 "cells": [
  {
   "cell_type": "markdown",
   "metadata": {},
   "source": [
    "# Export Beta Job Name"
   ]
  },
  {
   "cell_type": "markdown",
   "metadata": {},
   "source": [
    "## DevOps Account\n",
    "\n",
    "* acc: mlops-devops\n",
    "* IAM: mlops-devops-admin\n",
    "\n"
   ]
  },
  {
   "cell_type": "markdown",
   "metadata": {},
   "source": [
    "## Modify CodeBuild Project\n",
    "\n",
    "* codebuild: beta-training-scikit-bring-your-own\n",
    "* change the buildspec.yml\n",
    "\n",
    "## Add Default Environment Variable\n",
    "\n",
    "* key: beta_data_location\n",
    "* value: s3://beta-sagemaker-repo-us-west-2/iris/input/iris.csv\n",
    "\n",
    "## buildsepc.yml"
   ]
  },
  {
   "cell_type": "code",
   "execution_count": null,
   "metadata": {},
   "outputs": [],
   "source": [
    "version: 0.2\n",
    "\n",
    "env:\n",
    "  variables:\n",
    "     beta_data_location: \"beta account data location\"\n",
    "  secrets-manager:\n",
    "     beta_access_key: beta/sagemaker:beta-sagemaker-access\n",
    "     beta_secret_key: beta/sagemaker:beta-sagemaker-secret\n",
    "  exported-variables:\n",
    "     - job_name\n",
    "\n",
    "phases:\n",
    "  install:\n",
    "    runtime-versions:\n",
    "      python: 3.8\n",
    "  build:\n",
    "    commands:\n",
    "      - pip install sagemaker\n",
    "      - python trigger-beta-training.py $beta_access_key $beta_secret_key $beta_data_location\n",
    "  post_build:\n",
    "    commands:\n",
    "      - job_name=$(cat output.json | jq -r '.job_name')"
   ]
  },
  {
   "cell_type": "markdown",
   "metadata": {},
   "source": [
    "## Developers Account\n",
    "\n",
    "* acc: mlops-dev\n",
    "* IAM: mlops-devops-developers\n",
    "* cloud9: mlops-works"
   ]
  },
  {
   "cell_type": "markdown",
   "metadata": {},
   "source": [
    "# Modify trigger-beta-training\n",
    "\n",
    "* cd trigger-beta-training\n",
    "* git pull\n",
    "* change trigger-beta-training.py\n",
    "* git diff\n",
    "* git add .\n",
    "* git commit -m \"export job_name\"\n",
    "* git push origin master\n",
    "\n",
    "## trigger-beta-training.py"
   ]
  },
  {
   "cell_type": "code",
   "execution_count": null,
   "metadata": {},
   "outputs": [],
   "source": [
    "import time, boto3, sys\n",
    "import sagemaker as sage \n",
    " \n",
    "# Create unique job name \n",
    "job_name_prefix = 'scikit-bring-your-own' \n",
    "timestamp = time.strftime('-%Y-%m-%d-%H-%M-%S', time.gmtime()) \n",
    "job_name = job_name_prefix + timestamp \n",
    " \n",
    "beta_access_key = sys.argv[1]\n",
    "beta_secrete_key = sys.argv[2]\n",
    "beta_data_location = sys.argv[3]\n",
    "\n",
    "#devops\n",
    "region_devops = boto3.Session().region_name\n",
    "account_devops = boto3.client('sts').get_caller_identity()['Account']\n",
    "\n",
    "# beta\n",
    "ss_beta = boto3.Session(aws_access_key_id=beta_access_key, aws_secret_access_key=beta_secrete_key) \n",
    "sm_beta = sage.Session(boto_session=ss_beta) \n",
    "account_beta = ss_beta.client('sts').get_caller_identity()['Account'] \n",
    "\n",
    "image = '{}.dkr.ecr.{}.amazonaws.com/scikit_bring_your_own:latest'.format(account_devops, region_devops) \n",
    "role = 'arn:aws:iam::{}:role/SageMakerExecutionRole'.format(account_beta) \n",
    "data_location = beta_data_location\n",
    "output_location = 's3://beta-sagemaker-repo-us-west-2/iris/output' \n",
    "\n",
    "tree = sage.estimator.Estimator(image, \n",
    "    role, 1, 'ml.c4.2xlarge', \n",
    "    output_path=output_location,\n",
    "    sagemaker_session=sm_beta) \n",
    "tree.fit(inputs=data_location, job_name=job_name, wait=False)\n",
    "\n",
    "with open('output.json', 'w+') as f:\n",
    "    print(f'{{\"job_name\":\"{job_name}\"}}', file=f)"
   ]
  },
  {
   "cell_type": "markdown",
   "metadata": {},
   "source": [
    "## DevOps Account\n",
    "\n",
    "* acc: mlops-devops\n",
    "* IAM: mlops-devops-admin\n",
    "\n",
    "## Check the pipeline\n",
    "\n",
    "![](./img/29.png)"
   ]
  },
  {
   "cell_type": "markdown",
   "metadata": {},
   "source": [
    "## Release successfully\n",
    "\n",
    "check the beta-training-scikit-bring-your-own coebuild job. You can see the job name export\n",
    "\n",
    "![](./img/30.png)\n"
   ]
  },
  {
   "cell_type": "markdown",
   "metadata": {},
   "source": [
    "# Developers Account\n",
    "\n",
    "* acc: mlops-dev\n",
    "* IAM: mlops-devops-developers\n",
    "* cloud9: mlops-works"
   ]
  },
  {
   "cell_type": "markdown",
   "metadata": {},
   "source": [
    "## Modify the Machine Learning Container\n",
    "\n",
    "* cd ~/environment/scikit_bring_your_own/container/local_test\n",
    "* rm test_dir/output/*\n",
    "* git status\n",
    "* git add .\n",
    "* git commit -m \"remove test_dir/output\"\n",
    "* git push origin master"
   ]
  },
  {
   "cell_type": "markdown",
   "metadata": {},
   "source": [
    "## DevOps Account Pipeline release\n",
    "\n",
    "* acc: mlops-devops\n",
    "* IAM: mlops-devops-admin\n",
    "* See the pipeline release for the remote training"
   ]
  },
  {
   "cell_type": "code",
   "execution_count": null,
   "metadata": {},
   "outputs": [],
   "source": []
  }
 ],
 "metadata": {
  "kernelspec": {
   "display_name": "Python 3",
   "language": "python",
   "name": "python3"
  },
  "language_info": {
   "codemirror_mode": {
    "name": "ipython",
    "version": 3
   },
   "file_extension": ".py",
   "mimetype": "text/x-python",
   "name": "python",
   "nbconvert_exporter": "python",
   "pygments_lexer": "ipython3",
   "version": "3.7.3"
  }
 },
 "nbformat": 4,
 "nbformat_minor": 2
}
