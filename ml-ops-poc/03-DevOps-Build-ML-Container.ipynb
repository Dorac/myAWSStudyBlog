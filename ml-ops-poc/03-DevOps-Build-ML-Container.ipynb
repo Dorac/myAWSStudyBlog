{
 "cells": [
  {
   "cell_type": "markdown",
   "metadata": {},
   "source": [
    "# ML Containers in DevOps Account\n",
    "\n",
    "Login AWS console:\n",
    "    * aws account: mlops-devops\n",
    "    * user: devops-admin\n",
    "    * region: us-west-2"
   ]
  },
  {
   "cell_type": "markdown",
   "metadata": {},
   "source": [
    "## Check the repositories source code\n",
    "\n",
    "In the CodeCommit, you will see the repo `scikit_bring_your_own`. Brow the file `scikit_bring_your_own/container.build_and_push.sh`. We will create AWS CodeBuild to execute this file. Please aware that line 30: **`region=${region:-us-west-2}`**. If you run in the different region, you need to chage region. Or, you can pass variable via codebuild environment variable.\n",
    "\n",
    "![](./img/06.png)\n"
   ]
  },
  {
   "cell_type": "markdown",
   "metadata": {},
   "source": [
    "## CodeBuild Project\n",
    "\n",
    "### Project configuration\n",
    "    * name: `devops-mlc-scikit_bring_your_own`    \n",
    "        * devops: account\n",
    "        * mlc: machine learning container\n",
    "        * scikit_bring_your_own: repo source name\n",
    "    * description: `build machine learning container for scikit_bring_your_own`\n",
    "### Source\n",
    "    * Provider: AWS CodeCommit\n",
    "    * Repository: scikit_bring_your_own\n",
    "    * Branch: master\n",
    "### Environment\n",
    "    * Environment image: Managed image\n",
    "    * OS: Amazon Linux 2\n",
    "    * Runtime: Standard\n",
    "    * Image: aws/codebuild/amazonlinux2-x86_64-standard:2.0\n",
    "    * Privileged: checked\n",
    "    * Service role: `codebuild-mlops-mlc--service-role`\n",
    "### BuildSpec\n",
    "    * Insert build commands\n",
    "    * click on switch to editor\n",
    "    * Here is the buildspec.yml example"
   ]
  },
  {
   "cell_type": "code",
   "execution_count": null,
   "metadata": {},
   "outputs": [],
   "source": [
    "version: 0.2\n",
    "phases:\n",
    "  install:\n",
    "    runtime-versions:\n",
    "      docker: 18\n",
    "  build:\n",
    "    commands:\n",
    "      - cd ./container\n",
    "      - ./build_and_push.sh scikit_bring_your_own"
   ]
  },
  {
   "cell_type": "markdown",
   "metadata": {},
   "source": [
    "## Start CodeBuild Project\n",
    "\n",
    "Let us try the first build of the project and you will see the fail."
   ]
  },
  {
   "cell_type": "code",
   "execution_count": null,
   "metadata": {},
   "outputs": [],
   "source": [
    "[Container] 2020/01/06 09:02:22 Command did not exit successfully ./build_and_push.sh scikit_bring_your_own exit status 1 \n",
    "[Container] 2020/01/06 09:02:22 Phase complete: BUILD State: FAILED \n",
    "[Container] 2020/01/06 09:02:22 Phase context status code: COMMAND_EXECUTION_ERROR Message: Error while executing command: ./build_and_push.sh scikit_bring_your_own. Reason: exit status 1 "
   ]
  },
  {
   "cell_type": "markdown",
   "metadata": {},
   "source": [
    "# Adjust the service role policy\n",
    "\n",
    "* In IAM, add the following policy for the service role `codebuild-mlops-mlc--service-role`\n",
    "    * Elastic Container Registry\n",
    "    * Full access\n",
    "    * All resources\n",
    "\n",
    "* Run build project again. You will see successfully results"
   ]
  },
  {
   "cell_type": "code",
   "execution_count": null,
   "metadata": {},
   "outputs": [],
   "source": [
    "Successfully built de05d04bf31a \n",
    "Successfully tagged scikit_bring_your_own:latest \n",
    "The push refers to repository [<mlops-devops>.dkr.ecr.us-west-2.amazonaws.com/scikit_bring_your_own] \n",
    "451c009cecea: Preparing \n",
    "91aa0180207d: Preparing \n",
    "a0e88634e545: Preparing \n",
    "77008e118980: Preparing \n",
    "6cb741cb00b7: Preparing \n",
    "f36b28e4310d: Preparing \n",
    "91d23cf5425a: Preparing \n",
    "f36b28e4310d: Waiting \n",
    "91d23cf5425a: Waiting \n",
    "451c009cecea: Pushed \n",
    "6cb741cb00b7: Pushed \n",
    "77008e118980: Pushed \n",
    "f36b28e4310d: Pushed \n",
    "a0e88634e545: Pushed \n",
    "91d23cf5425a: Pushed \n",
    "91aa0180207d: Pushed \n",
    "latest: digest: sha256:3ac038bc4edc85bba84aa84d2250e1d6cb0cf0eeb5005b76342d37c941e4248d size: 1782 \n",
    " \n",
    "[Container] 2020/01/06 09:12:42 Phase complete: BUILD State: SUCCEEDED \n",
    "[Container] 2020/01/06 09:12:42 Phase context status code:  Message:  "
   ]
  },
  {
   "cell_type": "markdown",
   "metadata": {},
   "source": [
    "![](./img/07.png)"
   ]
  },
  {
   "cell_type": "markdown",
   "metadata": {},
   "source": [
    "## Congradulations\n",
    "\n",
    "Now, you finished redbox architecture diagram.\n",
    "![](./img/08.png)"
   ]
  },
  {
   "cell_type": "code",
   "execution_count": null,
   "metadata": {},
   "outputs": [],
   "source": []
  }
 ],
 "metadata": {
  "kernelspec": {
   "display_name": "Python 3",
   "language": "python",
   "name": "python3"
  },
  "language_info": {
   "codemirror_mode": {
    "name": "ipython",
    "version": 3
   },
   "file_extension": ".py",
   "mimetype": "text/x-python",
   "name": "python",
   "nbconvert_exporter": "python",
   "pygments_lexer": "ipython3",
   "version": "3.7.3"
  }
 },
 "nbformat": 4,
 "nbformat_minor": 2
}
