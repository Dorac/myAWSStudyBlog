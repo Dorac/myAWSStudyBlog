{
 "cells": [
  {
   "cell_type": "markdown",
   "metadata": {},
   "source": [
    "# Monitoring Job Status\n",
    "\n",
    "## DevOps Account\n",
    "\n",
    "* acc: mlops-devops\n",
    "* IAM: mlops-devops-admin\n",
    "\n",
    "## Create Lambda function\n",
    "* Name: monitor_sagemaker_job_status\n",
    "* python 3.8\n",
    "* service role add policy to access secret manager"
   ]
  },
  {
   "cell_type": "code",
   "execution_count": null,
   "metadata": {},
   "outputs": [],
   "source": [
    "{\n",
    "    \"Version\": \"2012-10-17\",\n",
    "    \"Statement\": [\n",
    "        {\n",
    "            \"Sid\": \"VisualEditor0\",\n",
    "            \"Effect\": \"Allow\",\n",
    "            \"Action\": \"secretsmanager:GetSecretValue\",\n",
    "            \"Resource\": \"arn:aws:secretsmanager:us-west-2:*:secret:beta/sagemaker*\"\n",
    "        }\n",
    "    ]\n",
    "}"
   ]
  },
  {
   "cell_type": "markdown",
   "metadata": {},
   "source": [
    "### Lamda python code"
   ]
  },
  {
   "cell_type": "code",
   "execution_count": null,
   "metadata": {},
   "outputs": [],
   "source": [
    "import json, boto3, base64\n",
    "\n",
    "def getSecret(secret_name):\n",
    "    ssm = boto3.client('secretsmanager')\n",
    "    resp = ssm.get_secret_value(SecretId=secret_name)['SecretString']\n",
    "    return json.loads(resp)\n",
    "\n",
    "def lambda_handler(event, context):\n",
    "    #env\n",
    "    secret_name = event['Input']['secret_name']\n",
    "    job_name = event['Input']['job_name']\n",
    "    \n",
    "    # beta sagemaker\n",
    "    secret_result = getSecret(secret_name)\n",
    "    beta_access_key = secret_result['beta-sagemaker-access']\n",
    "    beta_secrete_key = secret_result['beta-sagemaker-secret']\n",
    "    \n",
    "    ss_beta = boto3.Session(aws_access_key_id=beta_access_key, aws_secret_access_key=beta_secrete_key)\n",
    "    sm_beta = ss_beta.client('sagemaker')\n",
    "    status = sm_beta.describe_training_job(TrainingJobName=job_name)['TrainingJobStatus']\n",
    "    \n",
    "    # TrainingJobStatus !='Completed' and TrainingJobStatus!='Failed'\n",
    "    return {\n",
    "        'job_name': job_name,\n",
    "        'status': status\n",
    "    }"
   ]
  },
  {
   "cell_type": "markdown",
   "metadata": {},
   "source": [
    "## lamda testing event"
   ]
  },
  {
   "cell_type": "code",
   "execution_count": null,
   "metadata": {},
   "outputs": [],
   "source": [
    "{\n",
    "  \"Input\": {\n",
    "    \"secret_name\": \"beta/sagemaker\",\n",
    "    \"job_name\": \"scikit-bring-your-own-2020-02-04-13-59-13\"\n",
    "  }\n",
    "}"
   ]
  },
  {
   "cell_type": "markdown",
   "metadata": {},
   "source": [
    "# Create Step Function\n",
    "\n",
    "* name: sm-job-status"
   ]
  },
  {
   "cell_type": "code",
   "execution_count": null,
   "metadata": {},
   "outputs": [],
   "source": [
    "{\n",
    "  \"Comment\": \"Check SageMaker Training Job Status\",\n",
    "  \"StartAt\": \"sm_job\",\n",
    "  \"States\": {\n",
    "    \"sm_job\": {\n",
    "      \"Type\": \"Task\",\n",
    "      \"Resource\": \"arn:aws:states:::lambda:invoke\",\n",
    "      \"Parameters\": {\n",
    "        \"FunctionName\": \"arn:aws:lambda:us-west-2:*:function:monitor_sagemaker_job_status:$LATEST\",\n",
    "        \"Payload\": {\n",
    "          \"Input.$\": \"$\"\n",
    "        }\n",
    "      },\n",
    "      \"ResultPath\": \"$.taskresult\",\n",
    "      \"Next\": \"ChoiceState\"\n",
    "    },\n",
    "    \"ChoiceState\": {\n",
    "      \"Type\": \"Choice\",\n",
    "      \"Choices\": [\n",
    "        {\n",
    "          \"Variable\": \"$.taskresult.Payload.status\",\n",
    "          \"StringEquals\": \"Completed\",\n",
    "          \"Next\": \"Done\"\n",
    "        },\n",
    "        {\n",
    "          \"Variable\": \"$.taskresult.Payload.status\",\n",
    "          \"StringEquals\": \"Failed\",\n",
    "          \"Next\": \"Done\"\n",
    "        }\n",
    "      ],\n",
    "      \"Default\": \"WaitSeconds\"\n",
    "    },\n",
    "    \"WaitSeconds\": {\n",
    "      \"Type\": \"Wait\",\n",
    "      \"Seconds\": 10,\n",
    "       \"Next\": \"sm_job\"\n",
    "    },\n",
    "    \"Done\": {\n",
    "      \"Type\": \"Pass\",\n",
    "      \"End\": true\n",
    "    }\n",
    "  }\n",
    "}"
   ]
  },
  {
   "cell_type": "markdown",
   "metadata": {},
   "source": [
    "![](./img/38.png)"
   ]
  },
  {
   "cell_type": "markdown",
   "metadata": {},
   "source": [
    "# Start Step functions\n",
    "\n",
    "* trigger the beta training job and get the job_name\n",
    "* input the payload of step function"
   ]
  },
  {
   "cell_type": "code",
   "execution_count": null,
   "metadata": {},
   "outputs": [],
   "source": [
    "{\n",
    "  \"secret_name\": \"beta/sagemaker\",\n",
    "  \"job_name\": \"scikit-bring-your-own-2020-02-04-13-59-13\"\n",
    "}"
   ]
  },
  {
   "cell_type": "markdown",
   "metadata": {},
   "source": [
    "You will see the state goes into waiting and then finish\n",
    "\n",
    "![](./img/39.png)"
   ]
  },
  {
   "cell_type": "code",
   "execution_count": null,
   "metadata": {},
   "outputs": [],
   "source": []
  }
 ],
 "metadata": {
  "kernelspec": {
   "display_name": "Python 3",
   "language": "python",
   "name": "python3"
  },
  "language_info": {
   "codemirror_mode": {
    "name": "ipython",
    "version": 3
   },
   "file_extension": ".py",
   "mimetype": "text/x-python",
   "name": "python",
   "nbconvert_exporter": "python",
   "pygments_lexer": "ipython3",
   "version": "3.7.3"
  }
 },
 "nbformat": 4,
 "nbformat_minor": 2
}
