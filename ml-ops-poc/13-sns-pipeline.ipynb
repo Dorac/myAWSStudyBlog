{
 "cells": [
  {
   "cell_type": "markdown",
   "metadata": {},
   "source": [
    "# SNS for pipeline\n",
    "\n",
    "## DevOps Account\n",
    "\n",
    "* acc: mlops-devops\n",
    "* IMA: mlops-devops-admin\n"
   ]
  },
  {
   "cell_type": "markdown",
   "metadata": {},
   "source": [
    "## Services\n",
    "\n",
    "* SNS\n",
    "* Create Topic: pipeline-sns-prd\n",
    "* Display: pipeline-sns-prd\n",
    "* create topic"
   ]
  },
  {
   "cell_type": "markdown",
   "metadata": {},
   "source": [
    "## Create subscription\n",
    "\n",
    "* protocol: email\n",
    "* Add user email:\n",
    "\n",
    "* protocol: SMS\n",
    "* input cell phone number: \n",
    "\n",
    "![](./img/40.png)"
   ]
  },
  {
   "cell_type": "markdown",
   "metadata": {},
   "source": [
    "# Edit Pipeline and add SNS\n",
    "\n",
    "* pipeline: pipeline-pull-training-model\n",
    "* edit stage: prod-push-model\n",
    "* edit action: manual-approval-prd\n",
    "* Add SNS\n",
    "\n",
    "![](./img/41.png)"
   ]
  },
  {
   "cell_type": "code",
   "execution_count": null,
   "metadata": {},
   "outputs": [],
   "source": []
  }
 ],
 "metadata": {
  "kernelspec": {
   "display_name": "Python 3",
   "language": "python",
   "name": "python3"
  },
  "language_info": {
   "codemirror_mode": {
    "name": "ipython",
    "version": 3
   },
   "file_extension": ".py",
   "mimetype": "text/x-python",
   "name": "python",
   "nbconvert_exporter": "python",
   "pygments_lexer": "ipython3",
   "version": "3.7.3"
  }
 },
 "nbformat": 4,
 "nbformat_minor": 2
}
