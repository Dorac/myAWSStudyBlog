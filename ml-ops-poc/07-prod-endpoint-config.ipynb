{
 "cells": [
  {
   "cell_type": "markdown",
   "metadata": {},
   "source": [
    "# Deploy Endpoint"
   ]
  },
  {
   "cell_type": "markdown",
   "metadata": {},
   "source": [
    "# dev account\n",
    "\n",
    "Login AWS:\n",
    "* account: mlops-dev\n",
    "* user: dev-developers\n",
    "* cloud9: my-mlops-works\n"
   ]
  },
  {
   "cell_type": "markdown",
   "metadata": {},
   "source": [
    "# Prod SageMaker Endpoint Configuration\n",
    "\n",
    "* mkdir prod-deploy-endpoint\n",
    "* aws --profile mlops-devops-developers codecommit create-repository --repository-name prod-deploy-endpoint\n",
    "* cd prod-deploy-endpoint\n",
    "* git init\n",
    "* git remote add origin https://git-codecommit.us-west-2.amazonaws.com/v1/repos/prod-deploy-endpoint\n",
    "* git remote -v\n",
    "* touch prod-deploy-endpoint.py"
   ]
  },
  {
   "cell_type": "markdown",
   "metadata": {},
   "source": [
    "### prod-deploy-endpoint.py"
   ]
  },
  {
   "cell_type": "code",
   "execution_count": null,
   "metadata": {},
   "outputs": [],
   "source": [
    "import boto3, sys\n",
    "\n",
    "prod_access_key = sys.argv[1]\n",
    "prod_secrete_key = sys.argv[2]\n",
    "model_name = sys.argv[3]\n",
    "\n",
    "# prod sagemaker\n",
    "sess_prod = boto3.Session(aws_access_key_id=prod_access_key, aws_secret_access_key=prod_secrete_key)\n",
    "sm_prod = sess_prod.client('sagemaker')\n",
    "prod_account = sess_prod.client('sts').get_caller_identity()['Account']\n",
    "\n",
    "resp = sm_prod.create_endpoint_config(EndpointConfigName=model_name,\n",
    "    ProductionVariants=[\n",
    "        {\n",
    "            'VariantName': 'prod',\n",
    "            'ModelName': model_name,\n",
    "            'InitialInstanceCount': 1,\n",
    "            'InstanceType': 'ml.t2.medium'\n",
    "        }\n",
    "    ])\n",
    "print(resp['EndpointConfigArn'])\n",
    "\n",
    "resp = sm_prod.create_endpoint(\n",
    "    EndpointName=model_name,\n",
    "    EndpointConfigName=model_name\n",
    ")\n",
    "\n",
    "print(resp['EndpointArn'])"
   ]
  },
  {
   "cell_type": "markdown",
   "metadata": {},
   "source": [
    "# DevOps\n",
    "\n",
    "* Please login as mlops-devops-admin user\n",
    "\n",
    "## CodeBuild\n",
    "\n",
    "* project name: prod-deploy-endpoint\n",
    "* image: amazonlinux2\n",
    "* role: codebuild-prod-deploy-endpoint-service-role\n",
    "\n",
    "* Buildspec.yml:"
   ]
  },
  {
   "cell_type": "code",
   "execution_count": null,
   "metadata": {},
   "outputs": [],
   "source": [
    "version: 0.2\n",
    "\n",
    "env:\n",
    "  variables:\n",
    "     model_name: \"<model_name>\"\n",
    "  secrets-manager:\n",
    "     prod_access_key: prod/sagemaker:prod-sagemaker-access\n",
    "     prod_secret_key: prod/sagemaker:prod-sagemaker-secret\n",
    "phases:\n",
    "  install:\n",
    "    runtime-versions:\n",
    "      python: 3.8\n",
    "  build:\n",
    "    commands:\n",
    "      - python prod-deploy-endpoint.py $prod_access_key $prod_secret_key $model_name   "
   ]
  },
  {
   "cell_type": "markdown",
   "metadata": {},
   "source": [
    "## IAM policy\n",
    "\n",
    "* service role: codebuild-prod-deploy-endpoint-service-role\n",
    "* inline policy: codebuild-prod-deploy-endpoint"
   ]
  },
  {
   "cell_type": "code",
   "execution_count": null,
   "metadata": {},
   "outputs": [],
   "source": [
    "{\n",
    "    \"Version\": \"2012-10-17\",\n",
    "    \"Statement\": [\n",
    "        {\n",
    "            \"Effect\": \"Allow\",\n",
    "            \"Action\": \"secretsmanager:GetSecretValue\",\n",
    "            \"Resource\": \"arn:aws:secretsmanager:*:*:secret:prod/sagemaker-*\"\n",
    "        }\n",
    "    ]\n",
    "}"
   ]
  },
  {
   "cell_type": "markdown",
   "metadata": {},
   "source": [
    "# Build codebuild\n",
    "\n",
    "* variable name\n",
    "    * key: model_name"
   ]
  },
  {
   "cell_type": "code",
   "execution_count": null,
   "metadata": {},
   "outputs": [],
   "source": [
    "[Container] 2020/01/07 15:34:50 Running command python prod-deploy-endpoint.py $prod_access_key $prod_secret_key $model_name \n",
    "arn:aws:sagemaker:us-west-2:***:endpoint-config/scikit-bring-your-own-2020-01-06-12-47-23 \n",
    "arn:aws:sagemaker:us-west-2:***:endpoint/scikit-bring-your-own-2020-01-06-12-47-23 \n",
    " \n",
    "[Container] 2020/01/07 15:34:53 Phase complete: BUILD State: SUCCEEDED \n",
    "[Container] 2020/01/07 15:34:53 Phase context status code:  Message:  \n",
    "[Container] 2020/01/07 15:34:53 Entering phase POST_BUILD \n",
    "[Container] 2020/01/07 15:34:53 Phase complete: POST_BUILD State: SUCCEEDED \n",
    "[Container] 2020/01/07 15:34:53 Phase context status code:  Message:  \n",
    " "
   ]
  },
  {
   "cell_type": "markdown",
   "metadata": {},
   "source": [
    "# Test Endpoint\n",
    "\n",
    "## dev account\n",
    "\n",
    "* Please login as mlops-dev-developers user\n",
    "\n",
    "* mkdir test-end-point\n",
    "* cd test-endpoint\n",
    "* `curl https://raw.githubusercontent.com/awslabs/amazon-sagemaker-examples/master/advanced_functionality/scikit_bring_your_own/data/iris.csv --output iris.csv`"
   ]
  },
  {
   "cell_type": "code",
   "execution_count": null,
   "metadata": {},
   "outputs": [],
   "source": [
    "curl https://raw.githubusercontent.com/awslabs/amazon-sagemaker-examples/master/advanced_functionality/scikit_bring_your_own/data/iris.csv --output iris.csv"
   ]
  },
  {
   "cell_type": "markdown",
   "metadata": {},
   "source": [
    "## test-endpoint.py"
   ]
  },
  {
   "cell_type": "code",
   "execution_count": null,
   "metadata": {},
   "outputs": [],
   "source": [
    "import boto3, io, itertools, sys\n",
    "import pandas as pd\n",
    "\n",
    "endpointName = sys.argv[1]\n",
    "# Make a dataframe\n",
    "shape = pd.read_csv('./iris.csv', header=None)\n",
    "\n",
    "# Take a random sample\n",
    "a = [50*i for i in range(3)]\n",
    "b = [40+i for i in range(10)]\n",
    "indices = [i+j for i,j in itertools.product(a,b)]\n",
    "test_data=shape.iloc[indices[:-1]]\n",
    "test_X=test_data.iloc[:,1:]\n",
    "test_y=test_data.iloc[:,0]\n",
    "\n",
    "# Convert the dataframe to csv data\n",
    "test_file = io.StringIO()\n",
    "test_X.to_csv(test_file, header=None, index=None)\n",
    "\n",
    "# Talk to SageMaker\n",
    "client = boto3.Session(profile_name='mlops-prod-sagemaker').client('sagemaker-runtime')\n",
    "response = client.invoke_endpoint(\n",
    "    EndpointName=endpointName,\n",
    "    Body=test_file.getvalue(),\n",
    "    ContentType='text/csv',\n",
    "    Accept='Accept'\n",
    ")\n",
    "\n",
    "print(response['Body'].read().decode('ascii'))"
   ]
  },
  {
   "cell_type": "markdown",
   "metadata": {},
   "source": [
    "## config mlops-prod-sagemaker\n",
    "\n",
    "* vim ~/.aws/config\n",
    "* vim ~/.aws/credentials\n",
    "* sudo easy_install-3.6 pip\n",
    "* sudo /usr/local/bin/pip3 install boto3 pandas\n",
    "* python3 test-endpoint-sample.py scikit-bring-your-own-2020-01-06-12-47-23"
   ]
  },
  {
   "cell_type": "code",
   "execution_count": null,
   "metadata": {},
   "outputs": [],
   "source": [
    "mlops-dev-developers:~/environment/test-endpoint $ python3 test-endpoint-sample.py scikit-bring-your-own-2020-01-08-09-08-49\n",
    "setosa\n",
    "setosa\n",
    "setosa\n",
    "setosa\n",
    "setosa\n",
    "setosa\n",
    "setosa\n",
    "setosa\n",
    "setosa\n",
    "setosa\n",
    "versicolor\n",
    "versicolor\n",
    "versicolor\n",
    "versicolor"
   ]
  },
  {
   "cell_type": "markdown",
   "metadata": {},
   "source": [
    "# Congradulation\n",
    "\n",
    "Finish all parts\n",
    "\n",
    "![](./img/arch.png)"
   ]
  },
  {
   "cell_type": "markdown",
   "metadata": {},
   "source": [
    "# Clean Up\n",
    "\n",
    "* Delete prod endpiont"
   ]
  },
  {
   "cell_type": "code",
   "execution_count": null,
   "metadata": {},
   "outputs": [],
   "source": []
  }
 ],
 "metadata": {
  "kernelspec": {
   "display_name": "Python 3",
   "language": "python",
   "name": "python3"
  },
  "language_info": {
   "codemirror_mode": {
    "name": "ipython",
    "version": 3
   },
   "file_extension": ".py",
   "mimetype": "text/x-python",
   "name": "python",
   "nbconvert_exporter": "python",
   "pygments_lexer": "ipython3",
   "version": "3.7.3"
  }
 },
 "nbformat": 4,
 "nbformat_minor": 2
}