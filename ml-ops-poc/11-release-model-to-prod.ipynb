{
 "cells": [
  {
   "cell_type": "markdown",
   "metadata": {},
   "source": [
    "# Pipeline to release model to prod\n",
    "\n",
    "## DevOps\n",
    "\n",
    "* acc: mlops-devops\n",
    "* IAM: mlosp-devops-admin"
   ]
  },
  {
   "cell_type": "markdown",
   "metadata": {},
   "source": [
    "# Modify pipeline\n",
    "\n",
    "* codepipeline name: pipeline-pull-training-model\n",
    "\n",
    "## source\n",
    "* Add action\n",
    "* action name: src-deploy-model-to-prod\n",
    "* codecommit\n",
    "* repo: deploy-model-to-prod\n",
    "* Output artifacts: src-deploy-model-to-prod\n",
    "\n",
    "![](./img/31.png)"
   ]
  },
  {
   "cell_type": "markdown",
   "metadata": {},
   "source": [
    "## Add Stage\n",
    "\n",
    "* Stage Name: prod-push-model\n",
    "* Add manual approval\n",
    "\n",
    "![](./img/32.png)\n",
    "\n",
    "## Add Action Group for codebuild\n",
    "* Name: prod-deploy-model\n",
    "* Input artifacts: src-deploy-model-to-prd\n",
    "* Codebuild: prod-deploy-model\n",
    "* Add environment variable\n",
    "    * key: model_name\n",
    "    * value: #{version-set.job_name}\n",
    "    \n",
    "![](./img/33.png)"
   ]
  },
  {
   "cell_type": "markdown",
   "metadata": {},
   "source": [
    "## Pipeline overview\n",
    "\n",
    "* Step1: release version set\n",
    "* Step2: pull model from beta to devops\n",
    "* Step3: wait for approval\n",
    "* Step4: push model from devops to prod\n",
    "\n",
    "![](./img/34.png)"
   ]
  },
  {
   "cell_type": "markdown",
   "metadata": {},
   "source": [
    "# Developers\n",
    "\n",
    "* acc: mlops-dev\n",
    "* IAM: mlops-dev-developers\n",
    "* cloud9: my-mlops-work"
   ]
  },
  {
   "cell_type": "markdown",
   "metadata": {},
   "source": [
    "## Version Set for model\n",
    "\n",
    "* cd version-set-pull-beta\n",
    "* change and commit `pull-beta-model.json`"
   ]
  },
  {
   "cell_type": "markdown",
   "metadata": {},
   "source": [
    "# Switch back DevOps\n",
    "\n",
    "* acc: mlops-devops\n",
    "* IAM: mlosp-devops-admin\n",
    "\n",
    "* check the pipeline release\n",
    "* You will see the `pending` and `wating for approval`\n",
    "\n",
    "![](./img/35.png)\n"
   ]
  },
  {
   "cell_type": "markdown",
   "metadata": {},
   "source": [
    "### Review and Approve\n",
    "\n",
    "* Click on Review and approve the release\n",
    "![](./img/36.png)"
   ]
  },
  {
   "cell_type": "markdown",
   "metadata": {},
   "source": [
    "## Release success to prod\n",
    "\n",
    "![](./img/37.png)"
   ]
  },
  {
   "cell_type": "code",
   "execution_count": null,
   "metadata": {},
   "outputs": [],
   "source": []
  }
 ],
 "metadata": {
  "kernelspec": {
   "display_name": "Python 3",
   "language": "python",
   "name": "python3"
  },
  "language_info": {
   "codemirror_mode": {
    "name": "ipython",
    "version": 3
   },
   "file_extension": ".py",
   "mimetype": "text/x-python",
   "name": "python",
   "nbconvert_exporter": "python",
   "pygments_lexer": "ipython3",
   "version": "3.7.3"
  }
 },
 "nbformat": 4,
 "nbformat_minor": 2
}
