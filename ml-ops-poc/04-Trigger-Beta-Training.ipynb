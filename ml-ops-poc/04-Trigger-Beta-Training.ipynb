{
 "cells": [
  {
   "cell_type": "markdown",
   "metadata": {},
   "source": [
    "# Setup Beta Account\n",
    "\n",
    "We need to setup beta account IAM role, and upload training dataset into s3 bucket.\n",
    "\n",
    "* Login AWS account: mlops-beta\n",
    "* user: mlops-beta-admin\n",
    "\n",
    "## IAM SageMakerExecutionRole\n",
    "\n",
    "* Role Name: SageMakerExecutionRole\n",
    "* attach policy `AmazonSageMakerFullAccess`\n",
    "    ![](./img/09.png)\n",
    "\n",
    "* Add inline policy `beta-sagemake-policy`"
   ]
  },
  {
   "cell_type": "code",
   "execution_count": null,
   "metadata": {},
   "outputs": [],
   "source": [
    "{\n",
    "    \"Version\": \"2012-10-17\",\n",
    "    \"Statement\": [\n",
    "        {\n",
    "            \"Sid\": \"VisualEditor0\",\n",
    "            \"Effect\": \"Allow\",\n",
    "            \"Action\": [\n",
    "                \"ecr:GetDownloadUrlForLayer\",\n",
    "                \"ecr:BatchGetImage\",\n",
    "                \"ecr:BatchCheckLayerAvailability\"\n",
    "            ],\n",
    "            \"Resource\": \"arn:aws:ecr:*:<mlops-devops-accountid>:repository/*\"\n",
    "        }\n",
    "    ]\n",
    "}"
   ]
  },
  {
   "cell_type": "markdown",
   "metadata": {},
   "source": [
    "## S3 Bucket -- This can skip if you don't use s3 cp\n",
    "\n",
    "* Bucket name: `<your_id>-beta-sagemaker-repo-us-west-2` , S3 Bucket name should be unique.\n",
    "* region: US West (Oregon)\n",
    "* folder: iris/input\n",
    "* Download the iris sample file [here](https://raw.githubusercontent.com/awslabs/amazon-sagemaker-examples/master/advanced_functionality/scikit_bring_your_own/data/iris.csv) and upload the file into s3://beta-sagemaker-repo-us-west-2/iris/input\n",
    "* Setup the bucket policy. Need to replace the `<mlops-devops-accountid>`"
   ]
  },
  {
   "cell_type": "code",
   "execution_count": null,
   "metadata": {},
   "outputs": [],
   "source": [
    "{\n",
    "    \"Version\": \"2012-10-17\",\n",
    "    \"Statement\": [\n",
    "        {\n",
    "            \"Effect\": \"Allow\",\n",
    "            \"Principal\": {\n",
    "                \"AWS\": \"arn:aws:iam::<mlops-devops-accountid>:role/SageMakerExecutionRole\"\n",
    "            },\n",
    "            \"Action\": \"s3:GetObject\",\n",
    "            \"Resource\": \"arn:aws:s3:::<your_id>-beta-sagemaker-repo-us-west-2/*\"\n",
    "        }\n",
    "    ]\n",
    "}"
   ]
  },
  {
   "cell_type": "markdown",
   "metadata": {},
   "source": [
    "# Setup Dev Account\n",
    "\n",
    "## Prepare trigger beta training code\n",
    "\n",
    "Login AWS console:\n",
    "\n",
    "* account: mlops-dev\n",
    "* user: mlops-dev-developers\n",
    "\n",
    "Go to cloud9: `my-mlops-works`\n",
    "\n",
    "* `mkdir trigger-beta-training`\n",
    "* `aws --profile mlops-devops-developers codecommit create-repository --repository-name trigger-beta-training`\n",
    "* `cd trigger-beta-training`\n",
    "* `git init`\n",
    "* `git remote add origin https://git-codecommit.us-west-2.amazonaws.com/v1/repos/trigger-beta-training`\n",
    "* `touch trigger-beta-training.py`\n",
    "\n",
    "And paste the following code into trigger-beta-training.py. Then commit the code into repo.\n",
    "\n",
    "**Important: SageMaker Job Name don't allow under_score**\n",
    "\n"
   ]
  },
  {
   "cell_type": "code",
   "execution_count": null,
   "metadata": {},
   "outputs": [],
   "source": [
    "import time, boto3, sys\n",
    "import sagemaker as sage \n",
    " \n",
    "# Create unique job name \n",
    "job_name_prefix = 'scikit-bring-your-own' \n",
    "timestamp = time.strftime('-%Y-%m-%d-%H-%M-%S', time.gmtime()) \n",
    "job_name = job_name_prefix + timestamp \n",
    " \n",
    "beta_access_key = sys.argv[1]\n",
    "beta_secrete_key = sys.argv[2]\n",
    "\n",
    "#devops\n",
    "region_devops = boto3.Session().region_name\n",
    "account_devops = boto3.client('sts').get_caller_identity()['Account']\n",
    "\n",
    "# beta\n",
    "ss_beta = boto3.Session(aws_access_key_id=beta_access_key, aws_secret_access_key=beta_secrete_key) \n",
    "sm_beta = sage.Session(boto_session=ss_beta) \n",
    "account_beta = ss_beta.client('sts').get_caller_identity()['Account'] \n",
    "\n",
    "image = '{}.dkr.ecr.{}.amazonaws.com/scikit_bring_your_own:latest'.format(account_devops, region_devops) \n",
    "role = 'arn:aws:iam::{}:role/SageMakerExecutionRole'.format(account_beta) \n",
    "data_location = 's3://<your_id>-beta-sagemaker-repo-us-west-2/iris/input/iris.csv'\n",
    "output_location = 's3://<your_id>-beta-sagemaker-repo-us-west-2/iris/output' \n",
    "\n",
    "tree = sage.estimator.Estimator(image, \n",
    "    role, 1, 'ml.c4.2xlarge', \n",
    "    output_path=output_location, \n",
    "    sagemaker_session=sm_beta) \n",
    "tree.fit(inputs=data_location, job_name=job_name, wait=False)\n",
    "\n",
    "print('job created at beta account: ' + job_name)"
   ]
  },
  {
   "cell_type": "markdown",
   "metadata": {},
   "source": [
    "\n",
    "# Setup devops account\n",
    "\n",
    "Login AWS console:\n",
    "* account: mlops-devops\n",
    "* user: mlops-devops-admin\n",
    "* region: Oregon\n",
    "\n",
    "## Config AWS Secrets Manager\n",
    "\n",
    "Click on store a new secret\n",
    "* secret name: beta/sagemaker\n",
    "* secret type: other type\n",
    "* key: beta-sagemaker-access, beta-sagemaker-secret\n",
    "    ![](./img/10.png)\n"
   ]
  },
  {
   "cell_type": "markdown",
   "metadata": {},
   "source": [
    "## Codebuild\n",
    "\n",
    "* project name: `beta-training-scikit-bring-your-own`\n",
    "* description: `trigger training scikit-bring-your-own in beta account`\n",
    "* repoitory: `trigger-beta-training`\n",
    "* runtime image: aws/codebuild/amazonlinux2-x86_64-standard:2.0\n",
    "* new service role: `codebuild-beta-training--service-role`\n",
    "* buildspec.yaml as the following\n"
   ]
  },
  {
   "cell_type": "code",
   "execution_count": null,
   "metadata": {},
   "outputs": [],
   "source": [
    "version: 0.2\n",
    "\n",
    "env:\n",
    "  secrets-manager:\n",
    "     beta_access_key: beta/sagemaker:beta-sagemaker-access\n",
    "     beta_secret_key: beta/sagemaker:beta-sagemaker-secret\n",
    "phases:\n",
    "  install:\n",
    "    runtime-versions:\n",
    "      python: 3.8\n",
    "  build:\n",
    "    commands:\n",
    "      - pip install sagemaker\n",
    "      - python trigger-beta-training.py $beta_access_key $beta_secret_key\n",
    "        "
   ]
  },
  {
   "cell_type": "markdown",
   "metadata": {},
   "source": [
    "## Fixed CodeBuild service role policy\n",
    "\n",
    "Click on the codebuild project to start build. You will get the failure about `secretsmanager:GetSecretValue`\n",
    "\n",
    "In the IAM, add inline policy for the service role: `codebuild-beta-training--service-role`.\n",
    "* policy name: codebuild-trigger-beta-training\n",
    "* policy json:"
   ]
  },
  {
   "cell_type": "code",
   "execution_count": null,
   "metadata": {},
   "outputs": [],
   "source": [
    "{\n",
    "    \"Version\": \"2012-10-17\",\n",
    "    \"Statement\": [\n",
    "        {\n",
    "            \"Sid\": \"VisualEditor0\",\n",
    "            \"Effect\": \"Allow\",\n",
    "            \"Action\": \"secretsmanager:GetSecretValue\",\n",
    "            \"Resource\": \"arn:aws:secretsmanager:*:*:secret:beta/sagemaker-*\"\n",
    "        }\n",
    "    ]\n",
    "}"
   ]
  },
  {
   "cell_type": "markdown",
   "metadata": {},
   "source": [
    "## Share ECR repository\n",
    "\n",
    "* In the ECR repsoity: `scikit_bring_your_own`, add the Permissions with following policy.\n",
    "* Don't forget to replace the `<mlops-beta-account-id>` and `<mlops-prod-account-id>` with correct account id number.\n",
    "* Policy Generator: https://awspolicygen.s3.amazonaws.com/policygen.html \n"
   ]
  },
  {
   "cell_type": "code",
   "execution_count": null,
   "metadata": {},
   "outputs": [],
   "source": [
    "{\n",
    "  \"Version\": \"2008-10-17\",\n",
    "  \"Statement\": [\n",
    "    {\n",
    "      \"Sid\": \"AllowPull\",\n",
    "      \"Effect\": \"Allow\",\n",
    "      \"Principal\": {\n",
    "        \"AWS\": \"arn:aws:iam::<mlops-beta-account-id>:role/SageMakerExecutionRole\"\n",
    "      },\n",
    "      \"Action\": [\n",
    "        \"ecr:BatchCheckLayerAvailability\",\n",
    "        \"ecr:BatchGetImage\",\n",
    "        \"ecr:GetDownloadUrlForLayer\"\n",
    "      ]\n",
    "    },\n",
    "    {\n",
    "      \"Sid\": \"AllowPull\",\n",
    "      \"Effect\": \"Allow\",\n",
    "      \"Principal\": {\n",
    "        \"AWS\": \"arn:aws:iam::<mlops-prod-account-id>:role/SageMakerExecutionRole\"\n",
    "      },\n",
    "      \"Action\": [\n",
    "        \"ecr:BatchCheckLayerAvailability\",\n",
    "        \"ecr:BatchGetImage\",\n",
    "        \"ecr:GetDownloadUrlForLayer\"\n",
    "      ]\n",
    "    }\n",
    "  ]\n",
    "}"
   ]
  },
  {
   "cell_type": "markdown",
   "metadata": {},
   "source": [
    "You will see the following policy in ECR\n",
    "![](./img/11.png)"
   ]
  },
  {
   "cell_type": "markdown",
   "metadata": {},
   "source": [
    "You will see the sucess Information in the codebuild output and job name"
   ]
  },
  {
   "cell_type": "code",
   "execution_count": null,
   "metadata": {},
   "outputs": [],
   "source": [
    "Successfully installed boto3-1.10.46 botocore-1.13.46 idna-2.7 numpy-1.18.0 protobuf-3.11.2 protobuf3-to-dict-0.1.5 requests-2.20.1 sagemaker-1.49.0 scipy-1.4.1 smdebug-rulesconfig-0.1.2 urllib3-1.24.3 \n",
    "WARNING: You are using pip version 19.1.1, however version 19.3.1 is available. \n",
    "You should consider upgrading via the 'pip install --upgrade pip' command. \n",
    " \n",
    "[Container] 2020/01/06 12:47:22 Running command python trigger-beta-training.py $beta_access_key $beta_secret_key $mlops_account_id \n",
    "WARNING:root:pandas failed to import. Analytics features will be impaired or broken. \n",
    "job created at beta account: scikit-bring-your-own-2020-01-06-12-47-23 \n",
    " \n",
    "[Container] 2020/01/06 12:47:24 Phase complete: BUILD State: SUCCEEDED \n",
    "[Container] 2020/01/06 12:47:24 Phase context status code:  Message:  \n",
    "[Container] 2020/01/06 12:47:24 Entering phase POST_BUILD \n",
    "[Container] 2020/01/06 12:47:24 Phase complete: POST_BUILD State: SUCCEEDED \n",
    "[Container] 2020/01/06 12:47:24 Phase context status code:  Message:  "
   ]
  },
  {
   "cell_type": "markdown",
   "metadata": {},
   "source": [
    "In mlops-beta account, you will see SageMaker training job:\n",
    "![](./img/12.png)"
   ]
  },
  {
   "cell_type": "markdown",
   "metadata": {},
   "source": [
    "# Congradulations\n",
    "\n",
    "You done the following redbox in the architecture diagram\n",
    "![](./img/13.png)"
   ]
  },
  {
   "cell_type": "code",
   "execution_count": null,
   "metadata": {},
   "outputs": [],
   "source": []
  }
 ],
 "metadata": {
  "kernelspec": {
   "display_name": "Python 3",
   "language": "python",
   "name": "python3"
  },
  "language_info": {
   "codemirror_mode": {
    "name": "ipython",
    "version": 3
   },
   "file_extension": ".py",
   "mimetype": "text/x-python",
   "name": "python",
   "nbconvert_exporter": "python",
   "pygments_lexer": "ipython3",
   "version": "3.7.3"
  }
 },
 "nbformat": 4,
 "nbformat_minor": 2
}
