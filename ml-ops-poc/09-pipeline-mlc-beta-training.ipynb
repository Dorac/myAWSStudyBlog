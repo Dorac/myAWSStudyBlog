{
 "cells": [
  {
   "cell_type": "markdown",
   "metadata": {},
   "source": [
    "# Pipeline for mlc and beta-training\n",
    "\n",
    "## DevOps\n",
    "\n",
    "* acc: mlops-devops\n",
    "* IAM: mlops-devops-admin"
   ]
  },
  {
   "cell_type": "markdown",
   "metadata": {},
   "source": [
    "## Create pipeline\n",
    "\n",
    "* pipeline name: pipeline-mlc-beta-training\n",
    "\n",
    "### Source\n",
    "\n",
    "* Codecommit, repo: scikit_bring_your_own\n",
    "* Amazon CloudWatch Events (recommended)\n",
    "\n",
    "### Build\n",
    "\n",
    "* Codebuild, project: devops-mlc-scikit_bring_your_own\n",
    "\n",
    "![](./img/26.png)"
   ]
  },
  {
   "cell_type": "markdown",
   "metadata": {},
   "source": [
    "## Edit pipeline\n",
    "\n",
    "### Edit source\n",
    "\n",
    "* Action name: src-trigger-beta-training\n",
    "* Action provider: CodeCommit\n",
    "* repo: trigger-beta-training\n",
    "* Output artifacts: src-trigger-beta-training\n",
    "\n",
    "### Edit build\n",
    "\n",
    "Add **Action Group**\n",
    "\n",
    "* Action name: beta-training-scikit-bring-your-own\n",
    "* Action provider: CodeBuild\n",
    "* Input artifacts: src-trigger-beta-training\n",
    "* Project name: beta-training-scikit-bring-your-own\n",
    "\n",
    "![](./img/27.png)"
   ]
  },
  {
   "cell_type": "markdown",
   "metadata": {},
   "source": [
    "## Release the pipeline\n",
    "\n",
    "![](./img/28.png)"
   ]
  }
 ],
 "metadata": {
  "kernelspec": {
   "display_name": "Python 3",
   "language": "python",
   "name": "python3"
  },
  "language_info": {
   "codemirror_mode": {
    "name": "ipython",
    "version": 3
   },
   "file_extension": ".py",
   "mimetype": "text/x-python",
   "name": "python",
   "nbconvert_exporter": "python",
   "pygments_lexer": "ipython3",
   "version": "3.7.3"
  }
 },
 "nbformat": 4,
 "nbformat_minor": 2
}
