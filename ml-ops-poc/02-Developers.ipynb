{
 "cells": [
  {
   "cell_type": "markdown",
   "metadata": {},
   "source": [
    "# SageMaker Bring Your Own Container\n",
    "\n",
    "* Login into\n",
    "    * AWS Account: mlops-dev\n",
    "    * IAM: mlops-dev-developers\n",
    "    * region: `us-west-2`, Oregen\n",
    "\n",
    "## Run in your local cloud9\n",
    "* Create cloud9: name `my-sand-box`\n",
    "* follow the instruction [here](https://github.com/imyoungyang/myAWSStudyBlog/tree/master/SageMaker) to finish the SageMaker bring your own conatiner"
   ]
  },
  {
   "cell_type": "markdown",
   "metadata": {},
   "source": [
    "## Create Another cloud9 to commit code into DevOps\n",
    "\n",
    "* Cloud9 name: `my-mlops-works` description: `This cloud9 will commit codes into mlops-devops`\n",
    "* Turn off the `AWS managed temparary credentials`\n",
    "    ![](./img/04.png)"
   ]
  },
  {
   "cell_type": "markdown",
   "metadata": {},
   "source": [
    "## Setup the aws profile\n",
    "\n",
    "### mlops-dev-developers\n",
    "In the bash shell:\n",
    "\n",
    "* run command `aws configure`, and input IAM user `mlops-dev-developers` access and secrete keys\n",
    "    ![](./img/05.png)\n",
    "\n",
    "### mlops-devops-developers\n",
    "* aws account: mlops-devops\n",
    "* IAM user: mlops-devops-developers\n",
    "\n",
    "* `vim ~/.aws/config`"
   ]
  },
  {
   "cell_type": "code",
   "execution_count": null,
   "metadata": {},
   "outputs": [],
   "source": [
    "[default]\n",
    "output = json\n",
    "region = us-west-2\n",
    "\n",
    "[profile mlops-devops-developers]\n",
    "output = json\n",
    "region = us-west-2"
   ]
  },
  {
   "cell_type": "markdown",
   "metadata": {},
   "source": [
    "* vim ~/.aws/credentials"
   ]
  },
  {
   "cell_type": "code",
   "execution_count": null,
   "metadata": {},
   "outputs": [],
   "source": [
    "[default]\n",
    "aws_access_key_id = <mlops-dev-developers-access>\n",
    "aws_secret_access_key = <mlops-dev-developers-secret>\n",
    "\n",
    "[mlops-devops-developers]\n",
    "aws_access_key_id = <mlops-devops-developers-access>\n",
    "aws_secret_access_key = <mlops-devops-developers-secret>"
   ]
  },
  {
   "cell_type": "markdown",
   "metadata": {},
   "source": [
    "## Setup AWS CodeCommit Credential\n",
    "\n",
    "* vim ~/.gitconfig\n",
    "* add profile setting to mlops-devops-developers\n",
    "* aws-codecommit-across-multiple-aws-accounts [ref](https://aws.amazon.com/blogs/devops/using-git-with-aws-codecommit-across-multiple-aws-accounts/)"
   ]
  },
  {
   "cell_type": "code",
   "execution_count": null,
   "metadata": {},
   "outputs": [],
   "source": [
    "[credential]\n",
    "        helper = !aws --profile mlops-devops-developers codecommit credential-helper $@\n",
    "        UseHttpPath = true\n",
    "[core]\n",
    "        editor = /usr/bin/vim"
   ]
  },
  {
   "cell_type": "markdown",
   "metadata": {},
   "source": [
    "# Commit the code into the DevOps CodeCommit\n",
    "\n",
    "## create codecommit repo\n",
    "* `git clone https://github.com/awslabs/amazon-sagemaker-examples.git`\n",
    "* `cp -r amazon-sagemaker-examples/advanced_functionality/scikit_bring_your_own/ .`\n",
    "* `aws --profile mlops-devops-developers codecommit create-repository --repository-name scikit_bring_your_own`"
   ]
  },
  {
   "cell_type": "code",
   "execution_count": null,
   "metadata": {},
   "outputs": [],
   "source": [
    "mlops-dev-developers:~/environment $ aws --profile mlops-devops-developers codecommit create-repository --repository-name scikit_bring_your_own\n",
    "{\n",
    "    \"repositoryMetadata\": {\n",
    "        \"repositoryName\": \"scikit_bring_your_own\", \n",
    "        \"cloneUrlSsh\": \"ssh://git-codecommit.us-west-2.amazonaws.com/v1/repos/scikit_bring_your_own\", \n",
    "        \"lastModifiedDate\": 1578298385.069, \n",
    "        \"repositoryId\": \"4f39c591-e506-4e9d-ae1a-dfe73b6b628c\", \n",
    "        \"cloneUrlHttp\": \"https://git-codecommit.us-west-2.amazonaws.com/v1/repos/scikit_bring_your_own\", \n",
    "        \"creationDate\": 1578298385.069, \n",
    "        \"Arn\": \"arn:aws:codecommit:us-west-2:<mlops-devops-accountid>:scikit_bring_your_own\", \n",
    "        \"accountId\": \"<mlops-devops-accountid>\"\n",
    "    }\n",
    "}"
   ]
  },
  {
   "cell_type": "markdown",
   "metadata": {},
   "source": [
    "## setup the remote link\n",
    "* Copy the cloneUrlHttp in the response\n",
    "* `cd scikit_bring_your_own`\n",
    "* `git init`\n",
    "* `git remote add origin https://git-codecommit.us-west-2.amazonaws.com/v1/repos/scikit_bring_your_own`\n",
    "* `git remote -v`"
   ]
  },
  {
   "cell_type": "code",
   "execution_count": null,
   "metadata": {},
   "outputs": [],
   "source": [
    "mlops-dev-developers:~/environment/scikit_bring_your_own (master) $ git remote -v\n",
    "origin  https://git-codecommit.us-west-2.amazonaws.com/v1/repos/scikit_bring_your_own (fetch)\n",
    "origin  https://git-codecommit.us-west-2.amazonaws.com/v1/repos/scikit_bring_your_own (push)"
   ]
  },
  {
   "cell_type": "markdown",
   "metadata": {},
   "source": [
    "## commit the code into repository\n",
    "* `git status`\n",
    "* `git add .`\n",
    "* `git commit -m \"init commit\"`\n",
    "* `git push origin master -u`"
   ]
  },
  {
   "cell_type": "code",
   "execution_count": null,
   "metadata": {},
   "outputs": [],
   "source": [
    "mlops-dev-developers:~/environment/scikit_bring_your_own (master) $ git push origin master -u\n",
    "Counting objects: 31, done.\n",
    "Compressing objects: 100% (25/25), done.\n",
    "Writing objects: 100% (31/31), 33.68 KiB | 2.59 MiB/s, done.\n",
    "Total 31 (delta 0), reused 0 (delta 0)\n",
    "To https://git-codecommit.us-west-2.amazonaws.com/v1/repos/scikit_bring_your_own\n",
    " * [new branch]      master -> master\n",
    "Branch master set up to track remote branch master from origin."
   ]
  }
 ],
 "metadata": {
  "kernelspec": {
   "display_name": "Python 3",
   "language": "python",
   "name": "python3"
  },
  "language_info": {
   "codemirror_mode": {
    "name": "ipython",
    "version": 3
   },
   "file_extension": ".py",
   "mimetype": "text/x-python",
   "name": "python",
   "nbconvert_exporter": "python",
   "pygments_lexer": "ipython3",
   "version": "3.7.3"
  }
 },
 "nbformat": 4,
 "nbformat_minor": 2
}
