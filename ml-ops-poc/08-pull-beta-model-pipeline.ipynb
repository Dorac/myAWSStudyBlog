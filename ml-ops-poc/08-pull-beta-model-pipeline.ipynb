{
 "cells": [
  {
   "cell_type": "markdown",
   "metadata": {},
   "source": [
    "# Pipeline"
   ]
  },
  {
   "cell_type": "markdown",
   "metadata": {},
   "source": [
    "# Develoepr Account\n",
    "\n",
    "* acc: mlops-developers\n",
    "* IAM: dev-developers\n",
    "* cloud9: mlops-work"
   ]
  },
  {
   "cell_type": "markdown",
   "metadata": {},
   "source": [
    "## Version set\n",
    "\n",
    "* mkdir version-set-pull-beta\n",
    "* aws --profile mlops-devops-developers codecommit create-repository --repository-name version-set-pull-beta\n",
    "* cd version-set-pull-beta\n",
    "* git init\n",
    "* git remote add origin `<clone-url>`\n",
    "* git remote -v\n",
    "* touch pull-beta-model.json"
   ]
  },
  {
   "cell_type": "markdown",
   "metadata": {},
   "source": [
    "## pull-beta-model.json"
   ]
  },
  {
   "cell_type": "code",
   "execution_count": null,
   "metadata": {},
   "outputs": [],
   "source": [
    "{\n",
    "  \"job_name\": \"scikit-learn-2020-02-03-10-03-31-655\"\n",
    "}"
   ]
  },
  {
   "cell_type": "markdown",
   "metadata": {},
   "source": [
    "## DevOps account\n",
    "\n",
    "* acc: mlops-devops\n",
    "* IAM: devops-admin"
   ]
  },
  {
   "cell_type": "markdown",
   "metadata": {},
   "source": [
    "## Codebuild project\n",
    "\n",
    "* project name: devops-version-set-pull-beta\n",
    "* repo: version-set-pull-beta\n",
    "* buildspec.yml"
   ]
  },
  {
   "cell_type": "code",
   "execution_count": null,
   "metadata": {},
   "outputs": [],
   "source": [
    "version: 0.2\n",
    "\n",
    "env:\n",
    "  exported-variables:\n",
    "     - job_name\n",
    "\n",
    "phases:\n",
    "  install:\n",
    "    runtime-versions:\n",
    "      python: 3.8\n",
    "  build:\n",
    "    commands:\n",
    "      - job_name=$(cat pull-beta-model.json | jq -r '.job_name')"
   ]
  },
  {
   "cell_type": "markdown",
   "metadata": {},
   "source": [
    "* start project build and you can see the job_name is exported\n",
    "\n",
    "![](./img/17.png)"
   ]
  },
  {
   "cell_type": "markdown",
   "metadata": {},
   "source": [
    "# Create pipeline\n",
    "\n",
    "* service: codepipeline\n",
    "* name: pipeline-pull-training-model\n",
    "\n",
    "### source\n",
    "* source: codecommit\n",
    "* repo: version-set-pull-beta\n",
    "* Amazon CloudWatch Events (recommended)\n",
    "\n",
    "### build stage\n",
    "* codebuild: devops-version-set-pull-beta\n",
    "\n",
    "### skip deploy\n",
    "\n",
    "![](./img/18.png)"
   ]
  },
  {
   "cell_type": "markdown",
   "metadata": {},
   "source": [
    "## Add Source Stage\n",
    "\n",
    "### Add Action\n",
    "\n",
    "* name: pull-training-model\n",
    "* codecommit: pull-training-model\n",
    "* output artifact: pull-training-model\n",
    "\n",
    "![](./img/19.png)"
   ]
  },
  {
   "cell_type": "markdown",
   "metadata": {},
   "source": [
    "* Save source stage\n",
    "\n",
    "![](./img/20.png)"
   ]
  },
  {
   "cell_type": "markdown",
   "metadata": {},
   "source": [
    "## Edit Build Stage\n",
    "\n",
    "![](./img/21.png)"
   ]
  },
  {
   "cell_type": "markdown",
   "metadata": {},
   "source": [
    "* Variable namespace: version-set\n",
    "\n",
    "![](./img/23.png)"
   ]
  },
  {
   "cell_type": "markdown",
   "metadata": {},
   "source": [
    "## Add New Stage\n",
    "\n",
    "* StageName: pull-training-model\n",
    "* action name: devops-pull-model\n",
    "* provider: codebuild\n",
    "* Input artifacts: pull-training-model\n",
    "\n",
    "### Add environment variables\n",
    "* name: job_name\n",
    "* value: `#{version-set.job_name}`"
   ]
  },
  {
   "cell_type": "markdown",
   "metadata": {},
   "source": [
    "![](./img/22.png)"
   ]
  },
  {
   "cell_type": "markdown",
   "metadata": {},
   "source": [
    "# Start pipeline to pull training model\n",
    "\n",
    "![](./img/24.png)"
   ]
  },
  {
   "cell_type": "markdown",
   "metadata": {},
   "source": [
    "### Click on the pull-training-model detail\n",
    "\n",
    "You can see the codebuild project is triggered by the pipeline and pass the environment variable from the previous codebuild - version set\n",
    "\n",
    "![](./img/25.png)"
   ]
  },
  {
   "cell_type": "code",
   "execution_count": null,
   "metadata": {},
   "outputs": [],
   "source": []
  }
 ],
 "metadata": {
  "kernelspec": {
   "display_name": "Python 3",
   "language": "python",
   "name": "python3"
  },
  "language_info": {
   "codemirror_mode": {
    "name": "ipython",
    "version": 3
   },
   "file_extension": ".py",
   "mimetype": "text/x-python",
   "name": "python",
   "nbconvert_exporter": "python",
   "pygments_lexer": "ipython3",
   "version": "3.7.3"
  }
 },
 "nbformat": 4,
 "nbformat_minor": 2
}
