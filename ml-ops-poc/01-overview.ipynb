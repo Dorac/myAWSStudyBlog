{
 "cells": [
  {
   "cell_type": "markdown",
   "metadata": {},
   "source": [
    "# Overview\n",
    "\n",
    "In the ml-ops workshop, we will create the following architecture diagram. It will cover four AWS accounts:\n",
    "\n",
    "- Dev\n",
    "- DevOps\n",
    "- Beta\n",
    "- Prod\n",
    "\n",
    "The workflow will be as the following:\n",
    "1. The developers will work at `Dev` AWS account. Push the code into `DevOps` AWS account.\n",
    "2. The CodeCommit in `DevOps` account will trigger `CodeBuild` to create ML container and to push into `ECR`\n",
    "3. The `CodeBuild` project will trigger SageMaker training job in QA environment.\n",
    "4. The `CodeBuild` project will pull model from QA to DevOps account SageMaker model.\n",
    "5. The `Codebuild` project will push model into PROD.\n",
    "\n",
    "![](./img/arch.png)"
   ]
  },
  {
   "cell_type": "markdown",
   "metadata": {},
   "source": [
    "# Account Setup\n",
    "\n",
    "In the AWS Orgnization, create the four accounts and setup the `Admin` role to assume:\n",
    "* mlops-dev\n",
    "* mlops-devops\n",
    "* mlops-beta\n",
    "* mlops-prod\n",
    "\n",
    "![](./img/01.png)"
   ]
  },
  {
   "cell_type": "markdown",
   "metadata": {},
   "source": [
    "# Switch Role between Accounts\n",
    "\n",
    "Switch role between different accounts and create IAM users for different account.\n",
    "![](./img/02.png)\n",
    "![](./img/03.png)"
   ]
  },
  {
   "cell_type": "markdown",
   "metadata": {},
   "source": [
    "# Create IAM user in each account\n",
    "\n",
    "### mlops-dev\n",
    "\n",
    "* IAM User: mlops-dev-developers\n",
    "* Group: dev-developers\n",
    "* Policy: AdministratorAccess\n",
    "\n",
    "### mlops-devops\n",
    "\n",
    "This IAM user is to let AWS account `mlpoc-developers` to commit codes.\n",
    "\n",
    "* IAM User: mlops-devops-developers\n",
    "* Group: devops-developers\n",
    "* Policy: AWSCodeCommitFullAccess\n",
    "\n",
    "\n",
    "* IAM User: mlops-devops-admin\n",
    "* Group: devops-admin\n",
    "* Policy: AdministratorAccess\n",
    "\n",
    "### mlops-beta\n",
    "\n",
    "* IAM User: mlops-beta-sagemaker\n",
    "* Group: beta-sagemaker\n",
    "* Policy: AmazonSageMakerFullAccess\n",
    "\n",
    "\n",
    "* IAM User: mlops-beta-admin\n",
    "* Group: beta-admin\n",
    "* Policy: AdministratorAccess\n",
    "\n",
    "### mlops-prod\n",
    "\n",
    "* IAM User: mlops-prod-sagemaker\n",
    "* Group: prod-sagemaker\n",
    "* Policy: AmazonSageMakerFullAccess\n",
    "\n",
    "\n",
    "* IAM User: mlops-prod-admin\n",
    "* Group: prod-admin\n",
    "* Policy: AdministratorAccess\n",
    "\n",
    "\n",
    "**Please save each IAM users' access and screte keys**\n"
   ]
  },
  {
   "cell_type": "code",
   "execution_count": null,
   "metadata": {},
   "outputs": [],
   "source": []
  }
 ],
 "metadata": {
  "kernelspec": {
   "display_name": "Python 3",
   "language": "python",
   "name": "python3"
  },
  "language_info": {
   "codemirror_mode": {
    "name": "ipython",
    "version": 3
   },
   "file_extension": ".py",
   "mimetype": "text/x-python",
   "name": "python",
   "nbconvert_exporter": "python",
   "pygments_lexer": "ipython3",
   "version": "3.7.3"
  }
 },
 "nbformat": 4,
 "nbformat_minor": 2
}
