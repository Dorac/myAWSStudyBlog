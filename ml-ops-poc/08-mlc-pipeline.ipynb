{
 "cells": [
  {
   "cell_type": "markdown",
   "metadata": {},
   "source": [
    "# Create pipeline to auto create machine learning container\n",
    "\n",
    "## DevOps account\n",
    "\n",
    "* acc: mlops-devops\n",
    "* IAM: devops-admin\n",
    "\n",
    "## Codepipeline services\n",
    "\n",
    "* "
   ]
  },
  {
   "cell_type": "markdown",
   "metadata": {},
   "source": [
    "## Version set\n",
    "\n",
    "* acc: mlops-developers\n",
    "* IAM: dev-developers\n",
    "\n",
    "* mkdir version-set-pull-beta\n",
    "* aws --profile mlops-devops-developers codecommit create-repository --repository-name version-set-pull-beta\n",
    "* cd version-set-pull-beta\n",
    "* git init\n",
    "* git remote add origin `<clone-url>`\n",
    "* touch pull-beta-model.json\n",
    "\n",
    "### pull-beta-model.json"
   ]
  },
  {
   "cell_type": "code",
   "execution_count": null,
   "metadata": {},
   "outputs": [],
   "source": [
    "{\n",
    "  \"job_name\": \"scikit-learn-2020-02-03-10-03-31-655\"\n",
    "}"
   ]
  },
  {
   "cell_type": "markdown",
   "metadata": {},
   "source": [
    "## Codebuild project\n",
    "\n",
    "* project name: devops-version-set-pull-beta\n"
   ]
  }
 ],
 "metadata": {
  "kernelspec": {
   "display_name": "Python 3",
   "language": "python",
   "name": "python3"
  },
  "language_info": {
   "codemirror_mode": {
    "name": "ipython",
    "version": 3
   },
   "file_extension": ".py",
   "mimetype": "text/x-python",
   "name": "python",
   "nbconvert_exporter": "python",
   "pygments_lexer": "ipython3",
   "version": "3.7.3"
  }
 },
 "nbformat": 4,
 "nbformat_minor": 2
}
