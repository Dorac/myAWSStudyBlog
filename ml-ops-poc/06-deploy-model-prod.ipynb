{
 "cells": [
  {
   "cell_type": "markdown",
   "metadata": {},
   "source": [
    "# Deploy model to prod environment\n",
    "\n",
    "## dev account\n",
    "\n",
    "Login AWS console:\n",
    "\n",
    "* aws login account: mlops-dev\n",
    "* user: mlops-dev-developers\n",
    "\n",
    "Open the cloud9 - my-mlops-works"
   ]
  },
  {
   "cell_type": "markdown",
   "metadata": {},
   "source": [
    "## Deploy model to prod script\n",
    "\n",
    "* mkdir deploy-model-to-prod\n",
    "* aws --profile mlops-devops-developers codecommit create-repository --repository-name deploy-model-to-prod\n",
    "* cd deploy-model-to-prod\n",
    "* git init\n",
    "* git remote add origin https://git-codecommit.us-west-2.amazonaws.com/v1/repos/deploy-model-to-prod\n",
    "* git remote -v\n",
    "* touch deploy-model-to-prod.py\n",
    "\n",
    "Paste the following codes and commit the code into codecommit"
   ]
  },
  {
   "cell_type": "markdown",
   "metadata": {},
   "source": [
    "## deploy-model-to-prod.py"
   ]
  },
  {
   "cell_type": "code",
   "execution_count": null,
   "metadata": {},
   "outputs": [],
   "source": [
    "import boto3, sys\n",
    "from urllib.parse import urlparse\n",
    "\n",
    "prod_access_key = sys.argv[1]\n",
    "prod_secrete_key = sys.argv[2]\n",
    "model_name = sys.argv[3]\n",
    "prod_md_bucket = sys.argv[4]\n",
    "\n",
    "# devops sagemaker\n",
    "sm_devops = boto3.client('sagemaker')\n",
    "s3_devops = boto3.client('s3')\n",
    "resp = sm_devops.describe_model(ModelName=model_name)\n",
    "\n",
    "# prod sagemaker\n",
    "ss_prod = boto3.Session(aws_access_key_id=prod_access_key, aws_secret_access_key=prod_secrete_key)\n",
    "sm_prod = ss_prod.client('sagemaker')\n",
    "s3_prod = ss_prod.client('s3')\n",
    "account_prod = ss_prod.client('sts').get_caller_identity()['Account']\n",
    "\n",
    "# copy model to prod s3\n",
    "md_url_devops = resp['PrimaryContainer']['ModelDataUrl']\n",
    "output = urlparse(md_url_devops)\n",
    "devops_md_bucket = output.netloc\n",
    "devops_md_key = output.path.lstrip('/')\n",
    "source_response = s3_devops.get_object(Bucket=devops_md_bucket, Key=devops_md_key)\n",
    "s3_prod.upload_fileobj(source_response['Body'],prod_md_bucket,devops_md_key)\n",
    "\n",
    "# config prod model parameters\n",
    "image = resp['PrimaryContainer']['Image']\n",
    "modelDataUrl = 's3://{}/{}'.format(prod_md_bucket,devops_md_key)\n",
    "model_arn = resp['ModelArn']\n",
    "role = 'arn:aws:iam::{}:role/SageMakerExecutionRole'.format(account_prod)\n",
    "\n",
    "# create prod model\n",
    "create_model_response = sm_prod.create_model(\n",
    "    ModelName=model_name,\n",
    "    ExecutionRoleArn=role,\n",
    "    PrimaryContainer={\n",
    "        'Image': image,\n",
    "        'ModelDataUrl': modelDataUrl},\n",
    "    Tags=[{\"Key\": \"model_arn\",\"Value\": model_arn}])\n",
    "\n",
    "print(create_model_response['ModelArn'])"
   ]
  },
  {
   "cell_type": "markdown",
   "metadata": {},
   "source": [
    "# Config prod account\n",
    "\n",
    "Login AWS console:\n",
    "\n",
    "* aws login account: mlops-prod\n",
    "* user: mlops-prod-admin"
   ]
  },
  {
   "cell_type": "markdown",
   "metadata": {},
   "source": [
    "## Create S3 bucket\n",
    "\n",
    "* bucket name: `prod-sagemaker-repo-us-west-2`"
   ]
  },
  {
   "cell_type": "markdown",
   "metadata": {},
   "source": [
    "## Configure SageMaker Execution Role\n",
    "\n",
    "Add the following policy: `prod-sagemaker-policy`"
   ]
  },
  {
   "cell_type": "code",
   "execution_count": null,
   "metadata": {},
   "outputs": [],
   "source": [
    "{\n",
    "    \"Version\": \"2012-10-17\",\n",
    "    \"Statement\": [\n",
    "        {\n",
    "            \"Sid\": \"VisualEditor0\",\n",
    "            \"Effect\": \"Allow\",\n",
    "            \"Action\": [\n",
    "                \"s3:GetObject\",\n",
    "                \"ecr:GetDownloadUrlForLayer\",\n",
    "                \"ecr:BatchGetImage\",\n",
    "                \"ecr:BatchCheckLayerAvailability\"\n",
    "            ],\n",
    "            \"Resource\": [\n",
    "                \"arn:aws:ecr:*:<devops-account-id>:repository/*\",\n",
    "                \"arn:aws:s3:::beta-sagemaker-repo*/*\"\n",
    "            ]\n",
    "        }\n",
    "    ]\n",
    "}"
   ]
  },
  {
   "cell_type": "markdown",
   "metadata": {},
   "source": [
    "# DevOps account\n",
    "\n",
    "Login AWS console:\n",
    "\n",
    "* aws login account: mlops-devops\n",
    "* user:  mlops-devops-admin"
   ]
  },
  {
   "cell_type": "markdown",
   "metadata": {},
   "source": [
    "## Secret Manger\n",
    "\n",
    "* name: prod/sagemaker\n",
    "* description: production sagemaker account\n",
    "* keys: prod-sagemaker-access and prod-sagemaker-secret"
   ]
  },
  {
   "cell_type": "markdown",
   "metadata": {},
   "source": [
    "## S3 Bucket Policy\n",
    "\n",
    "Add bucket policy to devops-sagemaker-repo-us-west-2"
   ]
  },
  {
   "cell_type": "code",
   "execution_count": null,
   "metadata": {},
   "outputs": [],
   "source": [
    "{\n",
    "    \"Version\": \"2012-10-17\",\n",
    "    \"Statement\": [\n",
    "        {\n",
    "            \"Effect\": \"Allow\",\n",
    "            \"Principal\": {\n",
    "                \"AWS\": \"arn:aws:iam::<mlops-prod-accountid>:role/SageMakerExecutionRole\"\n",
    "            },\n",
    "            \"Action\": \"s3:GetObject\",\n",
    "            \"Resource\": \"arn:aws:s3:::devops-sagemaker-repo-us-west-2/*\"\n",
    "        }\n",
    "    ]\n",
    "}"
   ]
  },
  {
   "cell_type": "markdown",
   "metadata": {},
   "source": [
    "## Codebuild\n",
    "\n",
    "* project name: `prod-deploy-model`\n",
    "* description: `deploy model into production`\n",
    "* repo: `deploy-model-to-prod`\n",
    "* image: amazonlinux2\n",
    "* role: `codebuild-prod-deploy-model-service-role`"
   ]
  },
  {
   "cell_type": "code",
   "execution_count": null,
   "metadata": {},
   "outputs": [],
   "source": [
    "version: 0.2\n",
    "\n",
    "env:\n",
    "  variables:\n",
    "     model_name: \"<model_name>\"\n",
    "     prod_md_bucket: \"prod-sagemaker-repo-us-west-2\"\n",
    "  secrets-manager:\n",
    "     prod_access_key: prod/sagemaker:prod-sagemaker-access\n",
    "     prod_secret_key: prod/sagemaker:prod-sagemaker-secret\n",
    "phases:\n",
    "  install:\n",
    "    runtime-versions:\n",
    "      python: 3.8\n",
    "  build:\n",
    "    commands:\n",
    "      - python deploy-model-to-prod.py $prod_access_key $prod_secret_key $model_name $prod_md_bucket       "
   ]
  },
  {
   "cell_type": "markdown",
   "metadata": {},
   "source": [
    "## Add IAM Policy to service role\n",
    "\n",
    "* role: codebuild-prod-deploy-model-service-role\n",
    "* inline policy name: `codebuild-prod-deploy-model`"
   ]
  },
  {
   "cell_type": "code",
   "execution_count": null,
   "metadata": {},
   "outputs": [],
   "source": [
    "{\n",
    "    \"Version\": \"2012-10-17\",\n",
    "    \"Statement\": [\n",
    "        {\n",
    "            \"Sid\": \"VisualEditor0\",\n",
    "            \"Effect\": \"Allow\",\n",
    "            \"Action\": [\n",
    "                \"s3:GetObject\",\n",
    "                \"secretsmanager:GetSecretValue\",\n",
    "                \"sagemaker:DescribeModel\"\n",
    "            ],\n",
    "            \"Resource\": [\n",
    "                \"arn:aws:secretsmanager:*:*:secret:prod/sagemaker-*\",\n",
    "                \"arn:aws:sagemaker:*:*:model/*\",\n",
    "                \"arn:aws:s3:::devops-sagemaker-repo*/*\"\n",
    "            ]\n",
    "        }\n",
    "    ]\n",
    "}"
   ]
  },
  {
   "cell_type": "markdown",
   "metadata": {},
   "source": [
    "## Start Build\n",
    "\n",
    "add environment variables\n",
    "\n",
    "* model_name and value\n",
    "* prod_md_bucket"
   ]
  },
  {
   "cell_type": "markdown",
   "metadata": {},
   "source": [
    "# Congraduation\n",
    "\n",
    "You deploy the model to prod\n",
    "\n",
    "![](./img/16.png)"
   ]
  },
  {
   "cell_type": "code",
   "execution_count": null,
   "metadata": {},
   "outputs": [],
   "source": []
  }
 ],
 "metadata": {
  "kernelspec": {
   "display_name": "Python 3",
   "language": "python",
   "name": "python3"
  },
  "language_info": {
   "codemirror_mode": {
    "name": "ipython",
    "version": 3
   },
   "file_extension": ".py",
   "mimetype": "text/x-python",
   "name": "python",
   "nbconvert_exporter": "python",
   "pygments_lexer": "ipython3",
   "version": "3.7.3"
  }
 },
 "nbformat": 4,
 "nbformat_minor": 2
}
