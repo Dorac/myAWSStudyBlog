{
 "cells": [
  {
   "cell_type": "markdown",
   "metadata": {},
   "source": [
    "# Deploy model to prod environment\n",
    "\n",
    "## dev account\n",
    "\n",
    "Login AWS console:\n",
    "\n",
    "* aws login account: mlops-dev\n",
    "* user: mlops-dev-developers\n",
    "\n",
    "Open the cloud9 - my-mlops-works"
   ]
  },
  {
   "cell_type": "markdown",
   "metadata": {},
   "source": [
    "## Deploy model to prod script\n",
    "\n",
    "* mkdir deploy-model-to-prod\n",
    "* aws --profile mlops-devops-developers codecommit create-repository --repository-name deploy-model-to-prod\n",
    "* cd deploy-model-to-prod\n",
    "* git init\n",
    "* git remote add origin https://git-codecommit.us-west-2.amazonaws.com/v1/repos/deploy-model-to-prod\n",
    "* git remote -v\n",
    "* touch deploy-model-to-prod.py\n",
    "\n",
    "Paste the following codes and commit the code into codecommit"
   ]
  },
  {
   "cell_type": "markdown",
   "metadata": {},
   "source": [
    "## deploy-model-to-prod.py"
   ]
  },
  {
   "cell_type": "code",
   "execution_count": null,
   "metadata": {},
   "outputs": [],
   "source": [
    "import boto3, sys\n",
    "\n",
    "prod_access_key = sys.argv[1]\n",
    "prod_secrete_key = sys.argv[2]\n",
    "model_name = sys.argv[3]\n",
    "\n",
    "# devops sagemaker\n",
    "sm = boto3.client('sagemaker')\n",
    "resp = sm.describe_model(ModelName=model_name)\n",
    "\n",
    "# prod sagemaker\n",
    "sess_prod = boto3.Session(aws_access_key_id=prod_access_key, aws_secret_access_key=prod_secrete_key)\n",
    "sm_prod = sess_prod.client('sagemaker')\n",
    "prod_account = sess_prod.client('sts').get_caller_identity()['Account']\n",
    "\n",
    "image = resp['PrimaryContainer']['Image']\n",
    "modelDataUrl = resp['PrimaryContainer']['ModelDataUrl']\n",
    "model_arn = resp['ModelArn']\n",
    "role = 'arn:aws:iam::{}:role/SageMakerExecutionRole'.format(prod_account)\n",
    "\n",
    "# create prod model\n",
    "create_model_response = sm_prod.create_model(\n",
    "    ModelName=model_name,\n",
    "    ExecutionRoleArn=role,\n",
    "    PrimaryContainer={\n",
    "        'Image': image,\n",
    "        'ModelDataUrl': modelDataUrl},\n",
    "    Tags=[{\"Key\": \"model_arn\",\"Value\": model_arn}])\n",
    "\n",
    "print(create_model_response['ModelArn'])"
   ]
  },
  {
   "cell_type": "markdown",
   "metadata": {},
   "source": [
    "## Config prod account\n",
    "\n",
    "Login AWS console:\n",
    "\n",
    "aws login account: mlops-prod\n",
    "user: mlops-prod-admin\n",
    "\n",
    "##"
   ]
  }
 ],
 "metadata": {
  "kernelspec": {
   "display_name": "Python 3",
   "language": "python",
   "name": "python3"
  },
  "language_info": {
   "codemirror_mode": {
    "name": "ipython",
    "version": 3
   },
   "file_extension": ".py",
   "mimetype": "text/x-python",
   "name": "python",
   "nbconvert_exporter": "python",
   "pygments_lexer": "ipython3",
   "version": "3.7.3"
  }
 },
 "nbformat": 4,
 "nbformat_minor": 2
}
