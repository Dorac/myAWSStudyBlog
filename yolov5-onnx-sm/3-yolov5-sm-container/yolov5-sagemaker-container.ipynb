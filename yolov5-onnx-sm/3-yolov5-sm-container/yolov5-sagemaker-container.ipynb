{
 "cells": [
  {
   "cell_type": "markdown",
   "metadata": {},
   "source": [
    "# Amazon Deep Learning Container\n",
    "\n",
    "* Container Images List [link](https://github.com/aws/deep-learning-containers/blob/master/available_images.md)\n",
    "* pytorch training: `763104351884.dkr.ecr.us-east-1.amazonaws.com/pytorch-training:1.5.1-gpu-py36-cu101-ubuntu16.04`"
   ]
  },
  {
   "cell_type": "code",
   "execution_count": null,
   "metadata": {},
   "outputs": [],
   "source": [
    "./build-and-push.sh yolov5\n",
    "docker run -it yolov5"
   ]
  },
  {
   "cell_type": "code",
   "execution_count": null,
   "metadata": {},
   "outputs": [],
   "source": [
    "python /opt/yolov5/train.py --help"
   ]
  },
  {
   "cell_type": "code",
   "execution_count": null,
   "metadata": {},
   "outputs": [],
   "source": [
    "docker run -v $(pwd)/test_dir:/opt/ml -it --rm yolov5 bash\n",
    "nvidia-docker run -v $(pwd)/test_dir:/opt/ml --rm ${image} train"
   ]
  },
  {
   "cell_type": "code",
   "execution_count": null,
   "metadata": {},
   "outputs": [],
   "source": [
    "python train.py --img 640 --batch 16 --epochs 5 --data ./data/coco128.yaml --cfg ./models/yolov5s.yaml --weights ''"
   ]
  },
  {
   "cell_type": "code",
   "execution_count": null,
   "metadata": {},
   "outputs": [],
   "source": [
    "python /opt/yolov5/train.py --img 640 --batch 16 --epochs 5 --data /opt/ml/input/data/cfg/coco128.yaml \\\n",
    "--cfg /opt/ml/input/data/cfg/yolov5s.yaml --weights /opt/ml/input/data/weights/yolov5s.pt"
   ]
  },
  {
   "cell_type": "code",
   "execution_count": null,
   "metadata": {},
   "outputs": [],
   "source": [
    "## log directory\n",
    "tb_writer = SummaryWriter(log_dir=increment_dir('runs/exp', opt.name))"
   ]
  },
  {
   "cell_type": "code",
   "execution_count": null,
   "metadata": {},
   "outputs": [],
   "source": [
    "def increment_dir(dir, comment=''):\n",
    "    # Increments a directory runs/exp1 --> runs/exp2_comment\n",
    "    n = 0  # number\n",
    "    dir = str(Path(dir))  # os-agnostic\n",
    "    d = sorted(glob.glob(dir + '*'))  # directories\n",
    "    if len(d):\n",
    "        n = max([int(x[len(dir):x.find('_') if '_' in x else None]) for x in d]) + 1  # increment\n",
    "    return dir + str(n) + ('_' + comment if comment else '')"
   ]
  }
 ],
 "metadata": {
  "kernelspec": {
   "display_name": "conda_pytorch_p36",
   "language": "python",
   "name": "conda_pytorch_p36"
  },
  "language_info": {
   "codemirror_mode": {
    "name": "ipython",
    "version": 3
   },
   "file_extension": ".py",
   "mimetype": "text/x-python",
   "name": "python",
   "nbconvert_exporter": "python",
   "pygments_lexer": "ipython3",
   "version": "3.6.10"
  }
 },
 "nbformat": 4,
 "nbformat_minor": 4
}
