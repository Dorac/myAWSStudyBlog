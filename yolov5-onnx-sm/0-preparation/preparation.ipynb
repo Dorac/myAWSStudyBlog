{
 "cells": [
  {
   "cell_type": "markdown",
   "metadata": {},
   "source": [
    "# Download prebuild yolov5 onnx with detect layer model"
   ]
  },
  {
   "cell_type": "code",
   "execution_count": null,
   "metadata": {},
   "outputs": [],
   "source": [
    "!wget 'https://tinyurl.com/y4kx5uky' -O {fp_common+'/yolov5s_detect.onnx'}"
   ]
  },
  {
   "cell_type": "markdown",
   "metadata": {},
   "source": [
    "# Download pretrained model from internet\n",
    "\n",
    "Provide another way to download the pretrained model from google drive directly without loading yolov5 source code"
   ]
  },
  {
   "cell_type": "code",
   "execution_count": null,
   "metadata": {},
   "outputs": [],
   "source": [
    "gfid_yolov5s = '1R5T6rIyy3lLwgFXNms8whc-387H0tMQO'\n",
    "fp_out = fp_common + '/yolov5s.pt'\n",
    "!wget --no-check-certificate 'https://docs.google.com/uc?export=download&id={gfid_yolov5s}' -O {fp_out}"
   ]
  },
  {
   "cell_type": "markdown",
   "metadata": {},
   "source": [
    "# Download YoloV5 github source codes and related pretrained models (Optional)"
   ]
  },
  {
   "cell_type": "code",
   "execution_count": null,
   "metadata": {},
   "outputs": [],
   "source": [
    "# Download YoloV5 github source codes\n",
    "!git clone https://github.com/ultralytics/yolov5 ../yolov5"
   ]
  },
  {
   "cell_type": "code",
   "execution_count": null,
   "metadata": {},
   "outputs": [],
   "source": [
    "import os, sys\n",
    "fp_common = os.path.abspath(os.getcwd() + '/..')\n",
    "fp_yolov5 = os.path.abspath(os.getcwd() + '/../yolov5')\n",
    "sys.path.append(fp_yolov5)\n",
    "sys.path"
   ]
  },
  {
   "cell_type": "code",
   "execution_count": null,
   "metadata": {},
   "outputs": [],
   "source": [
    "%cd fp_yolov5\n",
    "!python -c \"from utils.google_utils import *; attempt_download('weights/yolov5s.pt');\""
   ]
  },
  {
   "cell_type": "code",
   "execution_count": null,
   "metadata": {},
   "outputs": [],
   "source": [
    "!cp {fp_yolov5+'/weights/yolov5s.pt'} {fp_common}\n",
    "!ls {fp_common}"
   ]
  },
  {
   "cell_type": "markdown",
   "metadata": {},
   "source": [
    "# Add custom kernal into SageMaker jupyter notebook (Optional)\n",
    "\n",
    "This is optional. The cool thing is that you don't need to install the same packages again for each notebooks.\n",
    "\n",
    "Open a terminal and then:\n",
    "\n",
    "```\n",
    "bash\n",
    "conda create --clone pytorch_latest_p36 --name pytorch_yolo\n",
    "conda activate pytorch_yolo\n",
    "pip install tensorboard onnx torch torchvision --upgrade\n",
    "python -m ipykernel install --user --name=pytorch_yolo\n",
    "```\n",
    "\n",
    "After that, reload your jupyternotebook in the browser. You can see \"pytorch15_yolo\" in your drop down menu.\n",
    "\n",
    "If you want to remove kernal, use the following command:\n",
    "\n",
    "```\n",
    "jupyter kernelspec uninstall pytorch_yolo\n",
    "```\n",
    "\n",
    "### references\n",
    "\n",
    "* jupyter kernal [link](https://ipython.readthedocs.io/en/stable/install/kernel_install.html)\n",
    "* conda env list\n",
    "* conda env remove --name pytorch15_yolo"
   ]
  },
  {
   "cell_type": "code",
   "execution_count": null,
   "metadata": {},
   "outputs": [],
   "source": []
  }
 ],
 "metadata": {
  "kernelspec": {
   "display_name": "conda_pytorch_p36",
   "language": "python",
   "name": "conda_pytorch_p36"
  },
  "language_info": {
   "codemirror_mode": {
    "name": "ipython",
    "version": 3
   },
   "file_extension": ".py",
   "mimetype": "text/x-python",
   "name": "python",
   "nbconvert_exporter": "python",
   "pygments_lexer": "ipython3",
   "version": "3.6.10"
  }
 },
 "nbformat": 4,
 "nbformat_minor": 4
}
