{
 "cells": [
  {
   "cell_type": "code",
   "execution_count": null,
   "metadata": {},
   "outputs": [],
   "source": [
    "!pip install onnxruntime"
   ]
  },
  {
   "cell_type": "code",
   "execution_count": 1,
   "metadata": {},
   "outputs": [],
   "source": [
    "from sagemaker import s3, session, get_execution_role\n",
    "from datetime import datetime\n",
    "import tarfile, onnxruntime, boto3"
   ]
  },
  {
   "cell_type": "markdown",
   "metadata": {},
   "source": [
    "# tar the model data and upload to s3\n",
    "\n",
    "upload to s3 bucket"
   ]
  },
  {
   "cell_type": "code",
   "execution_count": 2,
   "metadata": {},
   "outputs": [],
   "source": [
    "# bucket = session.Session().default_bucket()\n",
    "bucket = 'beyoung-sm-yolo5'\n",
    "s3path = f's3://{bucket}/model/onnx'\n",
    "fn_gz = 'yolov5s_onnx_model.tar.gz'\n",
    "fn_model = 'yolov5s_detect.onnx'"
   ]
  },
  {
   "cell_type": "code",
   "execution_count": 3,
   "metadata": {},
   "outputs": [],
   "source": [
    "# copy onnx model\n",
    "!cp ../0-yolov5-onnx/{fn_model} {fn_model}"
   ]
  },
  {
   "cell_type": "code",
   "execution_count": 4,
   "metadata": {},
   "outputs": [],
   "source": [
    "with tarfile.open(fn_gz, mode='w:gz') as archive:\n",
    "    archive.add(fn_model)\n",
    "s3uri_model = s3.S3Uploader.upload(fn_gz, s3path)"
   ]
  },
  {
   "cell_type": "code",
   "execution_count": 5,
   "metadata": {},
   "outputs": [
    {
     "data": {
      "text/plain": [
       "'s3://beyoung-sm-yolo5/model/onnx/yolov5s_onnx_model.tar.gz'"
      ]
     },
     "execution_count": 5,
     "metadata": {},
     "output_type": "execute_result"
    }
   ],
   "source": [
    "s3uri_model"
   ]
  },
  {
   "cell_type": "markdown",
   "metadata": {},
   "source": [
    "# Find ONNX model input name and shape"
   ]
  },
  {
   "cell_type": "code",
   "execution_count": 6,
   "metadata": {},
   "outputs": [
    {
     "name": "stdout",
     "output_type": "stream",
     "text": [
      "input_lens: 1 \n",
      " input_name:images input_shape:[1, 3, 640, 640] input_type:tensor(float)\n"
     ]
    }
   ],
   "source": [
    "session = onnxruntime.InferenceSession(fn_model)\n",
    "session.get_modelmeta()\n",
    "\n",
    "input_lens = len(session.get_inputs())\n",
    "input_name = session.get_inputs()[0].name\n",
    "input_shape = session.get_inputs()[0].shape\n",
    "input_type = session.get_inputs()[0].type\n",
    "\n",
    "print(f'input_lens: {input_lens} \\n input_name:{input_name} input_shape:{input_shape} input_type:{input_type}')"
   ]
  },
  {
   "cell_type": "markdown",
   "metadata": {},
   "source": [
    "# SageMaker Neo Compression"
   ]
  },
  {
   "cell_type": "code",
   "execution_count": 7,
   "metadata": {},
   "outputs": [
    {
     "data": {
      "text/plain": [
       "'data_input: {\"images\":[1, 3, 640, 640]} job: yolo-onnx-neo-2020-07-23-10-10'"
      ]
     },
     "execution_count": 7,
     "metadata": {},
     "output_type": "execute_result"
    }
   ],
   "source": [
    "client = boto3.client('sagemaker')\n",
    "role = get_execution_role()\n",
    "\n",
    "job_name = 'yolo-onnx-neo-' + datetime.now().strftime(\"%Y-%m-%d-%H-%M\")\n",
    "s3uri_output = f's3://{bucket}/model/onnx/neo'\n",
    "data_input = f'{{\"{input_name}\":{input_shape}}}'\n",
    "\n",
    "f'data_input: {data_input} job: {job_name}'"
   ]
  },
  {
   "cell_type": "code",
   "execution_count": 8,
   "metadata": {},
   "outputs": [
    {
     "data": {
      "text/plain": [
       "{'CompilationJobArn': 'arn:aws:sagemaker:us-west-2:476271697919:compilation-job/yolo-onnx-neo-2020-07-23-10-10',\n",
       " 'ResponseMetadata': {'RequestId': '8080dfcf-19a5-4146-a55a-1a5c49f17048',\n",
       "  'HTTPStatusCode': 200,\n",
       "  'HTTPHeaders': {'x-amzn-requestid': '8080dfcf-19a5-4146-a55a-1a5c49f17048',\n",
       "   'content-type': 'application/x-amz-json-1.1',\n",
       "   'content-length': '111',\n",
       "   'date': 'Thu, 23 Jul 2020 10:10:24 GMT'},\n",
       "  'RetryAttempts': 0}}"
      ]
     },
     "execution_count": 8,
     "metadata": {},
     "output_type": "execute_result"
    }
   ],
   "source": [
    "response = client.create_compilation_job(\n",
    "    CompilationJobName=job_name,\n",
    "    RoleArn=role,\n",
    "    InputConfig={\n",
    "        'S3Uri': s3uri_model,\n",
    "        'DataInputConfig': data_input,\n",
    "        'Framework': 'ONNX'\n",
    "    },\n",
    "    OutputConfig={\n",
    "        'S3OutputLocation': s3uri_output,\n",
    "        'TargetDevice': 'deeplens'\n",
    "    },\n",
    "    StoppingCondition={\n",
    "        'MaxRuntimeInSeconds': 600,\n",
    "        'MaxWaitTimeInSeconds': 600\n",
    "    }\n",
    ")\n",
    "response"
   ]
  },
  {
   "cell_type": "markdown",
   "metadata": {},
   "source": [
    "# Describe the compile job result"
   ]
  },
  {
   "cell_type": "code",
   "execution_count": 10,
   "metadata": {},
   "outputs": [
    {
     "data": {
      "text/plain": [
       "\"ClientError: OperatorNotImplemented:('The following operators are not supported for frontend ONNX: ScatterND, Range\""
      ]
     },
     "execution_count": 10,
     "metadata": {},
     "output_type": "execute_result"
    }
   ],
   "source": [
    "response = client.describe_compilation_job(\n",
    "    CompilationJobName=job_name\n",
    ")\n",
    "response['FailureReason']"
   ]
  },
  {
   "cell_type": "markdown",
   "metadata": {},
   "source": [
    "# References\n",
    "\n",
    "* ONNX node argument [link](https://microsoft.github.io/onnxruntime/python/api_summary.html#onnxruntime.NodeArg)\n",
    "* ONNX compression with Neo [link](https://github.com/awslabs/amazon-sagemaker-examples/blob/master/sagemaker_neo_compilation_jobs/mxnet_mnist/mxnet_mnist_neo.ipynb)\n",
    "* Hosting ONNX models with Amazon Elastic Inference [link](https://github.com/awslabs/amazon-sagemaker-examples/blob/master/sagemaker-python-sdk/mxnet_onnx_eia/mxnet_onnx_eia.ipynb)\n"
   ]
  },
  {
   "cell_type": "code",
   "execution_count": null,
   "metadata": {},
   "outputs": [],
   "source": []
  }
 ],
 "metadata": {
  "kernelspec": {
   "display_name": "conda_pytorch_latest_p36",
   "language": "python",
   "name": "conda_pytorch_latest_p36"
  },
  "language_info": {
   "codemirror_mode": {
    "name": "ipython",
    "version": 3
   },
   "file_extension": ".py",
   "mimetype": "text/x-python",
   "name": "python",
   "nbconvert_exporter": "python",
   "pygments_lexer": "ipython3",
   "version": "3.6.10"
  }
 },
 "nbformat": 4,
 "nbformat_minor": 4
}
