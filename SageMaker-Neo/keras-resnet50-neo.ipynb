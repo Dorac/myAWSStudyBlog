{
 "cells": [
  {
   "cell_type": "code",
   "execution_count": 1,
   "metadata": {},
   "outputs": [
    {
     "name": "stderr",
     "output_type": "stream",
     "text": [
      "Using TensorFlow backend.\n"
     ]
    },
    {
     "name": "stdout",
     "output_type": "stream",
     "text": [
      "WARNING:tensorflow:From /home/ec2-user/anaconda3/envs/tensorflow_p36/lib/python3.6/site-packages/tensorflow_core/__init__.py:1467: The name tf.estimator.inputs is deprecated. Please use tf.compat.v1.estimator.inputs instead.\n",
      "\n"
     ]
    }
   ],
   "source": [
    "from keras.applications.resnet50 import ResNet50\n",
    "from keras.preprocessing import image\n",
    "from keras.applications.resnet50 import preprocess_input, decode_predictions\n",
    "import numpy as np"
   ]
  },
  {
   "cell_type": "code",
   "execution_count": null,
   "metadata": {},
   "outputs": [],
   "source": [
    "model = ResNet50(weights='imagenet')"
   ]
  },
  {
   "cell_type": "code",
   "execution_count": 3,
   "metadata": {
    "scrolled": true
   },
   "outputs": [
    {
     "name": "stdout",
     "output_type": "stream",
     "text": [
      "Predicted: [('n02109961', 'Eskimo_dog', 0.56537235), ('n02110185', 'Siberian_husky', 0.4156282), ('n02110063', 'malamute', 0.015444505)]\n"
     ]
    }
   ],
   "source": [
    "img_path = './husky.jpeg'\n",
    "img = image.load_img(img_path, target_size=(224, 224))\n",
    "x = image.img_to_array(img)\n",
    "x = np.expand_dims(x, axis=0)\n",
    "x = preprocess_input(x)\n",
    "\n",
    "preds = model.predict(x)\n",
    "# decode the results into a list of tuples (class, description, probability)\n",
    "# (one such list for each sample in the batch)\n",
    "print('Predicted:', decode_predictions(preds, top=3)[0])"
   ]
  },
  {
   "cell_type": "code",
   "execution_count": 4,
   "metadata": {},
   "outputs": [
    {
     "name": "stdout",
     "output_type": "stream",
     "text": [
      "imagenet_class_index.json  resnet50_weights_tf_dim_ordering_tf_kernels.h5\r\n"
     ]
    }
   ],
   "source": [
    "## Keras will download pretrained model to ~/.keras/models\n",
    "!ls ~/.keras/models"
   ]
  },
  {
   "cell_type": "markdown",
   "metadata": {},
   "source": [
    "## SageMaker Neo\n",
    "\n",
    "#### You can't use ~/.keras/models/resnet50_weights_tf_dim_ordering_tf_kernels.h5 into neo. It can't generate the neo model. You must save current model with imagenet weights"
   ]
  },
  {
   "cell_type": "code",
   "execution_count": 5,
   "metadata": {},
   "outputs": [
    {
     "name": "stdout",
     "output_type": "stream",
     "text": [
      "./keras-resnet50-imagenet.h5\n",
      "upload: ./keras-resnet50-imagenet.tar.gz to s3://beyoung-sagemaker-us-east-1/neo/keras-resnet50-imagenet.tar.gz\n"
     ]
    }
   ],
   "source": [
    "## Save model with imagenet weights\n",
    "## You can't use ~/.keras/models/resnet50_weights_tf_dim_ordering_tf_kernels.h5 into neo. It will be failed.\n",
    "model.save('./keras-resnet50-imagenet.h5')\n",
    "\n",
    "## upload to s3\n",
    "!tar cvfz ./keras-resnet50-imagenet.tar.gz ./keras-resnet50-imagenet.h5\n",
    "!aws s3 cp keras-resnet50-imagenet.tar.gz s3://beyoung-sagemaker-us-east-1/neo/keras-resnet50-imagenet.tar.gz "
   ]
  },
  {
   "cell_type": "code",
   "execution_count": 8,
   "metadata": {},
   "outputs": [],
   "source": [
    "## Get sagemaker execution role\n",
    "from sagemaker import get_execution_role\n",
    "role = get_execution_role()"
   ]
  },
  {
   "cell_type": "code",
   "execution_count": null,
   "metadata": {},
   "outputs": [],
   "source": [
    "## Create neo job\n",
    "## neo trouble shooting https://docs.aws.amazon.com/sagemaker/latest/dg/neo-troubleshooting.html\n",
    "## target devices: 'lambda'|'ml_m4'|'ml_m5'|'ml_c4'|'ml_c5'|'ml_p2'|'ml_p3'|'ml_inf1'|'jetson_tx1'|'jetson_tx2'|'jetson_nano'|'rasp3b'|'deeplens'|'rk3399'|'rk3288'|'aisage'|'sbe_c'|'qcs605'|'qcs603'\n",
    "\n",
    "import boto3\n",
    "import time\n",
    "client = boto3.client('sagemaker')\n",
    "job_name_prefix = 'neo-resnet' \n",
    "timestamp = time.strftime('-%Y-%m-%d-%H-%M-%S', time.gmtime()) \n",
    "job_name = job_name_prefix + timestamp\n",
    "data_input_config = '{\"input_1\":[1,3,224,224]}'\n",
    "\n",
    "\n",
    "response = client.create_compilation_job(\n",
    "    CompilationJobName=job_name,\n",
    "    RoleArn=role,\n",
    "    InputConfig={\n",
    "        'S3Uri': 's3://beyoung-sagemaker-us-east-1/neo/keras-resnet50-imagenet.tar.gz',\n",
    "        'DataInputConfig': data_input_config,\n",
    "        'Framework': 'KERAS'\n",
    "    },\n",
    "    OutputConfig={\n",
    "        'S3OutputLocation': 's3://beyoung-sagemaker-us-east-1/neo/output',\n",
    "        'TargetDevice': 'deeplens'\n",
    "    },\n",
    "    StoppingCondition={\n",
    "        'MaxRuntimeInSeconds': 300,\n",
    "        'MaxWaitTimeInSeconds': 300\n",
    "    }\n",
    ")\n",
    "\n",
    "response"
   ]
  },
  {
   "cell_type": "code",
   "execution_count": null,
   "metadata": {},
   "outputs": [],
   "source": []
  }
 ],
 "metadata": {
  "kernelspec": {
   "display_name": "Python 3",
   "language": "python",
   "name": "python3"
  },
  "language_info": {
   "codemirror_mode": {
    "name": "ipython",
    "version": 3
   },
   "file_extension": ".py",
   "mimetype": "text/x-python",
   "name": "python",
   "nbconvert_exporter": "python",
   "pygments_lexer": "ipython3",
   "version": "3.7.3"
  }
 },
 "nbformat": 4,
 "nbformat_minor": 4
}
